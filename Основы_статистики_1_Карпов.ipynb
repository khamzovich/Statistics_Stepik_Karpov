{
  "nbformat": 4,
  "nbformat_minor": 0,
  "metadata": {
    "colab": {
      "name": "Основы статистики_1_Карпов.ipynb",
      "provenance": [],
      "collapsed_sections": [],
      "toc_visible": true,
      "authorship_tag": "ABX9TyMjn5mqQgSswdjEDJ9bxepL",
      "include_colab_link": true
    },
    "kernelspec": {
      "name": "python3",
      "display_name": "Python 3"
    },
    "language_info": {
      "name": "python"
    }
  },
  "cells": [
    {
      "cell_type": "markdown",
      "metadata": {
        "id": "view-in-github",
        "colab_type": "text"
      },
      "source": [
        "<a href=\"https://colab.research.google.com/github/khamzovich/Statistics_Stepik_Karpov/blob/main/%D0%9E%D1%81%D0%BD%D0%BE%D0%B2%D1%8B_%D1%81%D1%82%D0%B0%D1%82%D0%B8%D1%81%D1%82%D0%B8%D0%BA%D0%B8_1_%D0%9A%D0%B0%D1%80%D0%BF%D0%BE%D0%B2.ipynb\" target=\"_parent\"><img src=\"https://colab.research.google.com/assets/colab-badge.svg\" alt=\"Open In Colab\"/></a>"
      ]
    },
    {
      "cell_type": "code",
      "metadata": {
        "id": "rLJt6tBfOCZh",
        "colab": {
          "base_uri": "https://localhost:8080/"
        },
        "outputId": "c0d66e79-c09b-43cd-a0d3-4d319f5e6ed8"
      },
      "source": [
        "import math\n",
        "import numpy as np\n",
        "from numpy import random\n",
        "import pandas as pd\n",
        "\n",
        "# visualization\n",
        "import matplotlib.pyplot as plt\n",
        "from mpl_toolkits.mplot3d import axes3d\n",
        "import plotly.express as px\n",
        "import plotly.graph_objects as go\n",
        "import seaborn as sns\n",
        "\n",
        "from scipy import stats\n",
        "from scipy.stats import linregress\n",
        "import statistics\n",
        "\n",
        "# statsmodels\n",
        "import statsmodels.api as sm\n",
        "import statsmodels.formula.api as smf\n",
        "from statsmodels.graphics.factorplots import interaction_plot\n",
        "from statsmodels.formula.api import ols\n",
        "from statsmodels.stats.anova import anova_lm\n",
        "from statsmodels.stats.multicomp import (pairwise_tukeyhsd, MultiComparison)"
      ],
      "execution_count": 1,
      "outputs": [
        {
          "output_type": "stream",
          "name": "stderr",
          "text": [
            "/usr/local/lib/python3.7/dist-packages/statsmodels/tools/_testing.py:19: FutureWarning:\n",
            "\n",
            "pandas.util.testing is deprecated. Use the functions in the public API at pandas.testing instead.\n",
            "\n"
          ]
        }
      ]
    },
    {
      "cell_type": "markdown",
      "metadata": {
        "id": "emTu4MTqsIin"
      },
      "source": [
        "<img src='https://nbviewer.jupyter.org/github/FyoklaBorschova/math_stat/blob/master/pictures/marshrut.jpg'>"
      ]
    },
    {
      "cell_type": "markdown",
      "metadata": {
        "id": "kjuzn-_sOCZj"
      },
      "source": [
        "\n",
        "# [Основы статистики (Часть 1)](https://stepik.org/course/76/syllabus/)\n",
        "\n",
        "Автор лекций: **Анатолий Карпов**\n",
        "\n",
        "Конспект: **EG**"
      ]
    },
    {
      "cell_type": "markdown",
      "metadata": {
        "id": "2fEP835rOCZk"
      },
      "source": [
        "## Содержание"
      ]
    },
    {
      "cell_type": "markdown",
      "metadata": {
        "id": "AwDJySQbOCZk"
      },
      "source": [
        "### Часть 1 Введение\n",
        " - [1.2 Генеральная совокупность и выборка](#1.2-Генеральная-совокупность-и-выборка)\n",
        " - [1.3 Типы переменных](#1.3-Типы-переменных)\n",
        " - [Описательная статистика](#Описательная-статистика)\n",
        " - [1.4 Меры центральной тенденции](#1.4-Меры-центральной-тенденции)\n",
        "     - [Мода](#Мода)\n",
        "     - [Медиана](#Медиана)\n",
        "     - [Среднее значение](#Среднее-значение)\n",
        "     - [Примеры](#1.Примеры)\n",
        " - [1.5 Меры изменчивости](#1.5-Меры-изменчивости)\n",
        "    - [Размах](#Размах)\n",
        "    - [Дисперсия](#Дисперсия)\n",
        "    - [Квартили распределения](#Квартили-распределения)\n",
        "    - [Пример](#2.Пример)\n",
        " - [1.7 Нормальное распределение](#1.7-Нормальное-распределение)\n",
        "    - [Z-преобразование](#Z-преобразование)\n",
        "    - [Правило 3х-сигм](#Правило-3х-сигм)\n",
        "    - [Примеры](#3.Примеры)\n",
        " - [1.8 Центральная предельная теорема](#1.8-Центральная-предельная-теорема)\n",
        "    - [Примеры](#4.Примеры)\n",
        " - [1.9 Доверительные интервалы для среднего](#1.9-Доверительные-интервалы-для-среднего)\n",
        " - [1.10 Идея статистического вывода](#1.10-Идея-статистического-вывода)\n",
        "     - [Статистическая проверка гипотез](#Статистическая-проверка-гипотез)\n",
        "     - [p-уровень значимости](#p-уровень-значимости)"
      ]
    },
    {
      "cell_type": "markdown",
      "metadata": {
        "id": "uCJ3_D20OCZk"
      },
      "source": [
        "### Часть 2 Сравнение средних\n",
        " - [2.1 T-распределение](#2.1-T-распределение)\n",
        "     - [Подробно про нормальное и t-распредление](#Подробно-про-нормальное-и-t-распредление)\n",
        "     - [Примеры](#5.Примеры)\n",
        " - [2.2 Сравнение двух средних; t-критерий Стьюдента](#2.2-Сравнение-двух-средних.-t-критерий-Стьюдента)\n",
        "     - [Примеры применения t-критерий Стьюдента](#Примеры-применения-t-критерий-Стьюдента)\n",
        "     - [Построение графиков](#6.-Примеры)\n",
        " - [2.3 Проверка распределения на нормальность](#2.3-Проверка-распределения-на-нормальность)\n",
        "     - [QQ-plot](#QQ-plot)\n",
        "     - [Примеры](#7.Примеры)\n",
        " - [2.4 Однофакторный дисперсионный анализ](#2.4-Однофакторный-дисперсионный-анализ)\n",
        " - [2.5 Множественные сравнения в ANOVA](#2.5-Множественные-сравнения-в-ANOVA)\n",
        "     - [почему мы не можем применить t-критерий для более двух выборок](#почему-мы-не-можем-применить-t-критерий-для-более-двух-выборок)\n",
        " - [2.6 Многофакторный ANOVA](#2.6-Многофакторный-ANOVA)\n",
        " - [2.7 АБ тесты и статистика](#2.7-АБ-тесты-и-статистика)\n",
        "  "
      ]
    },
    {
      "cell_type": "markdown",
      "metadata": {
        "id": "uOTT0EY7OCZl"
      },
      "source": [
        "### Часть 3 Корреляция и регрессия\n",
        "\n",
        " - [3.1 Понятие корреляции](#3.1-Понятие-корреляции)\n",
        "     - [Ковариация](#Ковариация)\n",
        "     - [Примеры](#Примеры-3.1)\n",
        " - [3.2 Условия применения коэффициента корреляции](#3.2-Условия-применения-коэффициента-корреляции)\n",
        " - [3.3 Регрессия с одной независимой переменной](#3.3-Регрессия-с-одной-независимой-переменной)\n",
        " - [3.4 Гипотеза о значимости взаимосвязи и коэффициент детерминации](#3.4-Гипотеза-о-значимости-взаимосвязи-и-коэффициент-детерминации)\n",
        " - [3.5 Условия применения линейной регрессии с одним предиктором](#3.5-Условия-применения-линейной-регрессии-с-одним-предиктором)\n",
        " - [3.6 Применение регрессионного анализа и интерпретация результатов](#3.6-Применение-регрессионного-анализа-и-интерпретация-результатов)\n",
        " - [3.7 Задача предсказания значений зависимой переменной](#3.7-Задача-предсказания-значений-зависимой-переменной)\n",
        " - [3.8 Регрессионный анализ с несколькими независимыми переменными](#3.8-Регрессионный-анализ-с-несколькими-независимыми-переменными)\n",
        "     - [Пример расчёта и визуализации множественной регрессии](#Пример-расчёта-и-визуализации-множественной-регрессии)\n",
        " - [3.9 Выбор наилучшей модели](#3.9-Выбор-наилучшей-модели)\n",
        " - [3.10 Классификация: логистическая регрессия и кластерный анализ](#3.10-Классификация:-логистическая-регрессия-и-кластерный-анализ)\n",
        " - [3.11 GLM и продвинутые темы](#3.11-GLM-и-продвинутые-темы)\n",
        " - [3.12  Заключение](#3.12-Заключение)\n",
        " - [](#)\n",
        "   \n",
        " \n",
        " \n",
        "\n",
        "[Полезные ссылки](#Полезные-ссылки)"
      ]
    },
    {
      "cell_type": "markdown",
      "metadata": {
        "id": "SDRZpvOJOCZm"
      },
      "source": [
        "# Часть 1 Введение"
      ]
    },
    {
      "cell_type": "markdown",
      "metadata": {
        "id": "KycXyp9AOCZm"
      },
      "source": [
        "## 1.2 Генеральная совокупность и выборка\n",
        "[Вернуться к содержанию](#Содержание)"
      ]
    },
    {
      "cell_type": "markdown",
      "metadata": {
        "id": "C0ZyvEWPOCZn"
      },
      "source": [
        "- **Генеральная совокупность** (от лат. generis — общий, родовой) — совокупность всех объектов, относительно которых предполагается делать выводы при изучении конкретной задачи. Далее ГС.\n",
        "- **Репрезентативная выборка** – это такая выборка, в которой все основные признаки генеральной совокупности, из которой извлечена данная выборка, представлены приблизительно в той же пропорции или с той же частотой, с которой данный признак выступает в этой генеральной совокупности.\n",
        "\n",
        "### Способы репрезентативной выборки\n",
        "- **Простая случайная выборка** (simple random sample)\n",
        "- **Стратифицированная выборка** (stratified sample) – разделение ГС на страты (группы) а оттуда уже делается случайная выборка.\n",
        "- **Групповая выборка** (cluster sample) – похожие группы выбираются из выборки и далее делается случайная выборка (например, районы одного города)\n",
        " \n",
        "| групповая выборка                                                                                                                | Стратифицированная выборка                                                                              |\n",
        "|----------------------------------------------------------------------------------------------------------------------------------|---------------------------------------------------------------------------------------------------------|\n",
        "| Выборка формируется только из несколько субпопуляций (кластеров)                                                                 | Выборка формируется из всех субпопуляций (страт)                                                        |\n",
        "| В пределах кластера элементы должны быть разнородны, тогда как поддерживается однородность или схожесть между разными кластерами | В пределах страты элементы должны быть однородны, а между стратами должна быть разнородность (различия) |\n",
        "| Схема выборки нужна только для кластеров, попавших в выборку                                                                     | Должна быть сформирована полная схема выборки для всех стратифицированных субпопуляций                  |\n",
        "| Повышает эффективность выборки, уменьшая стоимость                                                                               | Повышает точность                                                                                       |\n",
        "\n"
      ]
    },
    {
      "cell_type": "markdown",
      "metadata": {
        "id": "RkuQlBqxbNAI"
      },
      "source": [
        "## 1.3 Типы переменных\n",
        "[Вернуться к содержанию](#Содержание)"
      ]
    },
    {
      "cell_type": "markdown",
      "metadata": {
        "id": "N9r2blsiOCZn"
      },
      "source": [
        " - **Числовые (Количественные)** – измеряемые (например, рост):\n",
        "    - **Непрерывные** – переменная принимает любое значение на определенном промежутке (расстояние, температура);\n",
        "    - **Дискретные** – только определенные значения (3.5 ребенка в семье не будет).\n",
        " - **Категориальные (Номинативные, Качественные)** – разделение испытуемых на группы, цифры как маркеры (например: 1 – женщины, 2 – мужчины). Цифры как имена групп, не для расчетов. \n",
        " - **Ранговые** – похожи на номинативные, только возможны сравнения (быстрее/медленнее и т.п.)"
      ]
    },
    {
      "cell_type": "markdown",
      "metadata": {
        "id": "_9KB2FfaOCZo"
      },
      "source": [
        "### Описательная статистика\n",
        "**Глоссарий:**\n",
        " - **Эмпирические данные** - данные полученные опытным путём.\n",
        "\n",
        " - **Описательная (дескриптивная) статистика** - обработка данных полученных эмпирическим путём и их систематизация, наглядное представление в форме графиков, таблиц, а также их количественное описание посредством основных статистических показателей.\n",
        "\n",
        " - **Распределение вероятностей** - это закон, описывающий область значений случайной величины и вероятность её появления (частоту) в данной области. То есть насколько часто X появляется в данном диапазоне значений.\n",
        "\n",
        " - **Гистограмма частот** - ступенчатая функция показывающая насколько часто вероятно появление величины в указанном диапазоне значений.\n"
      ]
    },
    {
      "cell_type": "markdown",
      "metadata": {
        "id": "3rd-sNU3OCZo"
      },
      "source": [
        "## 1.4 Меры центральной тенденции\n",
        "[Вернуться к содержанию](#Содержание)\n",
        "\n",
        "**Мода**\n",
        "\n",
        "Это значение признака, которое встречается максимально часто. В выборке может быть несколько или одна мода.\n",
        "\n",
        "**Медиана**\n",
        "\n",
        "Это значение признака, которое делит упорядочное множество пополам. Если множество содержит чётное количество элементов, то берётся среднее из двух серединных элементов упорядочного множества.\n",
        "\n",
        "**Среднее значение**\n",
        "\n",
        "Cумма всех значений измеренного признака делится на количество измеренных значений.\n",
        "\n",
        "**Свойства среднего значения**\n",
        "\n",
        "$M_{x + c} = \\frac{\\overset{n}{\\underset{i=1}{\\sum}}{(x_{i} + c)}}{n} = \\frac{\\overset{n}{\\underset{i=1}{\\sum}} x_{i}}{n} + \\frac{\\overset{n}{\\underset{i=1}{\\sum}} c}{n} = M_{x} + \\frac{nc}{n} = M_{x} + c$\n",
        "\n",
        "$M_{x * c} = \\frac{\\overset{n}{\\underset{i=1}{\\sum}}{(x_{i} \\cdot c)}}{n} = \\frac{c \\cdot \\overset{n}{\\underset{i=1}{\\sum}} x_{i}}{n} = c \\cdot M_{x}$\n",
        "\n",
        "$\\overset{n}{\\underset{i=1}{\\sum}} (x_{i} - M_{x}) = n \\cdot M_{x} - n \\cdot M_{x} = 0$,\n",
        "\n",
        "также среднее значение генеральной совокупности обозначается греческой буквой $\\mu$, а выборки - $\\overline{X}$."
      ]
    },
    {
      "cell_type": "markdown",
      "metadata": {
        "id": "Qv5TPyvYOCZo"
      },
      "source": [
        "### Вычисление моды, медианы, среднего в Python"
      ]
    },
    {
      "cell_type": "code",
      "metadata": {
        "colab": {
          "base_uri": "https://localhost:8080/"
        },
        "id": "3CCnHzjxOCZp",
        "outputId": "aeafea91-affc-44d6-b932-73314cbfafa8"
      },
      "source": [
        "# Расчёт моды, медианы и среднего с помощью библиотек numpy и scipy\n",
        "\n",
        "sample = np.array([185, 175, 170, 169, 171, 175, 157, 172, 170, 172, 167, 173, 168, 167, 166,\n",
        "              167, 169, 172, 177, 178, 165, 161, 179, 159, 164, 178, 172, 170, 173, 171])\n",
        "# в numpy почему-то нет моды\n",
        "print('mode:', stats.mode(sample))\n",
        "print('median:', np.median(sample))\n",
        "print('mean:', np.mean(sample))"
      ],
      "execution_count": 2,
      "outputs": [
        {
          "output_type": "stream",
          "name": "stdout",
          "text": [
            "mode: ModeResult(mode=array([172]), count=array([4]))\n",
            "median: 170.5\n",
            "mean: 170.4\n"
          ]
        }
      ]
    },
    {
      "cell_type": "code",
      "metadata": {
        "colab": {
          "base_uri": "https://localhost:8080/"
        },
        "id": "pF2dqxNMOCZp",
        "outputId": "5e54d3f3-fdd1-4e41-9677-329413af135e"
      },
      "source": [
        "# Расчёт моды, медианы и среднего с помощью библиотеки pandas\n",
        "\n",
        "sample = pd.Series([185, 175, 170, 169, 171, 175, 157, 172, 170, 172, 167, 173, 168, 167, 166,\n",
        "              167, 169, 172, 177, 178, 165, 161, 179, 159, 164, 178, 172, 170, 173, 171])\n",
        "\n",
        "print('mode:', sample.mode())\n",
        "print('median:', sample.median())\n",
        "print('mean:', sample.mean())"
      ],
      "execution_count": 3,
      "outputs": [
        {
          "output_type": "stream",
          "name": "stdout",
          "text": [
            "mode: 0    172\n",
            "dtype: int64\n",
            "median: 170.5\n",
            "mean: 170.4\n"
          ]
        }
      ]
    },
    {
      "cell_type": "markdown",
      "metadata": {
        "id": "5_myQM5tOCZq"
      },
      "source": [
        "## 1.5 Меры изменчивости\n",
        "[Вернуться к содержанию](#Содержание)"
      ]
    },
    {
      "cell_type": "markdown",
      "metadata": {
        "id": "VIP38trNOCZq"
      },
      "source": [
        "**Размах** (Range) - разность между максимальным и минимальным значениям выборки. Крайне чувствителен к выбросам.\n",
        "\n",
        "$R = X_{max} - X_{min}$\n",
        "\n",
        "**Дисперсия** (Variance) - средний квадрат отклонений индивидуальных значений признака от их средней величины\n",
        "\n",
        "**Дисперсия для генеральной совокупности**\n",
        "\n",
        "$D = \\frac{\\sum_{i=1}^{n} (x_{i} - \\mu)^2}{n}$\n",
        "\n",
        "**Среднеквадратическое отклонение для генеральной совокупности**\n",
        "\n",
        "$ \\sigma = \\sqrt{D}$, где\n",
        "\n",
        "$x_i$ - отдельное значение\n",
        "\n",
        "$\\mu$ - среднее генеральной совокупности\n",
        "\n",
        "$n$ - размер генеральной совокупности\n",
        "\n",
        "**Дисперсия для выборки**\n",
        "\n",
        "$D = \\frac{\\sum_{i=1}^{n} (x_{i} - \\overline{X})^2}{n-1}$\n",
        "\n",
        "**Среднеквадратическое отклонение для выборки**\n",
        "\n",
        "$ {sd} = \\sqrt{D}$, где\n",
        "\n",
        "$\\overline{X}$ - среднее значение выборки\n",
        "\n",
        "$1$ - это количество степеней свободы\n",
        "\n",
        "Важно отметить, что среднеквадратическое отклонение **для выборки** обозначают по другому, как $sd$ - standart deviation\n",
        "\n",
        "**Свойства дисперсии**\n",
        "\n",
        "$ D_{x+c} = D_x $\n",
        "\n",
        "$ D_{x*c} = D_x+c^2 $"
      ]
    },
    {
      "cell_type": "markdown",
      "metadata": {
        "id": "nd1lswf9_ziT"
      },
      "source": [
        "**Квантили распределения**\n",
        "\n",
        "* **Квантиль** – значение, которое заданная случайная величина не превышает с фиксированной вероятностью: $P(X ≤ x_α) ≥ α$\n",
        "\n",
        "* **Квартили** - это три точки (значения признака), которые делят **упорядочное** множество данных на 4 равные части.\n",
        "\n",
        "* **Box plot** - такой вид диаграммы в удобной форме показывает медиану, нижний и верхний квартили, минимальное и максимальное значение выборки и выбросы.\n",
        "\n",
        "<img src=\"https://b.radikal.ru/b24/2103/9d/244f7a8bcb03.png\" width=400>\n",
        "\n",
        "$IQR$ - интерквартильный размах, число, которое показывает разброс средней половины (т.е. средние 50%) набора данных и помогает определить выбросы.\n",
        "\n",
        "$IQR = Q3 - Q1$\n",
        "\n",
        "**Квартили и IQR (inter quartile range)** используют, чтобы оценить наличие выбросов. Алгоритм расчета - посчитали квартили, посчитали разницу между ними, вычислили теоретический максимум и минимум, сравнили с имеющимся и выяснили есть ли у вас выбросы и сколько их. Если много, то нужно анализировать и решать брать ли их в выборку или нет.\n",
        "\n",
        "**Выбросы** — это, проще говоря, те значения данных, которые находятся за пределами следующих интервалов: Q1–1.5 x IQR и Q3 + 1.5 x IQR."
      ]
    },
    {
      "cell_type": "markdown",
      "metadata": {
        "id": "sgHPGUEtOCZq"
      },
      "source": [
        "### Вычисление размаха и стандартного отклонения в Python"
      ]
    },
    {
      "cell_type": "code",
      "metadata": {
        "colab": {
          "base_uri": "https://localhost:8080/"
        },
        "id": "kvoU2JO5OCZq",
        "outputId": "63643314-660e-470b-c662-cc6229a73fb2"
      },
      "source": [
        "# Расчитываем размах и стандартное отклонение с помощью numpy\n",
        "sample = np.array([185, 175, 170, 169, 171, 175, 157, 172, 170, 172, 167, 173, 168, 167, 166,\n",
        "              167, 169, 172, 177, 178, 165, 161, 179, 159, 164, 178, 172, 170, 173, 171])\n",
        "\n",
        "# The name of the function comes from the acronym for ‘peak to peak’.\n",
        "print(f'Range: {np.ptp(sample)} is equal max - min: {np.max(sample) - np.min(sample)}')\n",
        "\n",
        "# ddof - Delta Degrees of Freedom\n",
        "print(f'Standard deviation: {np.std(sample, ddof=1):.2f}')"
      ],
      "execution_count": 4,
      "outputs": [
        {
          "output_type": "stream",
          "name": "stdout",
          "text": [
            "Range: 28 is equal max - min: 28\n",
            "Standard deviation: 6.00\n"
          ]
        }
      ]
    },
    {
      "cell_type": "markdown",
      "metadata": {
        "id": "NYxL1LIIOCZr"
      },
      "source": [
        "### Диаграмма boxplot"
      ]
    },
    {
      "cell_type": "code",
      "metadata": {
        "colab": {
          "base_uri": "https://localhost:8080/",
          "height": 265
        },
        "id": "cc9Fm8qLOCZr",
        "outputId": "4659dd63-d673-4317-d341-14aaddf56b17"
      },
      "source": [
        "# с помощью диаграммы boxplot мы можем узнать медиану, 2 и 3 квартиль\n",
        "plt.boxplot(sample, showfliers=1)\n",
        "plt.show()"
      ],
      "execution_count": 5,
      "outputs": [
        {
          "output_type": "display_data",
          "data": {
            "image/png": "[encoded data removed]",
            "text/plain": [
              "<Figure size 432x288 with 1 Axes>"
            ]
          },
          "metadata": {
            "needs_background": "light"
          }
        }
      ]
    },
    {
      "cell_type": "markdown",
      "metadata": {
        "id": "eWZxKvlfOCZr"
      },
      "source": [
        "## 1.7 Нормальное распределение\n",
        "[Вернуться к содержанию](#Содержание)"
      ]
    },
    {
      "cell_type": "markdown",
      "metadata": {
        "id": "C8siJkxNOCZr"
      },
      "source": [
        "**Унимодальное распределение** - распределение, которое имеет только одну моду.\n",
        "\n",
        "**Характерные черты нормального распределения**\n",
        " - Унимодально\n",
        " - Симметрично\n",
        " - Отклонения наблюдений от среднего подчиняются определённому вероятностному закону\n",
        " \n",
        "**Подробно**\n",
        "\n",
        "Нормальное распределение возникает в результате воздействия множества факторов, вклад каждого из которых очень мал.\n",
        "\n",
        "Для облегчения этого восприятия в 1873 году Фрэнсис Гальтон сделал устройство, которое в последствии назвали Доской Галтона (или квинкункс). Суть простая: сверху по середине подаются шарики, которые при прохождении нескольких уровней (например, 10-ти) на каждом уровне сталкиваются с препятствием, и при каждом столкновении отскакивают либо влево, либо вправо (с равной вероятностью).\n",
        "\n",
        "Как вы догадываетесь, результатом прохождения - это распределение, стремящееся к нормальному!\n",
        "\n",
        "Выглядит это так:\n",
        "\n",
        "<img src=\"https://s4.gifyu.com/images/D0B3D0B0D0BBD18CD182D0BED0BD.gif\" width=500>\n",
        "\n",
        "Или в виде кода:"
      ]
    },
    {
      "cell_type": "code",
      "metadata": {
        "colab": {
          "base_uri": "https://localhost:8080/",
          "height": 265
        },
        "id": "SvQ_LA_cOCZs",
        "outputId": "ccf5b4ee-7eb6-4f85-c80f-cab0869ca5b8"
      },
      "source": [
        "# Иммитация доски Гальтона в коде\n",
        "data = dict()\n",
        "# количество шариков\n",
        "N = 10000\n",
        "# количество уровней\n",
        "level = 20\n",
        "for _ in range(N):\n",
        "    index = 0\n",
        "    for _ in range(level):\n",
        "        index += np.random.choice([-1, 1])\n",
        "    data.setdefault(index, 0)\n",
        "    data[index] += 1\n",
        "sns.barplot(x=list(data.keys()), y=list(data.values()));"
      ],
      "execution_count": 6,
      "outputs": [
        {
          "output_type": "display_data",
          "data": {
            "image/png": "[encoded data removed]",
            "text/plain": [
              "<Figure size 432x288 with 1 Axes>"
            ]
          },
          "metadata": {
            "needs_background": "light"
          }
        }
      ]
    },
    {
      "cell_type": "markdown",
      "metadata": {
        "id": "OhCuyR5RzoVj"
      },
      "source": [
        "### Правило 3х-сигм"
      ]
    },
    {
      "cell_type": "markdown",
      "metadata": {
        "id": "r_v3cLJqzfAH"
      },
      "source": [
        "![image_2021-09-17_110951.png](data:image/png;base64,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)"
      ]
    },
    {
      "cell_type": "markdown",
      "metadata": {
        "id": "m-y0gcKZOCZs"
      },
      "source": [
        "**Нормальное распределение** унимодально, симметрично, отклонения наблюдений от среднего подчиняются определенному вероятностному закону (правило $3σ$):\n",
        "\n",
        "$P(x - σ < X < x + σ) = 0.6826$\n",
        "\n",
        "$P(x - 2σ < X < x + 2σ) = 0.9544$\n",
        "\n",
        "$P(x - 3σ < X < x + 3σ) = 0.9972$"
      ]
    },
    {
      "cell_type": "markdown",
      "metadata": {
        "id": "cfj5rnGeWPDt"
      },
      "source": [
        "### Z-преобразование"
      ]
    },
    {
      "cell_type": "markdown",
      "metadata": {
        "id": "_tZHWY1GTY0_"
      },
      "source": [
        "Преобразование полученных данных в стандартную Z-шкалу (Z-scores) со средним значением $M_z = 0$ и дисперсией $D_z = 1$. Чтобы привести к такому виду из каждого наблюдения нужно отнять среднее значение и разделить на стандартное отклонение. \n",
        "\n",
        "$$ Z_{i}=\\frac{x_{i} - \\overline{X}}{sd_x} $$\n",
        "\n",
        "Z-преобразование наглядно показывает, сколько стандартных отклонений между значениями (1 стандартное отклонение = 1 шагу на графике).\n",
        "\n",
        "[Online-калькулятор для вычисления Z](http://davidmlane.com/hyperstat/z_table.html)\n",
        "\n",
        "[Online-калькулятор для вычисления z, t, F и пр.](https://gallery.shinyapps.io/dist_calc/)"
      ]
    },
    {
      "cell_type": "markdown",
      "metadata": {
        "id": "acBFeT0jVSXk"
      },
      "source": [
        "### Вычисление Z в Python"
      ]
    },
    {
      "cell_type": "markdown",
      "metadata": {
        "id": "gFOIK8VpTvxg"
      },
      "source": [
        "`scipy.stats.norm.cdf()` - накопительная функция нормального распределения по известному $Z$. Т.е. сколько % от выборки расположены до/меньше заданной величины (**черная** область на изображении).\n",
        "\n",
        "<img src='https://nbviewer.jupyter.org/github/FyoklaBorschova/math_stat/blob/master/pictures/z_below.jpg'>\n",
        "\n",
        "\n"
      ]
    },
    {
      "cell_type": "code",
      "metadata": {
        "colab": {
          "base_uri": "https://localhost:8080/"
        },
        "id": "LSNq3qp3UgE6",
        "outputId": "3e07f325-3f33-4c04-f4ed-c45d1f217dbc"
      },
      "source": [
        "# from scipy import stats \n",
        "print(f'На промежутке [-∞ ; 0,8σ] расположено {stats.norm.cdf(0.8):.2%} значений')"
      ],
      "execution_count": 7,
      "outputs": [
        {
          "output_type": "stream",
          "name": "stdout",
          "text": [
            "На промежутке [-∞ ; 0,8σ] расположено 78.81% значений\n"
          ]
        }
      ]
    },
    {
      "cell_type": "markdown",
      "metadata": {
        "id": "ModEzHwXUptB"
      },
      "source": [
        "`scipy.stats.norm.sf()` - сколько % от выборки расположены после/больше заданной величины (**черная** область на изображении).\n",
        "\n",
        "<img src='https://nbviewer.jupyter.org/github/FyoklaBorschova/math_stat/blob/master/pictures/z_above.jpg'>\n",
        "\n"
      ]
    },
    {
      "cell_type": "code",
      "metadata": {
        "colab": {
          "base_uri": "https://localhost:8080/"
        },
        "id": "yQ6v5U9PVeOZ",
        "outputId": "a574a7af-a930-42da-b141-c0b0679ec9f5"
      },
      "source": [
        "# from scipy import stats\n",
        "print(f'На промежутке [0,8σ ; +∞] расположено {(stats.norm.sf(0.8)):.2%} значений')"
      ],
      "execution_count": 8,
      "outputs": [
        {
          "output_type": "stream",
          "name": "stdout",
          "text": [
            "На промежутке [0,8σ ; +∞] расположено 21.19% значений\n"
          ]
        }
      ]
    },
    {
      "cell_type": "markdown",
      "metadata": {
        "id": "7LZYBDX3VrqY"
      },
      "source": [
        "`st.norm.cdf(z2) - st.norm.cdf(z1)` - сколько % от выборки расположены внутри заданного промежутка (**черная** область на изображении).\n",
        "\n",
        "<img src='https://nbviewer.jupyter.org/github/FyoklaBorschova/math_stat/blob/master/pictures/z_between.jpg'>"
      ]
    },
    {
      "cell_type": "code",
      "metadata": {
        "colab": {
          "base_uri": "https://localhost:8080/"
        },
        "id": "nxGuXdhUV4PW",
        "outputId": "6d2aedd0-4370-4d7d-b404-774ac7fd6851"
      },
      "source": [
        "#from scipy import stats \n",
        "print(f'На промежутке [-2σ ; 0,8σ] расположено {(stats.norm.cdf(0.8) - stats.norm.cdf(-2)):.2%} значений')"
      ],
      "execution_count": 9,
      "outputs": [
        {
          "output_type": "stream",
          "name": "stdout",
          "text": [
            "На промежутке [-2σ ; 0,8σ] расположено 76.54% значений\n"
          ]
        }
      ]
    },
    {
      "cell_type": "markdown",
      "metadata": {
        "id": "WtrpLA4OWexh"
      },
      "source": [
        "`st.norm.cdf(z1) + st.norm.sf(z2)` - сколько % от выборки расположены за пределами заданного промежутка (**черная** область на изображении).\n",
        "\n",
        "<img src='https://nbviewer.jupyter.org/github/FyoklaBorschova/math_stat/blob/master/pictures/z_outside.jpg'>"
      ]
    },
    {
      "cell_type": "code",
      "metadata": {
        "colab": {
          "base_uri": "https://localhost:8080/"
        },
        "id": "ZGzzKl15Wqky",
        "outputId": "f3c2f3f9-40bb-46a8-b3be-a5e7ba3478ac"
      },
      "source": [
        "#from scipy import stats \n",
        "print(f'На промежутке [-∞ ; -2σ] U [0,8σ ; +∞] расположено {(stats.norm.sf(0.8) + stats.norm.cdf(-2)):.2%} значений')"
      ],
      "execution_count": 10,
      "outputs": [
        {
          "output_type": "stream",
          "name": "stdout",
          "text": [
            "На промежутке [-∞ ; -2σ] U [0,8σ ; +∞] расположено 23.46% значений\n"
          ]
        }
      ]
    },
    {
      "cell_type": "markdown",
      "metadata": {
        "id": "zB_irkeYXvKc"
      },
      "source": [
        "`st.norm.ppf()` - вычисление значения $Z$ по известному значению накопительной функции распределения. Обратное значение от `st.norm.cdf()`"
      ]
    },
    {
      "cell_type": "code",
      "metadata": {
        "colab": {
          "base_uri": "https://localhost:8080/"
        },
        "id": "QuO7lX8zX1VR",
        "outputId": "3b85189c-1607-4f9d-d673-c10a8c347f24"
      },
      "source": [
        "#from scipy import stats \n",
        "print(f'st.norm.ppf(st.norm.cdf(0.8)) = {stats.norm.ppf(stats.norm.cdf(0.8)):.1f}')\n",
        "print(f'st.norm.ppf(st.norm.cdf(-2)) = {stats.norm.ppf(stats.norm.cdf(-2)):.1f}')"
      ],
      "execution_count": 11,
      "outputs": [
        {
          "output_type": "stream",
          "name": "stdout",
          "text": [
            "st.norm.ppf(st.norm.cdf(0.8)) = 0.8\n",
            "st.norm.ppf(st.norm.cdf(-2)) = -2.0\n"
          ]
        }
      ]
    },
    {
      "cell_type": "markdown",
      "metadata": {
        "id": "quEFta8VOCZs"
      },
      "source": [
        "### Примеры"
      ]
    },
    {
      "cell_type": "code",
      "metadata": {
        "colab": {
          "base_uri": "https://localhost:8080/"
        },
        "id": "XF4uGCFdOCZs",
        "outputId": "b3fb57a0-2ac7-406e-9fa8-32bd2f83e583"
      },
      "source": [
        "''' Считается, что значение IQ (уровень интеллекта) у людей имеет нормальное распределение\n",
        "со средним значением равным 100 и стандартным отклонением равным 15 (M = 100, sd = 15).\n",
        "Какой приблизительно процент людей обладает IQ > 125?\n",
        "'''\n",
        "\n",
        "mean = 100\n",
        "std = 15\n",
        "IQ = 125\n",
        "# sf - Survival function = (1 - cdf) - Cumulative distribution function\n",
        "print(f\"Только у {(stats.norm(mean, std).sf(IQ))*100:.2f}% людей, IQ > {IQ}\")"
      ],
      "execution_count": 12,
      "outputs": [
        {
          "output_type": "stream",
          "name": "stdout",
          "text": [
            "Только у 4.78% людей, IQ > 125\n"
          ]
        }
      ]
    },
    {
      "cell_type": "markdown",
      "metadata": {
        "id": "sCxbVFIAOCZs"
      },
      "source": [
        "## 1.8 Центральная предельная теорема (CLT)\n",
        "[Вернуться к содержанию](#Содержание)"
      ]
    },
    {
      "cell_type": "markdown",
      "metadata": {
        "id": "jyGs_dlLOjSQ"
      },
      "source": [
        "**Визуализация:**\n",
        "\n",
        "[Central Limit Theorem for Means](https://gallery.shinyapps.io/CLT_mean/)"
      ]
    },
    {
      "cell_type": "markdown",
      "metadata": {
        "id": "1UjjWYZpOCZt"
      },
      "source": [
        "Множество средних выборок из генеральной совокупности (ГС необязательно иметь нормальное распределение) будут иметь нормальное распределение. Причём средняя этого распределения будет близко к средней генеральной совокупности, а стандарное отклонение этого распределение будет называться **стандарной ошибкой среднего** ($se$).\n",
        "\n",
        "Зная стандартное отклонение ГС и размер выборки мы можем рассчитать стандартную ошибку среднего.\n",
        "\n",
        "$ se = \\frac{\\sigma}{\\sqrt{N}} $, где\n",
        "\n",
        "$\\sigma$ - среднеквадратичное отклонение ГС ($\\sigma = \\sqrt{D}$)\n",
        "\n",
        "$N$ - размер генеральной совокупности.\n",
        "\n",
        "Если размер выборки $n$ достаточно большой ($n > 30$) и она является репрезентативной, то вместо стандарного отклонения ГС мы можем взять стандарное отклонение выборки.\n",
        "\n",
        "$ se = \\frac{sd}{\\sqrt{n}} $, где\n",
        "\n",
        "$sd$ - среднеквадратичное отклонение выборки ($sd = \\sqrt{D}$)\n",
        "\n",
        "$n$ - размер выборки.\n",
        "\n",
        "**Стандартная ошибка среднего** - это среднеквадратическое отклонение распределения выборочных средних"
      ]
    },
    {
      "cell_type": "markdown",
      "metadata": {
        "id": "ZehYxhSGOCZt"
      },
      "source": [
        "### Примеры"
      ]
    },
    {
      "cell_type": "code",
      "metadata": {
        "colab": {
          "base_uri": "https://localhost:8080/",
          "height": 283
        },
        "id": "AFfdjuEYOCZt",
        "outputId": "30f628a8-450b-4c80-d424-663ab73cf588"
      },
      "source": [
        "# значения игральной кости\n",
        "dice = [1, 2, 3, 4, 5, 6]\n",
        "# количество бросков кости\n",
        "count = 6\n",
        "# размер генеральной совокупность\n",
        "sp_size = 10000\n",
        "# sp - Statistical population - генеральная совокупность\n",
        "sp = pd.Series(dtype=np.int64, index=range(sp_size))\n",
        "for i in range(sp_size):\n",
        "    value = 0\n",
        "    for _ in range(count):\n",
        "        value += np.random.choice(dice)\n",
        "    sp[i] = value\n",
        "\n",
        "sp.plot.hist(bins=28)"
      ],
      "execution_count": 13,
      "outputs": [
        {
          "output_type": "execute_result",
          "data": {
            "text/plain": [
              "<matplotlib.axes._subplots.AxesSubplot at 0x7fdbe98e5b10>"
            ]
          },
          "metadata": {},
          "execution_count": 13
        },
        {
          "output_type": "display_data",
          "data": {
            "image/png": "[encoded data removed]",
            "text/plain": [
              "<Figure size 432x288 with 1 Axes>"
            ]
          },
          "metadata": {
            "needs_background": "light"
          }
        }
      ]
    },
    {
      "cell_type": "code",
      "metadata": {
        "colab": {
          "base_uri": "https://localhost:8080/",
          "height": 537
        },
        "id": "Wsi7sn_POCZt",
        "outputId": "de35b2bc-3c8b-4b4a-e6d5-ba828c1688ac"
      },
      "source": [
        "# количество выборок\n",
        "samples_count = 10\n",
        "# размер выборки\n",
        "sample_size = 200\n",
        "samples = pd.DataFrame([\n",
        "    [np.random.choice(sp) for _ in range(sample_size)] for __ in range(samples_count)\n",
        "]).T\n",
        "\n",
        "samples.hist(figsize=(16, 10), sharex=0)\n",
        "plt.subplots_adjust(hspace = 0.6)"
      ],
      "execution_count": 14,
      "outputs": [
        {
          "output_type": "display_data",
          "data": {
            "image/png": "[encoded data removed]",
            "text/plain": [
              "<Figure size 1152x720 with 12 Axes>"
            ]
          },
          "metadata": {
            "needs_background": "light"
          }
        }
      ]
    },
    {
      "cell_type": "code",
      "metadata": {
        "colab": {
          "base_uri": "https://localhost:8080/"
        },
        "id": "Eq6wI4gPOCZt",
        "outputId": "c7418955-73fb-49b8-c56b-18c7587b5072"
      },
      "source": [
        "means = samples.mean()\n",
        "print(f'Средняя ГС - sp.mean(): {round(sp.mean(), 4)}')\n",
        "print(f'Средняя средних выборок: {round(means.mean(), 4)}')\n",
        "print(f'Разница: {round(abs(means.mean() - sp.mean()), 5)}')\n",
        "print(f'Стандартная ошибка среднего: {round(means.std(), 5)}')"
      ],
      "execution_count": 15,
      "outputs": [
        {
          "output_type": "stream",
          "name": "stdout",
          "text": [
            "Средняя ГС - sp.mean(): 21.0134\n",
            "Средняя средних выборок: 21.043\n",
            "Разница: 0.0296\n",
            "Стандартная ошибка среднего: 0.39615\n"
          ]
        }
      ]
    },
    {
      "cell_type": "code",
      "metadata": {
        "colab": {
          "base_uri": "https://localhost:8080/"
        },
        "id": "18lFyEYcOCZu",
        "outputId": "56d281ed-4611-4de0-cd43-a5d12ec4826c"
      },
      "source": [
        "# возмем произвольную выборку \n",
        "sample = samples[0]\n",
        "print(f'Sample mean: {sample.mean()}')\n",
        "print(f'Sample SE: {round(sample.std() / math.sqrt(sample.size), 5)}')"
      ],
      "execution_count": 16,
      "outputs": [
        {
          "output_type": "stream",
          "name": "stdout",
          "text": [
            "Sample mean: 20.38\n",
            "Sample SE: 0.29702\n"
          ]
        }
      ]
    },
    {
      "cell_type": "markdown",
      "metadata": {
        "id": "dP-opP0IOCZu"
      },
      "source": [
        "**Важное замечание о ЦПТ**\n",
        "\n",
        "Пожалуй самый сложный момент - это как мы так взяли и заменили стандартное отклонение генеральной совокупности на выборочное. Ну и что с того, что у нас выборка объемом больше 30 наблюдений, что за магическое число такое? \n",
        "\n",
        "Все правильно, никакой магии не происходит. И совсем скоро мы в этом окончательно разберемся. Как только пройдем тему t - распределения во втором модуле. Вот тут я подробно расписал, как же нам нужно рассчитывать стандартную ошибку среднего, если мы не знаем стандартное отклонение в генеральной совокупности."
      ]
    },
    {
      "cell_type": "markdown",
      "metadata": {
        "id": "53jsQzN5OCZu"
      },
      "source": [
        "## 1.9 Доверительные интервалы для среднего\n",
        "[Вернуться к содержанию](#Содержание)"
      ]
    },
    {
      "cell_type": "markdown",
      "metadata": {
        "id": "2NVJkU1VOCZu"
      },
      "source": [
        "Если мы имеем некоторую выборку и ГС, то мы **не можем точно** знать среднюю ГС, зная только среднее выборки. Однако **мы можем сказать, с некоторым процентом уверенности**, в каком интервале лежит средняя ГС. Понятно дело, что для нас лучше, чтобы этот интервал был как можно меньше, как это сделать?\n",
        "\n",
        "Мы знаем, что средняя средних выборок, стремится к средней ГС, также мы знаем, что стандартная ошибка среднего описывает стандартное отклонение распределения средних выборок. Если мы возьмём случайную выборку $X$ и найдём её среднее $\\bar{X}$, а также вычислим стандартную ошибку $se$, то мы можем вычислить доверительный интервал:\n",
        "\n",
        "$[\\overline{X} - 1.96*se; \\overline{X} + 1.96*se]$ который описывает среднюю ГС с некотором интервале с 95% доверия.\n",
        "\n",
        "Загадочное число **1,96** это количество сигм $\\sigma$ в нормальном распределении, необходимые, чтобы охватить **95%** значений в этом распределении.\n",
        "\n",
        "<img src=\"https://c.radikal.ru/c33/2103/1e/5453d6b8554a.png\" width=200>\n",
        "\n",
        "$[\\overline{X} - 2.58*se; \\overline{X} + 2.58*se]$ – 99% доверительный интервал"
      ]
    },
    {
      "cell_type": "markdown",
      "metadata": {
        "id": "lVW89dgjOCZu"
      },
      "source": [
        "**Если мы рассчитали 95% доверительный интервал для среднего значения, это значит:**\n",
        "\n",
        " - <font color='crimson'>Среднее значение в генеральной совокупности точно принадлежит рассчитанному доверительному интервалу.</font>\n",
        " - <font color='green'>Мы можем быть на 95% уверены, что среднее значение в генеральной совокупности принадлежит рассчитанному доверительному интервалу.</font>\n",
        " - <font color='green'>Если многократно повторять эксперимент, для каждой выборки рассчитывать свой доверительный интервал, то в 95 % случаев истинное среднее будет находиться внутри доверительного интервала.</font>\n",
        " - <font color='crimson'>Среднее значение в генеральной совокупности точно превышает нижнюю границу 95% доверительного интервала.</font>\n",
        " - <font color='crimson'>Если многократно повторять эксперимент, то 95 % выборочных средних значений будут принадлежать рассчитанному нами доверительному интервалу.</font> да-да, тут просто надо представить это в уме\n",
        " \n",
        " __Если из лекции усвоить разницу между средним ГС и средним выборки, а так же понять, что доверительный интервал строится для выборки, а не для ГС, то ответы в тесте легко определяются.__\n",
        "  "
      ]
    },
    {
      "cell_type": "code",
      "metadata": {
        "colab": {
          "base_uri": "https://localhost:8080/"
        },
        "id": "AoICmqdfOCZv",
        "outputId": "9d06e1fe-f145-4679-9405-fda3eaef72f5"
      },
      "source": [
        "# Вычисление стандартного отклонения 1.96 c помощью scipy\n",
        "\n",
        "# 95%\n",
        "p = 0.95\n",
        "# так как у нас двухсторонний интервал, сделаем вычисление\n",
        "alpha = (1 - p) / 2\n",
        "# isf - Inverse survival function (inverse of sf) \n",
        "print(f'{stats.norm().isf(alpha):.2f} sigma')"
      ],
      "execution_count": 17,
      "outputs": [
        {
          "output_type": "stream",
          "name": "stdout",
          "text": [
            "1.96 sigma\n"
          ]
        }
      ]
    },
    {
      "cell_type": "markdown",
      "metadata": {
        "id": "qZSnVH3HqyVd"
      },
      "source": [
        "### Вычисление доверительного интервала в Python"
      ]
    },
    {
      "cell_type": "code",
      "metadata": {
        "colab": {
          "base_uri": "https://localhost:8080/"
        },
        "id": "w9p8IPcjOCZv",
        "outputId": "9ec6d126-c379-4e5b-b048-813002a61bfc"
      },
      "source": [
        "'''Рассчитайте 99% доверительный интервал для следующего примера: \n",
        "среднее = 10, стандартное отклонение = 5, размер выборки = 100\n",
        "'''\n",
        "\n",
        "p = 0.99\n",
        "mean = 10\n",
        "std = 5\n",
        "n = 100\n",
        "\n",
        "se = std / np.sqrt(n)\n",
        "alpha = (1 - p) / 2\n",
        "sigma = stats.norm().isf(alpha)\n",
        "сonfidence_interval = mean - sigma * se, mean + sigma * se\n",
        "print('[%.2f; %.2f]' % сonfidence_interval)"
      ],
      "execution_count": 18,
      "outputs": [
        {
          "output_type": "stream",
          "name": "stdout",
          "text": [
            "[8.71; 11.29]\n"
          ]
        }
      ]
    },
    {
      "cell_type": "markdown",
      "metadata": {
        "id": "vVbf0GLXOCZv"
      },
      "source": [
        "## 1.10 Идея статистического вывода\n",
        "[Вернуться к содержанию](#Содержание)"
      ]
    },
    {
      "cell_type": "markdown",
      "metadata": {
        "id": "K4s_j1-Af3EV"
      },
      "source": [
        "**Нулевая гипотеза (H0)** – отсутствие значимых различий между средним значением выборки и средним значением генеральной совокупности.\n",
        "\n",
        "**Альтернативная гипотеза (H1)** – значимое отклонение между средним значением выборки и средним значением генеральной совокупности.\n",
        "\n",
        "**Ошибка 1 рода** – приняли альтернативную гипотезу, хотя верна нулевая.\n",
        "\n",
        "**Ошибка 2 рода** – приняли нулевую гипотезу, хотя верна альтернативная."
      ]
    },
    {
      "cell_type": "markdown",
      "metadata": {
        "id": "r6tOJMkIOCZv"
      },
      "source": [
        "### Статистическая проверка гипотез (p-value)\n",
        "\n",
        "**p-уровень значимости (p-value, probability value)** - это вероятность получения такого или еще более сильного отклонения от среднего значения, если верна H0. Чем меньше **p-value**, тем больше оснований отклонить нулевую гипотезу.\n",
        "\n",
        "Если эта вероятность оказывается меньше, чем заранее принятый уровень значимости (например, $p < 0.05$), мы вправе отклонить проверяемую нулевую гипотезу.\n",
        "\n",
        "[Статья \"Что такое p-value?\"](http://datascientist.one/p-value/)"
      ]
    },
    {
      "cell_type": "markdown",
      "metadata": {
        "id": "oeIlmJZYgfUl"
      },
      "source": [
        "**Чтобы вычислить p-уровень значимости для нормального распределения:**\n",
        "\n",
        "1. Найти на сколько стандартных отклонений (величину \"z\") среднее из новой экспериментальной выборки отличается от предполагаемого среднего значения в генеральной совокупности:\n",
        "\n",
        "    $z = \\frac{(x - μ)}{se}$\n",
        "\n",
        "\n",
        "2. Определить, какой процент значений находится на промежутке\n",
        "$[-∞ ; -z]$ U $[z ; +∞]$\n",
        "\n",
        "3. Если полученное значение p < 0.05, принимаем H1, т.е. мы получили статистически значимое отклонение."
      ]
    },
    {
      "cell_type": "markdown",
      "metadata": {
        "id": "hFUCFQG5ibzz"
      },
      "source": [
        "### Вычисление p-value в Python"
      ]
    },
    {
      "cell_type": "code",
      "metadata": {
        "colab": {
          "base_uri": "https://localhost:8080/"
        },
        "id": "h-skXfsfiZoY",
        "outputId": "34049eea-ed04-41aa-9cc7-cc904a5e8ca7"
      },
      "source": [
        "'''\n",
        "x_mean - новое среднее\n",
        "M_mean(μ) - среднее в генеральной совокупности\n",
        "sd - стандартное отклонение в выборке\n",
        "n - количество выборочных значений\n",
        "'''\n",
        "\n",
        "#python:\n",
        "#from scipy import stats \n",
        "def calc_pvalue_norm(M_mean, x_mean, sd, n):\n",
        "    se = sd / (n ** (0.5))\n",
        "    z = abs((x_mean - M_mean) / se)\n",
        "    p = (1 - stats.norm.cdf(z)) * 2\n",
        "    return f'p-value={round(p, 5)}; стандартная ошибка среднего se={round(se, 5)}; стандартное отклонение z={round(z, 5)}'\n",
        "\n",
        "print(calc_pvalue_norm(102, 99, 12, 64))"
      ],
      "execution_count": 19,
      "outputs": [
        {
          "output_type": "stream",
          "name": "stdout",
          "text": [
            "p-value=0.0455; стандартная ошибка среднего se=1.5; стандартное отклонение z=2.0\n"
          ]
        }
      ]
    },
    {
      "cell_type": "markdown",
      "metadata": {
        "id": "jv-cpwpUOCZv"
      },
      "source": [
        "Из [видео StatQuest](https://www.youtube.com/watch?v=vemZtEM63GY):\n",
        "\n",
        "**p-values** are numbers, between 0 and 1, that, in this example, quantify how confident we should be that **Drug A** is different form **Drug B**.\n",
        "\n",
        "The closer a **p-value** is to **0**, the more confidence we have that **Drug A** and **Drug B** are different.\n",
        "\n",
        "In practice, a commonly used threshold is **0.05**. It means that if there is no difference between **Drug A** and **Drug B**, and if we did this exact same experiment a bunch of times, then only **5%** of those experiments would result in the wrong decision.\n",
        "\n",
        "Getting a small **p-value** when there is no difference is called a **False Positive**.\n",
        "\n",
        "A **0.05** threshold for **p-values** means that **5%** of the experiments, where the only differences come from weird random things, will generate a **p-value** smaller than **0.05**.\n",
        "\n",
        "In other words, if there is no difference between **Drug A** and **Drug B**, **5%** time we do the experiment, we'll get a **p-value** less than **0.05**, aka a **False Positive**.\n",
        "\n",
        "Using a threshold of **0.00001** means we would only get a **False Positive** once every **100,000** experiments and likewise, if it's not that important then we can use a larger threshold and using a threshold of **0.2** means we are willing to get a **False Positive 2** times out of **10** experiments.\n",
        "\n",
        "While a small **p-value** helps us decide if **Drug A** is different from **Drug B**, it does **not** tell us **how different** they are."
      ]
    },
    {
      "cell_type": "markdown",
      "metadata": {
        "id": "DajlWCR5OCZw"
      },
      "source": [
        "# Часть 2 Сравнение средних"
      ]
    },
    {
      "cell_type": "markdown",
      "metadata": {
        "id": "n7sZw4piOCZw"
      },
      "source": [
        "## 2.1 Распределение Стьюдента (t-распределение)\n",
        "[Вернуться к содержанию](#Содержание)"
      ]
    },
    {
      "cell_type": "markdown",
      "metadata": {
        "id": "v7hjp9K4OCZw"
      },
      "source": [
        "Распределение Стьюдента по сути представляет собой сумму нескольких нормально распределенных случайных величин. Чем больше величин, тем больше верятность, что их сумма будет иметь нормальное распределение. Таким образом, количество суммируемых величин определяет важнейший параметр формы данного распредения - число степеней свободы.\n",
        "\n",
        "**Критерий Стьюдента t** чаще всего применяется для проверки нулевой гипотезы о равенстве средних значений двух совокупностей, хотя существует также и одновыборочная модификация этого метода.\n",
        "\n",
        "**Критерий Стьюдента t** основан на допущениях:\n",
        "- Сравниваемые выборки должны происходить из нормально распределенных совокупностей;\n",
        "- Дисперсии сравниваемых генеральных совокупностей должны быть равны."
      ]
    },
    {
      "cell_type": "markdown",
      "metadata": {
        "id": "T6myr-iP0uon"
      },
      "source": [
        "[Статья r-analytics](https://r-analytics.blogspot.com/2012/03/t.html)"
      ]
    },
    {
      "cell_type": "code",
      "metadata": {
        "colab": {
          "base_uri": "https://localhost:8080/",
          "height": 281
        },
        "id": "WD4kvh56OCZw",
        "outputId": "fe227817-6e99-4316-c822-cb283f9b4c72"
      },
      "source": [
        "'''График снизу показывает, как меняется форма распределения при увеличение количества степеней свободы.\n",
        "А также показывает приближение t-распредееления к нормальному по мере увеличения степеней свободы.'''\n",
        "x = np.linspace(-5, 5, 100)\n",
        "y1, y2, y3 = stats.t.pdf(x, df=1), stats.t.pdf(x, df=3), stats.t.pdf(x, df=10)\n",
        "y4 = stats.norm.pdf(x)\n",
        "\n",
        "plt.title('графики t-распредления с разными степенями свободы')\n",
        "plt.plot(x, y1)\n",
        "plt.plot(x, y2)\n",
        "plt.plot(x, y3)\n",
        "plt.plot(x, y4, 'r:')\n",
        "plt.legend(('df=1', 'df=3', 'df=10', 'norm'))\n",
        "plt.show()"
      ],
      "execution_count": 20,
      "outputs": [
        {
          "output_type": "display_data",
          "data": {
            "image/png": "[encoded data removed]",
            "text/plain": [
              "<Figure size 432x288 with 1 Axes>"
            ]
          },
          "metadata": {
            "needs_background": "light"
          }
        }
      ]
    },
    {
      "cell_type": "markdown",
      "metadata": {
        "id": "W1qh0Gk9OCZx"
      },
      "source": [
        "График плотности распределения Стьюдента, как и нормального распределения, является симметричным и имеет вид колокола, но с более «тяжёлыми» хвостами."
      ]
    },
    {
      "cell_type": "markdown",
      "metadata": {
        "id": "QcA1UX2m8nne"
      },
      "source": [
        "### Подробно про нормальное и t-распределение"
      ]
    },
    {
      "cell_type": "markdown",
      "metadata": {
        "id": "NXZ9n4iAOCZx"
      },
      "source": [
        "В видео лекциях говорилось, что мы используем **t-распределение** в ситуации небольшого объема выборки. Необходимо более подробно пояснить, зачем это нужно.\n",
        "\n",
        "Вернемся к **центральной предельной  теореме**, мы уже узнали, что если некий признак в генеральной совокупности распределен **нормально** со средним $\\mu$ и стандартным отклонением $\\sigma$, и мы будем многократно извлекать выборки одинакового размера n, и для каждой выборки рассчитывать, как далеко выборочное среднее $\\bar{X}$ отклонилось от среднего в генеральной совокупности в единицах стандартной ошибки среднего:\n",
        "\n",
        "$$\\large z = \\frac{\\bar{X} - \\mu}{\\frac{\\sigma}{\\sqrt{n}}}$$\n",
        "\n",
        "то эта величина $z$ будет иметь стандартное нормальное распределение со средним равным нулю и стандартным отклонением равным единице.\n",
        "\n",
        "Обратите внимание, что для расчета стандартной ошибки мы используем именно стандартное отклонение в генеральной совокупности - $\\sigma$. Ранее мы уже обсуждали, что на практике $\\sigma$ нам практически никогда не известна, и для расчета стандартной ошибки мы используем выборочное стандартное отклонение.\n",
        "\n",
        "Так вот, строго говоря, в таком случае распределение отклонения выборочного среднего и среднего в генеральной совокупности, деленного на стандартную ошибку, теперь будет описываться именно при помощи t - распределения.\n",
        "\n",
        "$$\\large t = \\frac{\\bar{X} - \\mu}{\\frac{sd}{\\sqrt{n}}}$$\n",
        "\n",
        "таким образом, в случае неизвестной $\\sigma$ мы **всегда будем иметь дело с t-распределением**. На этом этапе вы должны с негодованием спросить меня, почему же мы применяли z-критерий в первом модуле курса, для проверки гипотез, используя выборочное стандартное отклонение?\n",
        "\n",
        "Мы уже знаем, что при довольно большом объеме выборки (обычно в учебниках приводится правило, $n > 30$) t-распределение совсем близко подбирается к нормальному распределению.\n",
        "\n",
        "Поэтому иногда, для простоты расчетов говорится, что если $n > 30$, то мы будем использовать свойства нормального распределения для наших целей. Строго говоря, это конечно неправильный подход, который часто критикуют. В до компьютерную эпоху этому было некоторое объяснение, чтобы не рассчитывать для каждого $n$ больше $30$ соответствующее критическое значение t - распределения, статистики как бы округляли результат и использовали нормальное распределение для этих целей. Сегодня, конечно, с этим больше никаких проблем нет, и все статистические программы, разумеется, без труда рассчитают все необходимые показатели для t - распределения с любым числом степеней свободы. Действительно при выборках очень большого объема t - распределение практически не будет отличаться от нормального, однако, хоть и очень малые но различия все равно будут.\n",
        "\n",
        "Поэтому, правильнее будет сказать, что мы используем t - распределение не потому что у нас маленькие выборки, а потому что мы не знаем стандартное отклонение в генеральной совокупности. Поэтому в дальнейшем мы всегда будем использовать t - распределение для проверки гипотез, если нам неизвестно стандартное отклонение в генеральной совокупности, необходимое для расчета стандартной ошибки, даже если объем выборки больше $30$."
      ]
    },
    {
      "cell_type": "markdown",
      "metadata": {
        "id": "14rd0z47p2G1"
      },
      "source": [
        "### Вычисление p-уровня значимости для распределения Стьюдента в Python:"
      ]
    },
    {
      "cell_type": "code",
      "metadata": {
        "colab": {
          "base_uri": "https://localhost:8080/"
        },
        "id": "V6xr06r1OCZx",
        "outputId": "e367ecf3-57c1-4de3-b30e-3c69e9d9d325"
      },
      "source": [
        "'''На выборке в 15 наблюдений при помощи одновыборочного t-теста\n",
        "проверяется нулевая гипотеза: μ=10 \n",
        "и рассчитанное t-значение равняется -2 (t = -2), то p-уровень значимости (двусторонний) равен:\n",
        "'''\n",
        "\n",
        "t = -2\n",
        "n = 15\n",
        "df = n - 1\n",
        "\n",
        "p = 2 * stats.t.sf(abs(t), df)\n",
        "print(f'p = {p:.3f}')"
      ],
      "execution_count": 21,
      "outputs": [
        {
          "output_type": "stream",
          "name": "stdout",
          "text": [
            "p = 0.065\n"
          ]
        }
      ]
    },
    {
      "cell_type": "code",
      "metadata": {
        "colab": {
          "base_uri": "https://localhost:8080/"
        },
        "id": "mfHmA6qvnRcH",
        "outputId": "e2704c26-91c1-4515-de65-37808822106d"
      },
      "source": [
        "'''\n",
        "x_mean - новое среднее\n",
        "M_mean(μ) - среднее в генеральной совокупности\n",
        "sd - стандартное отклонение в выборке\n",
        "n - количество выборочных значений\n",
        "accuracy - точность интервала (может быть равен 95 или 99)\n",
        "'''\n",
        "\n",
        "#python:\n",
        "#from scipy import stats \n",
        "def calc_pvalue_t(M_mean, x_mean, sd, n):\n",
        "    se = sd / (n ** 0.5)\n",
        "    t = abs((x_mean - M_mean) / se)\n",
        "    df = n - 1\n",
        "    p = (1 - stats.t.cdf(t, df)) * 2\n",
        "    return p\n",
        "\n",
        "print('p = {:.5f}'.format(calc_pvalue_t(10, 10.8, 2, 25)))\n",
        "\n",
        "# Доверительный интервал у соответствующего t - распределения:\n",
        "def conf_interval_t(М_mean, sd, n, accuracy):\n",
        "    se = sd / (n ** 0.5)\n",
        "    df = n - 1\n",
        "    alpha = (1 - accuracy / 100) / 2\n",
        "    di_1 = М_mean - se * stats.t.ppf(1 - alpha, df)\n",
        "    di_2 = М_mean + se * stats.t.ppf(1 - alpha, df)\n",
        "    print(f'Доверительный интервал для среднего: [{round(di_1, 3)}; {round(di_2, 3)}]')\n",
        "     \n",
        "conf_interval_t(89.9, 11.3, 20, 99)"
      ],
      "execution_count": 22,
      "outputs": [
        {
          "output_type": "stream",
          "name": "stdout",
          "text": [
            "p = 0.05694\n",
            "Доверительный интервал для среднего: [82.671; 97.129]\n"
          ]
        }
      ]
    },
    {
      "cell_type": "markdown",
      "metadata": {
        "id": "FcG2i5gUBO3w"
      },
      "source": [
        "## 2.2 Сравнение двух средних. t-критерий Стьюдента\n",
        "\n",
        "[Вернуться к содержанию](#Содержание)"
      ]
    },
    {
      "cell_type": "markdown",
      "metadata": {
        "id": "Llx26yFgOCZx"
      },
      "source": [
        "**t-критерий Стьюдента** — сравнение средних в двух выборках, общее название для статистических тестов, в которых статистика критерия имеет распределение Стьюдента. Наиболее часто t-критерии применяются для проверки равенства средних значений в двух выборках (можно использовать и для большего количества групп, но в таком случае понадобятся поправки). Нулевая гипотеза предполагает, что средние равны (отрицание этого предположения называют гипотезой сдвига).\n",
        "\n",
        "$H_0 : M_1 = M_2$\n",
        "\n",
        "$H_1 : M_1 ≠ M_2$\n",
        "\n",
        "$df = n_1 + n_2 - 2$\n",
        "\n",
        "Для применения данного критерия необходимо, чтобы исходные данные имели нормальное распределение. \n",
        "\n",
        "$$ t = \\frac{\\bar{X_1} - \\bar{X_2}}{se}$$\n",
        "\n",
        "$$ se = \\sqrt{\\frac{sd_1^2}{n_1} + \\frac{sd_2^2}{n_2}} $$\n",
        "\n",
        "Откуда берётся такая формула $se$?:\n",
        "\n",
        "$$ (se_1)^2 = (\\frac{sd_1}{\\sqrt{n_1}})^2 = \\frac{sd_1^2}{n_1} $$\n",
        " \n",
        "То есть:\n",
        "\n",
        "$$ se = \\sqrt{\\frac{sd_1^2}{n_1} + \\frac{sd_2^2}{n_2}} = \\sqrt{se_1^2 + se_2^2} $$\n",
        "\n",
        "причем ответ на вопрос, почему верно это равенство, кроется в свойстве дисперсии: дисперсия суммы независимых случайных величин равна сумме их дисперсий. а отклонение - это корень из дисперсии. отсюда ваша последняя формула"
      ]
    },
    {
      "cell_type": "markdown",
      "metadata": {
        "id": "ZDujkMR5DmSQ"
      },
      "source": [
        "### Вычисление p-уровня значимости для сравнения двух средних в двух выборках в Python"
      ]
    },
    {
      "cell_type": "code",
      "metadata": {
        "colab": {
          "base_uri": "https://localhost:8080/"
        },
        "id": "mcVlRCazDyZQ",
        "outputId": "5ddbc803-2d9a-4025-9966-97e6b6f4b28f"
      },
      "source": [
        "'''\n",
        "x1_mean - среднее в 1ой выборке\n",
        "x2_mean - среднее во 2ой выборке\n",
        "sd1 - стандартное отклонение в 1ой выборке\n",
        "sd2 - стандартное отклонение в 2ой выборке\n",
        "n1 - количество наблюдений в 1ой выборке\n",
        "n2 - количество наблюдений во 2ой выборке\n",
        "'''\n",
        "\n",
        "#python:\n",
        "#from scipy import stats \n",
        "def calc_pvalue_t2(x1_mean, x2_mean, sd1, sd2, n1, n2):\n",
        "    se = math.sqrt(sd1 ** 2 / n1 + sd2 ** 2 / n2)\n",
        "    t = abs((x1_mean - x2_mean) / se)\n",
        "    #print(t)\n",
        "    df = n1 + n2 - 2\n",
        "    p = (1 - stats.t.cdf(t, df)) * 2\n",
        "    return p\n",
        "\n",
        "print('p = {:.5f}'.format(calc_pvalue_t2(89.9, 80.7, 11.3, 11.7, 20, 20))) "
      ],
      "execution_count": 23,
      "outputs": [
        {
          "output_type": "stream",
          "name": "stdout",
          "text": [
            "p = 0.01569\n"
          ]
        }
      ]
    },
    {
      "cell_type": "markdown",
      "metadata": {
        "id": "riCMypaMFNmx"
      },
      "source": [
        "### Пример 1"
      ]
    },
    {
      "cell_type": "code",
      "metadata": {
        "colab": {
          "base_uri": "https://localhost:8080/",
          "height": 111
        },
        "id": "pSr7xbodOCZx",
        "outputId": "854d306d-9931-4f26-9de1-bff397baf2ce"
      },
      "source": [
        "# массивы с температурами плавления ДНК двух типов\n",
        "array1 = np.array([84.7, 105.0, 98.9, 97.9, 108.7, 81.3, 99.4, 89.4, 93.0,\n",
        "                   119.3, 99.2, 99.4, 97.1, 112.4, 99.8, 94.7, 114.0, 95.1, 115.5, 111.5])\n",
        "array2 = np.array([57.2, 68.6, 104.4, 95.1, 89.9, 70.8, 83.5, 60.1, 75.7,\n",
        "                   102.0, 69.0, 79.6, 68.9, 98.6, 76.0, 74.8, 56.0, 55.6, 69.4, 59.5])\n",
        "\n",
        "# считаем количество элементов, среднее, стандартное отклонение и стандартную ошибку\n",
        "df = pd.DataFrame({'Выборка1':array1, 'Выборка2':array2}).agg(['mean','std','count','sem']).transpose()\n",
        "df.columns = ['Mx','SD','N','SE']\n",
        "\n",
        "# рассчитываем 95% интервал отклонения среднего\n",
        "p = 0.95\n",
        "K = stats.t.ppf((1 + p) / 2, df['Mx']-1)\n",
        "df['interval'] = K * df['SE']\n",
        "\n",
        "df"
      ],
      "execution_count": 24,
      "outputs": [
        {
          "output_type": "execute_result",
          "data": {
            "text/html": [
              "<div>\n",
              "<style scoped>\n",
              "    .dataframe tbody tr th:only-of-type {\n",
              "        vertical-align: middle;\n",
              "    }\n",
              "\n",
              "    .dataframe tbody tr th {\n",
              "        vertical-align: top;\n",
              "    }\n",
              "\n",
              "    .dataframe thead th {\n",
              "        text-align: right;\n",
              "    }\n",
              "</style>\n",
              "<table border=\"1\" class=\"dataframe\">\n",
              "  <thead>\n",
              "    <tr style=\"text-align: right;\">\n",
              "      <th></th>\n",
              "      <th>Mx</th>\n",
              "      <th>SD</th>\n",
              "      <th>N</th>\n",
              "      <th>SE</th>\n",
              "      <th>interval</th>\n",
              "    </tr>\n",
              "  </thead>\n",
              "  <tbody>\n",
              "    <tr>\n",
              "      <th>Выборка1</th>\n",
              "      <td>100.815</td>\n",
              "      <td>10.246503</td>\n",
              "      <td>20.0</td>\n",
              "      <td>2.291188</td>\n",
              "      <td>4.545754</td>\n",
              "    </tr>\n",
              "    <tr>\n",
              "      <th>Выборка2</th>\n",
              "      <td>75.735</td>\n",
              "      <td>15.458102</td>\n",
              "      <td>20.0</td>\n",
              "      <td>3.456537</td>\n",
              "      <td>6.886174</td>\n",
              "    </tr>\n",
              "  </tbody>\n",
              "</table>\n",
              "</div>"
            ],
            "text/plain": [
              "               Mx         SD     N        SE  interval\n",
              "Выборка1  100.815  10.246503  20.0  2.291188  4.545754\n",
              "Выборка2   75.735  15.458102  20.0  3.456537  6.886174"
            ]
          },
          "metadata": {},
          "execution_count": 24
        }
      ]
    },
    {
      "cell_type": "code",
      "metadata": {
        "colab": {
          "base_uri": "https://localhost:8080/",
          "height": 547
        },
        "id": "SrjBwkX4OCZy",
        "outputId": "839ab10b-a65e-44ab-daa6-972a86a56ff1"
      },
      "source": [
        "#строим графики, boxplot из изначальных данных array1, array2,  доверительные интервалы из датафрейма df\n",
        "fig, (ax1, ax2) = plt.subplots(nrows=1, ncols=2, figsize=(14, 9))\n",
        "\n",
        "# график boxplot\n",
        "bplot1 = ax1.boxplot([array1, array2],\n",
        "                     vert=True,  # создаем вертикальные боксы\n",
        "                     patch_artist=True, # для красоты заполним цветом боксы квантилей\n",
        "                     labels=['Выборка1', 'Выборка2']) # используется для задания значений выборок в случае с boxplot\n",
        "\n",
        "# график доверительных интервалов\n",
        "bplot2 = ax2.errorbar(x=df.index, y=df['Mx'], yerr=df['interval'],\\\n",
        "                      color=\"black\", capsize=3, marker=\"s\", markersize=4, mfc=\"red\", mec=\"black\", fmt ='o')\n",
        "\n",
        "# раскрасим boxplot  \n",
        "colors = ['pink', 'lightgreen']\n",
        "for patch, color in zip(bplot1['boxes'], colors):\n",
        "    patch.set_facecolor(color)\n",
        "    \n",
        "# добавим общие для каждого из графиков данные\n",
        "for ax in [ax1, ax2]:\n",
        "    ax.yaxis.grid(True)\n",
        "    ax.set_title('Температура плавления ДНК двух типов')\n",
        "    ax.set_xlabel('Сравнение двух выборок')\n",
        "    ax.set_ylabel('Температура F')\n",
        "    \n",
        "plt.show()"
      ],
      "execution_count": 25,
      "outputs": [
        {
          "output_type": "display_data",
          "data": {
            "image/png": "[encoded data removed]",
            "text/plain": [
              "<Figure size 1008x648 with 2 Axes>"
            ]
          },
          "metadata": {
            "needs_background": "light"
          }
        }
      ]
    },
    {
      "cell_type": "markdown",
      "metadata": {
        "id": "Pkv6lk3EFX2J"
      },
      "source": [
        "### Пример 2"
      ]
    },
    {
      "cell_type": "markdown",
      "metadata": {
        "id": "sUWmAqVPOCZy"
      },
      "source": [
        "Рассчитайте доверительный интервал основываясь на знании **t - распределения** для среднего значения температуры плавления ДНК у первого вида:\n",
        "\n",
        "$ \\bar{X}=89,9\\quad sd=11,3\\quad n=20 $"
      ]
    },
    {
      "cell_type": "code",
      "metadata": {
        "colab": {
          "base_uri": "https://localhost:8080/"
        },
        "id": "EePj3dVsOCZy",
        "outputId": "a766e557-bb35-410e-bd9c-4e83e0fe72f2"
      },
      "source": [
        "mean = 89.9\n",
        "sd = 11.3\n",
        "n = 20\n",
        "# степень свободы\n",
        "df = n - 1\n",
        "# 95% доверительный интервал\n",
        "p = 0.95\n",
        "alpha = 1 - p\n",
        "# стандартная ошибка\n",
        "se = sd / np.sqrt(n)\n",
        "\n",
        "# ppf - Percent point function\n",
        "# делим на два, так как по умолчанию функция считает для одного конца, а нам надо для двух\n",
        "t_value = stats.t(df).ppf(1 - (alpha / 2))\n",
        "\n",
        "# доверительный интервал \n",
        "сonfidence_interval = (mean - t_value * se, mean + t_value * se)\n",
        "print('[%.2f; %.2f]' % сonfidence_interval)"
      ],
      "execution_count": 26,
      "outputs": [
        {
          "output_type": "stream",
          "name": "stdout",
          "text": [
            "[84.61; 95.19]\n"
          ]
        }
      ]
    },
    {
      "cell_type": "markdown",
      "metadata": {
        "id": "JmV2SLmDFbKa"
      },
      "source": [
        "### Пример 3"
      ]
    },
    {
      "cell_type": "markdown",
      "metadata": {
        "id": "MbMvmtPjOCZy"
      },
      "source": [
        "Первые премии Оскар за лучшую мужскую и женскую роль были вручены в 1929. Данные гистограммы демонстрируют распределение возраста победителей с 1929 по 2014 год (100 мужчин, 100 женщин). Используя t - критерий проверьте, можно ли считать наблюдаемые различия в возрасте между лучшими актрисами и актерами  статистически достоверными.\n",
        "\n",
        "Средний возраст мужчин равен 45, sd = 9.\n",
        "\n",
        "Средний возраст женщин равен 34, sd = 10.\n",
        "\n",
        "<img src=\"https://c.radikal.ru/c34/2103/b6/ed919de5017a.png\" width=500>"
      ]
    },
    {
      "cell_type": "code",
      "metadata": {
        "colab": {
          "base_uri": "https://localhost:8080/"
        },
        "id": "q6T2j5vGOCZy",
        "outputId": "59666adf-871b-4b57-f838-2b1955a4018a"
      },
      "source": [
        "mean_m, mean_f = 45, 34\n",
        "sd_m, sd_f = 9, 10\n",
        "N = 100\n",
        "\n",
        "se = np.sqrt((sd_m ** 2) / N + (sd_f ** 2) / N)\n",
        "t_value = (mean_m - mean_f) / se\n",
        "\n",
        "p = stats.t.sf(t_value, N - 2)\n",
        "print(f'p={round(p, 20)}')\n",
        "if p >= 0.05:\n",
        "    print('Мы НЕ можем отклонить нулевую гипотезу')\n",
        "else:\n",
        "    print('Мы можем отклонить нулевую гипотезу')"
      ],
      "execution_count": 27,
      "outputs": [
        {
          "output_type": "stream",
          "name": "stdout",
          "text": [
            "p=5.3289339e-13\n",
            "Мы можем отклонить нулевую гипотезу\n"
          ]
        }
      ]
    },
    {
      "cell_type": "markdown",
      "metadata": {
        "id": "Z6fMnqxXF72T"
      },
      "source": [
        "### Применимость критерия Стьюдента"
      ]
    },
    {
      "cell_type": "markdown",
      "metadata": {
        "id": "NTTY7kGRF7nF"
      },
      "source": [
        "\n",
        "1. Независимость каждого из наблюдений\n",
        "\n",
        "2. Гомогенность дисперсий, т.е. дисперсии в двух выборках приблизительно одинаковы. Проверка: критерий Левана или критерий Фишера\n",
        "\n",
        "3. Нормальность распределения при n < 30"
      ]
    },
    {
      "cell_type": "markdown",
      "metadata": {
        "id": "Jpc7Uq4SFx5e"
      },
      "source": [
        "## 2.3 Проверка распределения на нормальность\n",
        "[Вернуться к содержанию](#Содержание)"
      ]
    },
    {
      "cell_type": "markdown",
      "metadata": {
        "id": "uyfFo-VEOCZz"
      },
      "source": [
        "**Проверка на нормальность:**\n",
        "\n",
        "1. Построить [график-гистограмму](https://stepik.org/lesson/8082/step/3?unit=1361) или [график QQ-plot](https://stepik.org/lesson/8082/step/4?unit=1361) (если наблюдений мало)\n",
        "2. Тест Колмагорова-Смирнова и тест Шапиро-Уилка: если получаем p-уровень значимости больше 0.05, значит наша выборка значимо не отличается от нормальной.\n",
        "\n",
        "**QQ-plot** - (график квантиль-квантиль) – показывает насколько выборочное значение соответствует нормальному распределению, линия – идеальное нормальное распределение.\n"
      ]
    },
    {
      "cell_type": "markdown",
      "metadata": {
        "id": "j2vyRcN2Q8Hx"
      },
      "source": [
        "### Пример 1"
      ]
    },
    {
      "cell_type": "code",
      "metadata": {
        "id": "WAixLTkhOCZz",
        "colab": {
          "base_uri": "https://localhost:8080/",
          "height": 431
        },
        "outputId": "1451065c-256f-42d6-e910-e5b7e3e59381"
      },
      "source": [
        "plt.rcParams['figure.figsize'] = [12, 6]\n",
        "\n",
        "mu, sigma = 10, 4\n",
        "n = 1000 # с ростом числа точек в распределении qq-plot стремится к прямой\n",
        "sequence = np.random.normal(mu, sigma, n)\n",
        "\n",
        "fig, (ax1, ax2) = plt.subplots(1, 2)\n",
        "fig.suptitle('QQ Plot', fontsize=18)\n",
        "\n",
        "# Q-Q Plot graph\n",
        "stats.probplot(sequence, dist=\"norm\", plot=ax1)\n",
        "ax1.set_title(\"Normal Q-Q Plot\")\n",
        "ax1.grid()\n",
        "\n",
        "# normal distribution histogram + distribution\n",
        "count, bins, _ = ax2.hist(sequence, 25, density=True)\n",
        "p_x = 1/(sigma * np.sqrt(2 * np.pi)) * np.exp( - (bins - mu)**2 / (2 * sigma**2) )\n",
        "ax2.plot(bins, p_x, color='r')\n",
        "ax2.grid()\n",
        " \n",
        "plt.show()"
      ],
      "execution_count": 28,
      "outputs": [
        {
          "output_type": "display_data",
          "data": {
            "image/png": "[encoded data removed]",
            "text/plain": [
              "<Figure size 864x432 with 2 Axes>"
            ]
          },
          "metadata": {
            "needs_background": "light"
          }
        }
      ]
    },
    {
      "cell_type": "markdown",
      "metadata": {
        "id": "our3p5KNJ6nW"
      },
      "source": [
        "### Пример 2"
      ]
    },
    {
      "cell_type": "code",
      "metadata": {
        "colab": {
          "base_uri": "https://localhost:8080/",
          "height": 251
        },
        "id": "HArncglaJ8MY",
        "outputId": "c65656c1-7220-450e-a450-960dedb0dc9b"
      },
      "source": [
        "import numpy as np\n",
        "import pylab \n",
        "import matplotlib.pyplot as plt\n",
        "import scipy.stats as stats\n",
        "\n",
        "mean = 0  # среднее значение распределения\n",
        "sd = 1    # Стандартное отклонение\n",
        "N = 50    # Количество наблюдений\n",
        "\n",
        "# Построим график QQ-plot\n",
        "# Генерация нормального распределения со средним значением распределения mean, стандартным отклонением sd и количеством элементов в выборке N\n",
        "sample = np.random.normal(loc=mean, scale=sd, size=N)\n",
        "plt.figure(figsize = [6.4*3, 4.8])  # Создаем фигуру qq_plot\n",
        "plt.subplot(1, 3, 1)\n",
        "norm = stats.probplot(sample, dist=\"norm\", plot=plt)  # Создаем график QQ-plot при помощи функции по поиску квантилей значений нашего распределения\n",
        "plt.title('QQ-plot / Квантиль-квантиль')  # Заголовок\n",
        "plt.xlabel('Квантили Z-распределения')  # Подпись по оси X\n",
        "plt.ylabel('Квантили фактического распределения')  # Подпись по оси Y\n",
        "plt.grid(True)  # Включить сетку\n",
        "\n",
        "# Построим гистограмму \n",
        "plt.subplot(1, 3, 2)\n",
        "n, bins, patches = plt.hist(sample, N//5, density=False, facecolor='r', alpha=0.75, label='Гистограмма', rwidth=0.95)  # Cтроим гистограмму\n",
        "plt.title('Гистограмма распределения')  # Заголовок\n",
        "plt.xlabel('Промежутки наблюдений')  # Подпись по оси X\n",
        "plt.ylabel('Количество наблюдений')  # Подпись по оси Y\n",
        "plt.text(-3, 8, r'$\\mu=0,\\ \\sigma=1$')  #Текстовая подпись\n",
        "plt.xlim(-3.5, 3.5)  # Граница оси X\n",
        "plt.grid(True)  # Включить сетку\n",
        "\n",
        "# Построим гистограмму c плотностью\n",
        "plt.subplot(1, 3, 3)\n",
        "n, bins, patches = plt.hist(sample, N//5, density=True, facecolor='g', alpha=0.75, label='Гистограмма', rwidth=0.95, stacked=True)  # Cтроим гистограмму\n",
        "plt.title('Гистограмма распределения')  # Заголовок\n",
        "plt.xlabel('Промежутки наблюдений')  # Подпись по оси X\n",
        "plt.ylabel('Плотность наблюдений')  # Подпись по оси Y\n",
        "plt.text(-3, 0.35, r'$\\mu=0,\\ \\sigma=1$')  #Текстовая подпись\n",
        "plt.xlim(-3.5, 3.5)  # Граница оси X\n",
        "plt.grid(True)  # Включить сетку\n",
        "\n",
        "# Построим поверх гистограммы график Z-распределения\n",
        "x = np.linspace(mean - 3 * sd, mean + 3 * sd, 1000)  # Делаем массив значений Z-распределения\n",
        "plt.plot(x, stats.norm.pdf(x, mean, sd), color='red', label='Z-распределение')  # Строим график Z-распределения\n",
        "\n",
        "plt.legend(loc=\"upper right\")  # Показать легенду\n",
        "plt.show()  # Показать фигуру"
      ],
      "execution_count": 29,
      "outputs": [
        {
          "output_type": "display_data",
          "data": {
            "image/png": "[encoded data removed]",
            "text/plain": [
              "<Figure size 1382.4x345.6 with 3 Axes>"
            ]
          },
          "metadata": {
            "needs_background": "light"
          }
        }
      ]
    },
    {
      "cell_type": "markdown",
      "metadata": {
        "id": "JXSvf9sqMRok"
      },
      "source": [
        "Еще одной возможностью проверки распределения на нормальность является тест Шапиро-Уилко и Колмогорова-Смирнова. Мы не будем сейчас вдаваться в подробности о том, как устроены эти тесты. Однако, в этих тестах за нулевую гипотезу принимается гипотеза о том, что наша выборка принадлежит **ГС**, где значения распределены нормально. Поэтому при получении значения $p-value > 0.05$ у нас будет недостаточно оснований отклонить это гипотезу, а потому, мы будем считать, что имеющаяся выборка распределена нормально."
      ]
    },
    {
      "cell_type": "code",
      "metadata": {
        "colab": {
          "base_uri": "https://localhost:8080/"
        },
        "id": "_ADT5ZBKMX7y",
        "outputId": "57180860-48b2-44ac-804b-8c96062a52cc"
      },
      "source": [
        "shapiro_test = stats.shapiro(sample)\n",
        "print(f'Шапиро-Уилко: p={round(shapiro_test[1], 3)} - Выборка распределена нормально.') if shapiro_test[1] > 0.05\\\n",
        "     else print(f'Шапиро-Уилко: p={round(shapiro_test[1], 3)} - Выборка распределена не нормально.')\n",
        "\n",
        "ks_test = stats.kstest(sample, 'norm')\n",
        "print(f'Колмогоров-Смирнов: p={round(ks_test[1], 3)} - Выборка распределена нормально.') if ks_test[1] > 0.05\\\n",
        "     else print(f'Колмогоров-Смирнов: p={round(ks_test[1], 3)} - Выборка распределена не нормально.')"
      ],
      "execution_count": 30,
      "outputs": [
        {
          "output_type": "stream",
          "name": "stdout",
          "text": [
            "Шапиро-Уилко: p=0.187 - Выборка распределена нормально.\n",
            "Колмогоров-Смирнов: p=0.181 - Выборка распределена нормально.\n"
          ]
        }
      ]
    },
    {
      "cell_type": "markdown",
      "metadata": {
        "id": "ouP36bXkNjG1"
      },
      "source": [
        "Стоит сказать, что **t-критерий Стьюдента, тест Шапиро-Уилко и тест Колмогорова-Смирнова** очень сильно подвержены влияниям выбросов. Даже одно сильно отклоненное значение может существенно исказить результаты. Чтобы избежать этого необходимо:\n",
        "1. Очищать выборку от выбросов до применения критериев\n",
        "\n",
        "2. Альтернатива: использовать тест **Манна-Уитни**"
      ]
    },
    {
      "cell_type": "code",
      "metadata": {
        "colab": {
          "base_uri": "https://localhost:8080/"
        },
        "id": "f6xvQiQbNlGL",
        "outputId": "4a0871ff-39b9-4564-e689-2f4116801a07"
      },
      "source": [
        "another_sample = np.random.uniform(low=-3.0, high=3.0, size=50)  # Еще одна выборка, но распределенная равномерно\n",
        "\n",
        "mw_test = stats.mannwhitneyu(sample, another_sample)\n",
        "print(f'Манн-Уитни: p={round(mw_test[1], 3)} > 0.05 - статистически значимых различий между выборками нет.') if mw_test[1] > 0.05\\\n",
        "         else print(f'Манн-Уитни: p={round(mw_test[1], 3)} < 0.05 - выборки различаются статистически значимо.')"
      ],
      "execution_count": 31,
      "outputs": [
        {
          "output_type": "stream",
          "name": "stdout",
          "text": [
            "Манн-Уитни: p=0.004 < 0.05 - выборки различаются статистически значимо.\n"
          ]
        }
      ]
    },
    {
      "cell_type": "markdown",
      "metadata": {
        "id": "itMJijilNluz"
      },
      "source": [
        "Неожиданный результат, говорящий о том, что равномерное распределение тоже очень похоже на нормальное при малом количестве наблюдений."
      ]
    },
    {
      "cell_type": "markdown",
      "metadata": {
        "id": "treVWW_ePUNy"
      },
      "source": [
        "## 2.4 Однофакторный дисперсионный анализ\n",
        "[Вернуться к содержанию](#Содержание)"
      ]
    },
    {
      "cell_type": "markdown",
      "metadata": {
        "id": "dnn_ZWT0OCZz"
      },
      "source": [
        "Рассмотренный ранее **t-критерий Стьюдента** (равно как и его непараметрические аналоги) предназначен для сравнения исключительно **двух совокупностей с одним фактором** (одна независимая номинативная переменная).\n",
        "\n",
        "Для сравнения нескольких групп между собой можно использовать **дисперсионный анализ** или **критерий Фишера**, основанный на распределении Фишера.\n",
        "\n",
        "Переменная, которая будет разделять наших испытуемых или наблюдения на группы (номинативная переменная с нескольким градациями) называется **независимой переменной**. А та количественная переменная, по степени выраженности которой мы сравниваем группы, называется **зависимая переменная**.\n",
        "\n"
      ]
    },
    {
      "cell_type": "markdown",
      "metadata": {
        "id": "EFVAYu9A1Zp4"
      },
      "source": [
        "В общем виде [критерий Фишера](http://ru.wikipedia.org/wiki/F-%D1%82%D0%B5%D1%81%D1%82) F, или F-тест, используется для сравнения дисперсий двух генеральных нормально распределенных совокупностей, т.е проверятся следующая нулевая гипотеза:\n",
        "\n",
        "$H_0: \\sigma_1^2 = \\sigma_2^2$"
      ]
    },
    {
      "cell_type": "markdown",
      "metadata": {
        "id": "p3AyQtN1PsJy"
      },
      "source": [
        "**ANOVA** (ANalysis Of VAriance) позволяет сранивать средние значения в трех и более группах.\n",
        "\n",
        "$H_0 : M_1 = M_2 = ... = M_i$\n",
        "\n",
        "$H_1 : !(M_1 = M_2 = ... = M_i)$"
      ]
    },
    {
      "cell_type": "markdown",
      "metadata": {
        "id": "GTLPBRmdPp5f"
      },
      "source": [
        "Изменчивость имеющихся данных ($SS_t$) может быть обусловлена изменчивостью внутри групп ($SS_w$) и изменчивостью между группами ($SS_b$):\n",
        "\n",
        "* Если большая часть общей изменчивости ($SS_t$) обеспечивается благодаря изменчивости между группами ($SS_b$), это означает, что группы различаются между собой.\n",
        "* Если большая часть общей изменчивости ($SS_t$) обеспечивается благодаря внутригрупповой изменчивости ($SS_w$), то это говорит о том, что группы не различаются.\n",
        "* Если межгрупповой показатель изменчивости ($SS_b$) значительно превышает внтуригрупповой ($SS_w$), то весьма вероятно что как минимум два средних значения отличаются друг от друга.\n",
        "\n",
        "$$ SS_{total} = \\sum_{j=1}^{p}{\\sum_{i=1}^{n_j}{(x_{ij} - \\bar{x})^2}} = SS_{between} + SS_{within} $$\n",
        "$$ SS_{between} = \\sum_{j=1}^{p}{n_j{(\\bar{x}_j - \\bar{x})^2}} $$\n",
        "$$ SS_{within} = \\sum_{j=1}^{p}{\\sum_{i=1}^{n_j}{(x_{ij} - \\bar{x}_j)^2}} $$\n",
        "где:\n",
        "\n",
        "$SS_t$ - Total Sum of Squares - Общая сумма квадратов (сумма квадратов отклонений от среднего) - Характеризует изменчивость данных без учета разделения на группы\\\n",
        "$SS_b$ - Sum of Squares Between groups - Сумма квадратов междугрупповая\\\n",
        "$SS_w$ - Sum of Squares Within groups - Сумма квадратов внутригрупповая\\\n",
        "$n_j$ - Количество наблюдений внутри группы\\\n",
        "$x_j$ - Среднее значение внутри группы\\\n",
        "$x_i$$_j$ - Отдельно взятое значение внутри группы"
      ]
    },
    {
      "cell_type": "markdown",
      "metadata": {
        "id": "aDZuIy95SZMc"
      },
      "source": [
        "Усредненное значение межгрупповой суммы квадратов называется **межгрупповым средним квадратом** (межгрупповая дисперсия):\n",
        "\n",
        "$ MS_{B} = \\frac{SS_{B}}{df_{B}} $\n",
        "\n",
        "$MS_B$ - Mean Square Between - Межгрупповой средний квадрат\n",
        "\n",
        "**Внутригрупповой средний квадрат** (внтуригрупповая дисперсия):\n",
        "\n",
        "$ MS_{W} = \\frac{SS_{W}}{df_{W}} $\n",
        "\n",
        "$MS_W$ - Mean Square Within - Внутригрупповой средний квадрат\n",
        "\n",
        "**Степени свободы:**\n",
        "\n",
        "$ df = df_{B} + df_{W} = N - 1 $\n",
        "\n",
        "$ df_{B} = m - 1 $\n",
        "\n",
        "$ df_{W} = n(m-1) = N - m $\n",
        "\n",
        "$df$ - Общее число степеней свободы\\\n",
        "$df_B$ - Число межгрупповых степеней свободы (Degrees of Freedom Between-Groups)\\\n",
        "$df_W$ - Число внутригрупповых степеней свободы (Degrees of Freedom Within-Groups)\\\n",
        "$N$ - Общее число значений в таблице (равно произведению количества наблюдений и количества групп)\\\n",
        "$n$ - Количество наблюдений\\\n",
        "$m$ - Количество групп"
      ]
    },
    {
      "cell_type": "markdown",
      "metadata": {
        "id": "TyQLOSrYTNq_"
      },
      "source": [
        "**F-критерий Фишера:**\n",
        "\n",
        "$ F = \\frac{MS_{B}}{MS_{W}}$\n",
        "\n",
        "$F$ - F Ratio - F-значение (распределение Фишера)\n",
        "\n",
        "Чем ближе **F Ratio** к 1, тем меньше у нас оснований утверждать, что внутри- и межгрупповая дисперсии различаются. Иными словами, у нас нет оснований отклонить сформулированную выше нулевую гипотезу.\n",
        "\n",
        "Если же **F Ratio** значительно выше 1, то нулевую гипотезу можно отклонить."
      ]
    },
    {
      "cell_type": "markdown",
      "metadata": {
        "id": "U9vBxoIAy0Xt"
      },
      "source": [
        "[Статья r-analytics](https://r-analytics.blogspot.com/2012/03/f.html)"
      ]
    },
    {
      "cell_type": "markdown",
      "metadata": {
        "id": "np43nGWnTnXQ"
      },
      "source": [
        "**Расчет p-value для F-распределения:**\n",
        "\n",
        "[Distribution Calculator](https://gallery.shinyapps.io/dist_calc/)"
      ]
    },
    {
      "cell_type": "markdown",
      "metadata": {
        "id": "UKU_4dj1Tx2Q"
      },
      "source": [
        "### Вычисление F-критерия Фишера в Python"
      ]
    },
    {
      "cell_type": "code",
      "metadata": {
        "id": "EI66J2jmOCZz",
        "colab": {
          "base_uri": "https://localhost:8080/",
          "height": 680
        },
        "outputId": "3a26e685-60b4-44c4-c3b5-42706cfbe746"
      },
      "source": [
        "# Выборки которые надо сравнить\n",
        "data = pd.DataFrame({\n",
        "           'a': [3, 1, 2],\n",
        "           'b': [5, 3, 4],\n",
        "           'c': [7, 6, 5]\n",
        "          })\n",
        "data.boxplot()\n",
        "print('Нулевая гипотеза:', '='.join(data))\n",
        "print('Альтернативная гипотеза:', f'!({\"=\".join(data)})')\n",
        "print()\n",
        "\n",
        "# Среднее значение всех наблюдений\n",
        "grand_mean = data.values.flatten().mean()\n",
        "print('Среднее значение всех наблюдений:', grand_mean)\n",
        "\n",
        "# Сумма квадратов междугрупповая\n",
        "ssb = sum(data[group].size * (group_mean - grand_mean) ** 2  for group, group_mean in data.mean().items())\n",
        "print('SSB - Сумма квадратов междугрупповая:', ssb)\n",
        "\n",
        "# Сумма квадратов внутригрупповая\n",
        "ssw = sum(sum((x - group_mean) ** 2 for x in data[group]) for group, group_mean in data.mean().items())\n",
        "print('SSW - Сумма квадратов внутригрупповая:', ssw)\n",
        "\n",
        "# Сумма квадратов отклонений от среднего\n",
        "sst = ssb + ssw\n",
        "print('SST - Сумма квадратов отклонений от среднего:', sst)\n",
        "print()\n",
        "\n",
        "groups = data.shape[1]\n",
        "# Число межгрупповых степеней свободы (Between-Groups): dfb = m - 1\n",
        "dfb = groups - 1\n",
        "print('dfb - Число межгрупповых степеней свободы:', dfb)\n",
        "# Число внутригрупповых степеней свободы (Within-Groups): dfw = N - m\n",
        "dfw = data.size - groups\n",
        "print('dfw - Число внутригрупповых степеней свободы:', dfw)\n",
        "print()\n",
        "\n",
        "# Межгрупповой средний квадрат (Mean Square Between)\n",
        "mssb = ssb/dfb\n",
        "print('MSb - Межгрупповой средний квадрат:', mssb)\n",
        "# Внутригрупповой средний квадрат (Mean Square Within)\n",
        "mssw = ssw/dfw\n",
        "print('MSw - Внутригрупповой средний квадрат:', mssw)\n",
        "print()\n",
        "\n",
        "f_value = mssb/mssw\n",
        "print(f'F-значение = {f_value} (> 1)'if f_value > 1 else f'F-значение = {f_value} (< 1)')\n",
        "print()\n",
        "\n",
        "p = stats.f.sf(f_value, dfb, dfw)\n",
        "print('Результат:')\n",
        "if p < 0.05:\n",
        "    print(f'p={round(p, 5)} - отклоняем нулевую гипотезу')\n",
        "else:\n",
        "    print(f'p={round(p, 5)} - НЕ отклоняем нулевую гипотезу')"
      ],
      "execution_count": 32,
      "outputs": [
        {
          "output_type": "stream",
          "name": "stdout",
          "text": [
            "Нулевая гипотеза: a=b=c\n",
            "Альтернативная гипотеза: !(a=b=c)\n",
            "\n",
            "Среднее значение всех наблюдений: 4.0\n",
            "SSB - Сумма квадратов междугрупповая: 24.0\n",
            "SSW - Сумма квадратов внутригрупповая: 6.0\n",
            "SST - Сумма квадратов отклонений от среднего: 30.0\n",
            "\n",
            "dfb - Число межгрупповых степеней свободы: 2\n",
            "dfw - Число внутригрупповых степеней свободы: 6\n",
            "\n",
            "MSb - Межгрупповой средний квадрат: 12.0\n",
            "MSw - Внутригрупповой средний квадрат: 1.0\n",
            "\n",
            "F-значение = 12.0 (> 1)\n",
            "\n",
            "Результат:\n",
            "p=0.008 - отклоняем нулевую гипотезу\n"
          ]
        },
        {
          "output_type": "display_data",
          "data": {
            "image/png": "[encoded data removed]",
            "text/plain": [
              "<Figure size 864x432 with 1 Axes>"
            ]
          },
          "metadata": {
            "needs_background": "light"
          }
        }
      ]
    },
    {
      "cell_type": "markdown",
      "metadata": {
        "id": "JTxLfDHvVULR"
      },
      "source": [
        "<img src='https://nbviewer.jupyter.org/github/FyoklaBorschova/math_stat/blob/master/pictures/f_distribution.png'>"
      ]
    },
    {
      "cell_type": "markdown",
      "metadata": {
        "id": "GXeD84fAWUUc"
      },
      "source": [
        "### Однофакторный дисперсионный анализ в Python"
      ]
    },
    {
      "cell_type": "markdown",
      "metadata": {
        "id": "hVmHuFS5WrnA"
      },
      "source": [
        "[Four Ways to Conduct One-Way ANOVA with Python](https://www.marsja.se/four-ways-to-conduct-one-way-anovas-using-python/)"
      ]
    },
    {
      "cell_type": "code",
      "metadata": {
        "colab": {
          "base_uri": "https://localhost:8080/",
          "height": 437
        },
        "id": "fbhB_2R2WcXj",
        "outputId": "abc83b77-d40d-46fe-82af-7a6746503a8d"
      },
      "source": [
        "#import pandas as pd\n",
        "#from scipy import stats\n",
        "\n",
        "data_stepik = pd.read_csv('https://stepik.org/media/attachments/lesson/8083/genetherapy.csv')\n",
        "\n",
        "A_therapy = data_stepik[data_stepik[\"Therapy\"] == \"A\"][\"expr\"]\n",
        "B_therapy = data_stepik[data_stepik[\"Therapy\"] == \"B\"][\"expr\"]\n",
        "C_therapy = data_stepik[data_stepik[\"Therapy\"] == \"C\"][\"expr\"]\n",
        "D_therapy = data_stepik[data_stepik[\"Therapy\"] == \"D\"][\"expr\"]\n",
        "\n",
        "terapy_abcd = [A_therapy, B_therapy, C_therapy, D_therapy]\n",
        "\n",
        "F, p = stats.f_oneway(A_therapy, B_therapy, C_therapy, D_therapy)\n",
        "\n",
        "# Другой вариант записи:\n",
        "# F, p = stats.f_oneway(*terapy_abcd)\n",
        "# * - звёздочка означает, что мы передаём содержимое списка как набор аргументов (иначе был бы один аргумент - список)\n",
        "\n",
        "print(f'F = {round(F, 2)}, p = {round(p, 6)}')\n",
        "\n",
        "# Группируем по Therapy и рисуем boxplot для каждой группы\n",
        "data_stepik[['Therapy', 'expr']].boxplot(by='Therapy', return_type='axes', figsize=(10, 6))\n",
        "plt.show()\n",
        "# [['Therapy', 'expr']] - указываем столбцы, по которым строим график.\n",
        "# В данном случае можно удалить и ничего не изменится, т.к. столбцов в data всего два - 'Therapy' и 'expr'\n",
        "\n",
        "# подробности синтаксиса \".boxplot()\"\n",
        "# https://pandas.pydata.org/pandas-docs/stable/reference/api/pandas.plotting.boxplot.html\n"
      ],
      "execution_count": 33,
      "outputs": [
        {
          "output_type": "stream",
          "name": "stdout",
          "text": [
            "F = 8.04, p = 0.000152\n"
          ]
        },
        {
          "output_type": "display_data",
          "data": {
            "image/png": "[encoded data removed]",
            "text/plain": [
              "<Figure size 720x432 with 1 Axes>"
            ]
          },
          "metadata": {
            "needs_background": "light"
          }
        }
      ]
    },
    {
      "cell_type": "markdown",
      "metadata": {
        "id": "TFLrcg71XoTc"
      },
      "source": [
        "**Построение графика с использованием matplotlib:**"
      ]
    },
    {
      "cell_type": "code",
      "metadata": {
        "colab": {
          "base_uri": "https://localhost:8080/",
          "height": 404
        },
        "id": "4UETRCdcWcKa",
        "outputId": "eb0efe95-41c5-4980-a134-6da747f6f580"
      },
      "source": [
        "#import pandas as pd\n",
        "'''\n",
        "data_stepik = pd.read_csv('https://stepik.org/media/attachments/lesson/8083/genetherapy.csv')\n",
        "\n",
        "A_therapy = data_stepik[data_stepik[\"Therapy\"] == \"A\"][\"expr\"]\n",
        "B_therapy = data_stepik[data_stepik[\"Therapy\"] == \"B\"][\"expr\"]\n",
        "C_therapy = data_stepik[data_stepik[\"Therapy\"] == \"C\"][\"expr\"]\n",
        "D_therapy = data_stepik[data_stepik[\"Therapy\"] == \"D\"][\"expr\"]\n",
        "\n",
        "terapy_abcd = [A_therapy, B_therapy, C_therapy, D_therapy]\n",
        "'''\n",
        "\n",
        "# import math\n",
        "# import matplotlib.pyplot as plt\n",
        "# import statistics\n",
        "\n",
        "names = ['Терапия A', 'Терапия B', 'Терапия C', 'Терапия D']\n",
        "\n",
        "list_mean = [i.mean() for i in terapy_abcd]\n",
        "\n",
        "list_se = [statistics.stdev(i)/math.sqrt(len(terapy_abcd)) for i in terapy_abcd]\n",
        "\n",
        "plt.errorbar(x=names, y=list_mean, yerr=list_se, color=\"black\", capsize=3, marker=\"s\", markersize=6, mfc=\"red\", mec=\"black\", fmt = 'o')\n",
        "# Первые 3 параметра (x, y, yerr) - обязательные. Остальные можно удалить, они лишь стилизация графика\n",
        "# capsize - длина чёрточек на краях отрезков\n",
        "# marker - форма средних значений (красных квадратов)\n",
        "# markersize - размер средних значений (красных квадратов)\n",
        "# fmt = 'o' - убрать линии соединения между точками средних значений\n",
        "# др. подробности синтаксиса \".errorbar()\" - https://matplotlib.org/api/_as_gen/matplotlib.pyplot.errorbar.html\n",
        "\n",
        "plt.title('Уровень экспрессии гена при различной терапии')\n",
        "plt.grid() # - отображает размерную сетку на графике\n",
        "plt.xlabel('Вид терапии')\n",
        "plt.ylabel('Уровень экспресии')\n",
        "plt.show()"
      ],
      "execution_count": 34,
      "outputs": [
        {
          "output_type": "display_data",
          "data": {
            "image/png": "[encoded data removed]",
            "text/plain": [
              "<Figure size 864x432 with 1 Axes>"
            ]
          },
          "metadata": {
            "needs_background": "light"
          }
        }
      ]
    },
    {
      "cell_type": "markdown",
      "metadata": {
        "id": "n8deYrs8YVd3"
      },
      "source": [
        "## 2.5 Множественные сравнения в ANOVA\n",
        "[Вернуться к содержанию](#Содержание)"
      ]
    },
    {
      "cell_type": "markdown",
      "metadata": {
        "id": "UfxN0yW8OCZz"
      },
      "source": [
        "Применяя однофакторный дисперсионный анализ, мы можем проверить нулевую гипотезу о том, что все сравниваемые группы происходят из одной генеральной совокупности, и следовательно их средние значения не различаются, т.е. H0 : M1 = M2 = ... = Mi. Если нулевую гипотезу не удается отвергнуть при заданном уровне значимости (например, α = 0.05), в дальнейшем анализе, в принципе, нет необходимости. Но если нулевая гипотеза отвергается, мы делаем заключение о том, что средние значения сравниваемых групп значительно различаются (другими словами, изучаемый фактор оказывает существенное влияние на интересующую нас переменную). Это единственный вывод, который можно сделать при помощи дисперсионного анализа как такового. Однако какие именно группы отличаются друг от друга? Чтобы узнать это, необходимо выполнить попарные сравнения средних значений имеющихся групп. Критерий Стьюдента \"в чистом виде\" для таких сравнений неприменим в силу возникновения эффекта множественных сравнений. Поэтому при множественном попарном сравнении используются поправки."
      ]
    },
    {
      "cell_type": "markdown",
      "metadata": {
        "id": "9M5Zr_HRczk7"
      },
      "source": [
        "**Поправка Бонферрони** (Bonferroni correction)\n",
        "\n",
        "Если вероятность ошибки первого рода (получить значимые различия там, где их нет) возрастает пропорционально количеству групп, которые мы сравниваем между собой, то допустимый показатель p-уровня значимости (т.е. значение p, ниже которого различия считаются достоверными, обычно α = 0.05) нужно скорректировать на количество всех возможных комбинаций пар из имеющихся групп\n",
        "\n",
        "$С^2_m = \\frac{m!}{(2! \\cdot (m-2)!} = \\frac{m \\cdot (m-1)}{2}$\n",
        "\n",
        "Т.е. новый допустимый показатель p-уровня значимости:\n",
        "\n",
        "$α = \\frac{p}{С^2_m}$\n"
      ]
    },
    {
      "cell_type": "markdown",
      "metadata": {
        "id": "S0-btb5XdGe0"
      },
      "source": [
        "[Multi-comparison with Tukey’s test and the Holm-Bonferroni method](https://pythonhealthcare.org/2018/04/13/55-statistics-multi-comparison-with-tukeys-test-and-the-holm-bonferroni-method/)"
      ]
    },
    {
      "cell_type": "code",
      "metadata": {
        "colab": {
          "base_uri": "https://localhost:8080/"
        },
        "id": "KcyjdNJ2dMUg",
        "outputId": "98976150-f2b8-4d2a-fa95-5600b76c6a71"
      },
      "source": [
        "# from statsmodels.stats.multicomp import (pairwise_tukeyhsd, MultiComparison)\n",
        "\n",
        "'''\n",
        "data_stepik = pd.read_csv('https://stepik.org/media/attachments/lesson/8083/genetherapy.csv')\n",
        "'''\n",
        "\n",
        "MultiComp = MultiComparison(data_stepik['expr'], data_stepik['Therapy'])\n",
        "comp = MultiComp.allpairtest(stats.ttest_rel, method='Holm')\n",
        "\n",
        "print(comp[0])"
      ],
      "execution_count": 35,
      "outputs": [
        {
          "output_type": "stream",
          "name": "stdout",
          "text": [
            "Test Multiple Comparison ttest_rel \n",
            "FWER=0.05 method=Holm\n",
            "alphacSidak=0.01, alphacBonf=0.008\n",
            "============================================\n",
            "group1 group2  stat   pval  pval_corr reject\n",
            "--------------------------------------------\n",
            "     A      B 0.5815 0.5701    0.5701  False\n",
            "     A      C 3.0759 0.0082    0.0329   True\n",
            "     A      D 4.7318 0.0003    0.0019   True\n",
            "     B      C 2.2164 0.0437    0.1312  False\n",
            "     B      D 3.4596 0.0038    0.0192   True\n",
            "     C      D 1.2058 0.2479    0.4958  False\n",
            "--------------------------------------------\n"
          ]
        }
      ]
    },
    {
      "cell_type": "markdown",
      "metadata": {
        "id": "bjC33eHzd_lY"
      },
      "source": [
        "При наличии большого числа сравниваемых групп **метод Бонферрони** становится очень консервативным, часто не позволяя отвергнуть даже те гипотезы, которые со всей очевидностью должны быть отвергнуты.\n",
        "\n",
        "Для решения описанной проблемы (т.е. для выполнения большого числа попарных сравнений групповых средних без потери статистической мощности) используется **q-критерий Тьюки** (Tukey HSD), который представляет собой модифицированный критерий Стьюдента:\n",
        "\n",
        "$q = \\frac {\\overline X_A - \\overline X_B}{SE}$\n",
        "\n",
        "Когда все сравниваемые группы содержат одинаковое число наблюдений m:\n",
        "\n",
        "$SE = \\sqrt {\\frac {MS_W}{m}}$\n",
        "\n",
        "$MS_W$ - внутригрупповой средний квадрат (внтуригрупповая дисперсия)\n",
        "\n",
        "Когда сравниваемые группы содержат различное число число наблюдений m:\n",
        "\n",
        "$SE = \\sqrt{\\frac{MSwg}{2} \\Big ({\\frac{1}{m_A} + \\frac{1}{m_B}}\\Big)}$\n",
        "\n",
        "Благодаря тому обстоятельству, что в приведенных выше формулы стандартной ошибки входит внутригрупповая дисперсия $MS_W$, обеспечивается контроль над групповой вероятностью ошибки первого рода. Именно это делает **критерий Тьюки** подходящим критерием для выполнения большого числа попарных сравнений групповых средних."
      ]
    },
    {
      "cell_type": "code",
      "metadata": {
        "colab": {
          "base_uri": "https://localhost:8080/"
        },
        "id": "BXuvQAcqgHcG",
        "outputId": "1929a82e-c6e9-4af1-c929-345b957cc1bb"
      },
      "source": [
        "# from statsmodels.stats.multicomp import (pairwise_tukeyhsd, MultiComparison)\n",
        "'''\n",
        "data_stepik = pd.read_csv('https://stepik.org/media/attachments/lesson/8083/genetherapy.csv')\n",
        "MultiComp = MultiComparison(data_stepik['expr'], data_stepik['Therapy'])\n",
        "'''\n",
        "\n",
        "print(MultiComp.tukeyhsd().summary())"
      ],
      "execution_count": 36,
      "outputs": [
        {
          "output_type": "stream",
          "name": "stdout",
          "text": [
            " Multiple Comparison of Means - Tukey HSD, FWER=0.05 \n",
            "=====================================================\n",
            "group1 group2 meandiff p-adj   lower    upper  reject\n",
            "-----------------------------------------------------\n",
            "     A      B  -0.9333    0.9  -5.5961  3.7294  False\n",
            "     A      C  -5.3333 0.0189  -9.9961 -0.6706   True\n",
            "     A      D     -7.4  0.001 -12.0628 -2.7372   True\n",
            "     B      C     -4.4 0.0712  -9.0628  0.2628  False\n",
            "     B      D  -6.4667 0.0029 -11.1294 -1.8039   True\n",
            "     C      D  -2.0667 0.6296  -6.7294  2.5961  False\n",
            "-----------------------------------------------------\n"
          ]
        }
      ]
    },
    {
      "cell_type": "markdown",
      "metadata": {
        "id": "fQtzz6RLgZIB"
      },
      "source": [
        "Рассчитываются доверительные интервалы разности между средними значениями групп $(\\overline X_A - \\overline X_B)$. Если такой интервал не включает в себя ноль, то можно отклонить нулевую гипотезу $H0$ о равенстве двух средних.\n",
        "\n",
        "**Критерий Тьюки** имеет те же условия применимости, что и дисперсионный анализ:\n",
        "\n",
        "1. Нормальность распределения данных\n",
        "2. (особенно важно!) **однородность групповых дисперсий** (подробнее см. [здесь](https://r-analytics.blogspot.com/2013/05/blog-post.html)). Для проверки используем тест Левина (если p < 0,05, то проверка пройдена)\n",
        "\n",
        "Устойчивость к отклонению от этих условий, равно как и статистическая мощность **критерия Тьюки**, возрастают при одинаковом числе наблюдений во всех сравниваемых группах"
      ]
    },
    {
      "cell_type": "markdown",
      "metadata": {
        "id": "UewBrQQxcq5v"
      },
      "source": [
        "Почему мы не можем применить t-критерий для более двух выборок\n",
        "**применяя его попарно к каждой выборке**\n",
        "Чтобы выяснить это, сделаем эксперимент."
      ]
    },
    {
      "cell_type": "code",
      "metadata": {
        "id": "yqddDDwJOCZ0"
      },
      "source": [
        "def pair_t(samples, alpha):\n",
        "    '''Парный t-критерий, если все выборки равны, возвращает True'''\n",
        "    n_samples = samples.shape[0]\n",
        "    # https://ru.wikipedia.org/wiki/Сочетание    \n",
        "    n_combinations = n_samples * (n_samples - 1) // 2\n",
        "    result = np.zeros(n_combinations, dtype=bool)\n",
        "    k = 0\n",
        "    for i in range(n_samples):\n",
        "        for j in range(i + 1, n_samples):\n",
        "            N = samples[i].size\n",
        "            std_err = np.sqrt((samples[i].std() ** 2) / N + (samples[j].std() ** 2) / N)\n",
        "            t_value = (samples[i].mean() + samples[j].mean()) / std_err\n",
        "            p = stats.t.sf(t_value, N - 2)\n",
        "            result[k] = p >= alpha\n",
        "            k += 1\n",
        "    return np.all(result)"
      ],
      "execution_count": 37,
      "outputs": []
    },
    {
      "cell_type": "code",
      "metadata": {
        "id": "lM1-nnRJOCZ0"
      },
      "source": [
        "def pair_t_test(repeat, n_samples, sample_size, ax, alpha=0.05):\n",
        "    '''\n",
        "    функция показывает, сколько у нас будет ложных результатов, при парном сравнении множества выборок\n",
        "    с помощью t-критерия\n",
        "    \n",
        "    repeat, n_samples, sample_size = количество повторов, количество выборок в каждом повторе, размер выборки\n",
        "    \n",
        "    ax - для рисования\n",
        "    alpha = (1 - (p-уровень значимости))\n",
        "    '''\n",
        "    result = np.zeros(repeat, dtype=bool)\n",
        "    for i in range(repeat):\n",
        "        samples = np.random.randn(n_samples, sample_size)\n",
        "        result[i] = pair_t(samples, alpha)\n",
        "    \n",
        "    unique, counts = np.unique(result, return_counts=True)\n",
        "    percentage = counts/result.size\n",
        "    ax.pie(percentage, labels=unique, autopct='%.0f%%')"
      ],
      "execution_count": 38,
      "outputs": []
    },
    {
      "cell_type": "code",
      "metadata": {
        "id": "BaGTq4I9OCZ0",
        "colab": {
          "base_uri": "https://localhost:8080/",
          "height": 208
        },
        "outputId": "23be6391-2cff-4ddb-d5a6-ff2803795793"
      },
      "source": [
        "fig, axs = plt.subplots(ncols=4, figsize=(20, 4))\n",
        "n_samples = [2, 4, 8, 16]\n",
        "fig.suptitle('Процент ошибок при попарном сравнении выборок t-критерием')\n",
        "\n",
        "for n, ax in zip(n_samples, axs):\n",
        "    pair_t_test(1000, n, 100, ax)\n",
        "    ax.set_title(f'{n} samples')"
      ],
      "execution_count": 39,
      "outputs": [
        {
          "output_type": "display_data",
          "data": {
            "image/png": "[encoded data removed]",
            "text/plain": [
              "<Figure size 1440x288 with 4 Axes>"
            ]
          },
          "metadata": {}
        }
      ]
    },
    {
      "cell_type": "markdown",
      "metadata": {
        "id": "3avHnS_TOCZ0"
      },
      "source": [
        "Как мы и ожидаем, степень ошибки равна **5%**, при сравнение **двух выборок** из одной ГС с помощью t-критерия с p-уровнем значимости **95%**. Если мы возмём **4** выборки, и сравним их попарно, то ошибка возрастёт в **4** раза до **20%**. При **8** выборок, наша ошибка возрасла почти в **9** раз до **46%**. **16** выборок дают увеличение ошибки до **80%** ( в 16 раз), что совершенно неприемлемо."
      ]
    },
    {
      "cell_type": "code",
      "metadata": {
        "id": "QqRGADTsOCZ0",
        "colab": {
          "base_uri": "https://localhost:8080/",
          "height": 206
        },
        "outputId": "6000fe93-115e-43f2-a4c1-ffaeae8b6804"
      },
      "source": [
        "fig, axs = plt.subplots(ncols=4, figsize=(20, 4))\n",
        "n_samples = [2, 4, 8, 16]\n",
        "fig.suptitle('Процент ошибок при попарном сравнении выборок t-критерием с корректировкой уровня значимости')\n",
        "\n",
        "for n, ax in zip(n_samples, axs):\n",
        "    alpha = 0.05/((n*(n-1))/2)\n",
        "    pair_t_test(1000, n, 100, ax, alpha)\n",
        "    ax.set_title(f'{n} samples')"
      ],
      "execution_count": 40,
      "outputs": [
        {
          "output_type": "display_data",
          "data": {
            "image/png": "[encoded data removed]",
            "text/plain": [
              "<Figure size 1440x288 with 4 Axes>"
            ]
          },
          "metadata": {}
        }
      ]
    },
    {
      "cell_type": "markdown",
      "metadata": {
        "id": "MOvvQdhkOCZ0"
      },
      "source": [
        "Однако в данном случае это будет арх-консервативная корректировка, которая имеет меньше вероятность найти реальные значения. По сути мы **уменьшаем шанс получить ошибку I рода, но увеличиваем шанс на ошибку II рода**.\n",
        "\n",
        "### Ошибки первого и второго рода\n",
        "\n",
        "<img src='https://ucarecdn.com/2b53f64a-ab8e-47c4-a9b3-b188c1a48c70/'/>"
      ]
    },
    {
      "cell_type": "markdown",
      "metadata": {
        "id": "uGYsZO19OCZ1"
      },
      "source": [
        "## 2.6 Многофакторный ANOVA\n",
        "[Вернуться к содержанию](#Содержание)"
      ]
    },
    {
      "cell_type": "markdown",
      "metadata": {
        "id": "Y8m77fOfOCZ1"
      },
      "source": [
        "### Двухфакторный дисперсионный анализ (Two-way analysis of variance)"
      ]
    },
    {
      "cell_type": "markdown",
      "metadata": {
        "id": "sSIYmGF9hL0G"
      },
      "source": [
        "Формула общей изменчивости:\n",
        "\n",
        "$SS_t = SS_w + SS_{bA} + SS_{bB} + SS_{bA} \\cdot SS_{bB}$"
      ]
    },
    {
      "cell_type": "markdown",
      "metadata": {
        "id": "Y52ZjJ3nhuKg"
      },
      "source": [
        "[Three ways to do a two-way ANOVA with Python](http://www.marsja.se/three-ways-to-carry-out-2-way-anova-with-python/)"
      ]
    },
    {
      "cell_type": "code",
      "metadata": {
        "id": "XMjgLeonht3W"
      },
      "source": [
        ""
      ],
      "execution_count": 40,
      "outputs": []
    },
    {
      "cell_type": "markdown",
      "metadata": {
        "id": "ipdbS9DEOCZ1"
      },
      "source": [
        "### Пример 1"
      ]
    },
    {
      "cell_type": "markdown",
      "metadata": {
        "id": "y3FS0knJOCZ1"
      },
      "source": [
        "Атеросклероз довольно опасное заболевание - причина ишемической болезни сердца и инсультов. Анализ экспрессии генов лейкоцитов позволяет предсказать вероятность развития данного заболевания. В эксперименте исследовался уровень экспрессии в зависимости от возраста пациентов и дозировки лекарства аторвастина."
      ]
    },
    {
      "cell_type": "code",
      "metadata": {
        "id": "k99emk_LOCZ1"
      },
      "source": [
        "data_atero = pd.read_csv('https://stepik.org/media/attachments/lesson/9250/atherosclerosis.csv')"
      ],
      "execution_count": 41,
      "outputs": []
    },
    {
      "cell_type": "code",
      "metadata": {
        "id": "oAA2bAk-OCZ1",
        "colab": {
          "base_uri": "https://localhost:8080/",
          "height": 204
        },
        "outputId": "4ed4aa4a-a120-41cb-9b14-3dfe85e9bf96"
      },
      "source": [
        "data_atero.head()"
      ],
      "execution_count": 42,
      "outputs": [
        {
          "output_type": "execute_result",
          "data": {
            "text/html": [
              "<div>\n",
              "<style scoped>\n",
              "    .dataframe tbody tr th:only-of-type {\n",
              "        vertical-align: middle;\n",
              "    }\n",
              "\n",
              "    .dataframe tbody tr th {\n",
              "        vertical-align: top;\n",
              "    }\n",
              "\n",
              "    .dataframe thead th {\n",
              "        text-align: right;\n",
              "    }\n",
              "</style>\n",
              "<table border=\"1\" class=\"dataframe\">\n",
              "  <thead>\n",
              "    <tr style=\"text-align: right;\">\n",
              "      <th></th>\n",
              "      <th>expr</th>\n",
              "      <th>age</th>\n",
              "      <th>dose</th>\n",
              "    </tr>\n",
              "  </thead>\n",
              "  <tbody>\n",
              "    <tr>\n",
              "      <th>0</th>\n",
              "      <td>107.351478</td>\n",
              "      <td>1</td>\n",
              "      <td>D1</td>\n",
              "    </tr>\n",
              "    <tr>\n",
              "      <th>1</th>\n",
              "      <td>104.504438</td>\n",
              "      <td>1</td>\n",
              "      <td>D1</td>\n",
              "    </tr>\n",
              "    <tr>\n",
              "      <th>2</th>\n",
              "      <td>103.435134</td>\n",
              "      <td>1</td>\n",
              "      <td>D1</td>\n",
              "    </tr>\n",
              "    <tr>\n",
              "      <th>3</th>\n",
              "      <td>109.572882</td>\n",
              "      <td>1</td>\n",
              "      <td>D1</td>\n",
              "    </tr>\n",
              "    <tr>\n",
              "      <th>4</th>\n",
              "      <td>114.993803</td>\n",
              "      <td>1</td>\n",
              "      <td>D1</td>\n",
              "    </tr>\n",
              "  </tbody>\n",
              "</table>\n",
              "</div>"
            ],
            "text/plain": [
              "         expr  age dose\n",
              "0  107.351478    1   D1\n",
              "1  104.504438    1   D1\n",
              "2  103.435134    1   D1\n",
              "3  109.572882    1   D1\n",
              "4  114.993803    1   D1"
            ]
          },
          "metadata": {},
          "execution_count": 42
        }
      ]
    },
    {
      "cell_type": "markdown",
      "metadata": {
        "id": "6ZzTVyrZOCZ2"
      },
      "source": [
        "**Диаграмма**"
      ]
    },
    {
      "cell_type": "code",
      "metadata": {
        "id": "9F1J-aGNOCZ2",
        "colab": {
          "base_uri": "https://localhost:8080/",
          "height": 388
        },
        "outputId": "6cc18006-2ee5-437d-bdd2-951dacb5ab2d"
      },
      "source": [
        "fig = interaction_plot(data_atero.dose, data_atero.age, data_atero.expr, colors=['green', 'red'], \\\n",
        "                       markers=['D', '^'], ms=10)"
      ],
      "execution_count": 43,
      "outputs": [
        {
          "output_type": "display_data",
          "data": {
            "image/png": "[encoded data removed]",
            "text/plain": [
              "<Figure size 864x432 with 1 Axes>"
            ]
          },
          "metadata": {
            "needs_background": "light"
          }
        }
      ]
    },
    {
      "cell_type": "markdown",
      "metadata": {
        "id": "6Zewclr_OCZ2"
      },
      "source": [
        "**Степени свободы**"
      ]
    },
    {
      "cell_type": "code",
      "metadata": {
        "id": "pcBSE3m8OCZ2"
      },
      "source": [
        "N = len(data_atero.expr) # Количество наблюдений\n",
        "m1 = len(data_atero.age.unique()) # Количество групп по колонке age\n",
        "m2 = len(data_atero.dose.unique()) # Количество групп по колонке dose\n",
        "df_a = m1 - 1 # Количество степеней свободы группы age\n",
        "df_b = m2 - 1 # Количество степеней свободы группы dose\n",
        "df_axb = df_a * df_b\n",
        "df_w = N - m1 * m2 # Число внутригрупповых степеней свободы"
      ],
      "execution_count": 44,
      "outputs": []
    },
    {
      "cell_type": "code",
      "metadata": {
        "id": "ZMJ_rkovOCZ2",
        "colab": {
          "base_uri": "https://localhost:8080/"
        },
        "outputId": "c49be8de-60b9-470a-f245-b0054842a9dd"
      },
      "source": [
        "print('Количество наблюдений:', N)\n",
        "print('Количество групп по колонке age:', m1)\n",
        "print('Количество групп по колонке dose:', m2)\n",
        "print('Количество степеней свободы группы age:', df_a)\n",
        "print('Количество степеней свободы группы dose:', df_b)\n",
        "print(df_axb)\n",
        "print('Число внутригрупповых степеней свободы:', df_w)"
      ],
      "execution_count": 45,
      "outputs": [
        {
          "output_type": "stream",
          "name": "stdout",
          "text": [
            "Количество наблюдений: 64\n",
            "Количество групп по колонке age: 2\n",
            "Количество групп по колонке dose: 2\n",
            "Количество степеней свободы группы age: 1\n",
            "Количество степеней свободы группы dose: 1\n",
            "1\n",
            "Число внутригрупповых степеней свободы: 60\n"
          ]
        }
      ]
    },
    {
      "cell_type": "code",
      "metadata": {
        "id": "TzaGFFayOCZ3",
        "colab": {
          "base_uri": "https://localhost:8080/"
        },
        "outputId": "add8d97e-151c-44f1-dab5-dc72f4971c7d"
      },
      "source": [
        "# Общее среднее\n",
        "grand_mean = data_atero['expr'].mean() # Общее среднее колонки expr\n",
        "print('Общее среднее колонки expr:', round(grand_mean, 3))"
      ],
      "execution_count": 46,
      "outputs": [
        {
          "output_type": "stream",
          "name": "stdout",
          "text": [
            "Общее среднее колонки expr: 103.396\n"
          ]
        }
      ]
    },
    {
      "cell_type": "code",
      "metadata": {
        "id": "IznGWa9zOCZ3",
        "colab": {
          "base_uri": "https://localhost:8080/"
        },
        "outputId": "d1413563-e702-41ca-b32d-5f10a13e1498"
      },
      "source": [
        "# Суммы квадратов\n",
        "ssq_a = sum([(data_atero[data_atero.age == i].expr.mean() - grand_mean)**2 for i in data_atero.age])\n",
        "ssq_b = sum([(data_atero[data_atero.dose == i].expr.mean() - grand_mean)**2 for i in data_atero.dose])\n",
        "ssq_t = sum((data_atero.expr - grand_mean)**2)\n",
        "spl_age = [data_atero[data_atero.age == i] for i in data_atero.age.unique()]\n",
        "age_means = [[x_age[x_age.dose == d].expr.mean() for d in x_age.dose] for x_age in spl_age]\n",
        "ssq_w = sum([sum((spl_age[i].expr - age_means[i])**2) for i in range(len(data_atero.age.unique()))])\n",
        "ssq_axb = ssq_t - ssq_a - ssq_b - ssq_w\n",
        "\n",
        "print(round(ssq_a, 2))\n",
        "print(round(ssq_b, 2))\n",
        "print(round(ssq_t, 2))\n",
        "print(round(ssq_w, 2))\n",
        "print(round(ssq_axb, 2))"
      ],
      "execution_count": 47,
      "outputs": [
        {
          "output_type": "stream",
          "name": "stdout",
          "text": [
            "197.45\n",
            "16.91\n",
            "1805.55\n",
            "1590.26\n",
            "0.93\n"
          ]
        }
      ]
    },
    {
      "cell_type": "code",
      "metadata": {
        "id": "ON2vqlYxOCZ3"
      },
      "source": [
        "# Средние квадраты\n",
        "ms_a = ssq_a/df_a\n",
        "ms_b = ssq_b/df_b\n",
        "ms_axb = ssq_axb/df_axb\n",
        "ms_w = ssq_w/df_w\n",
        "\n",
        "# F-значения\n",
        "f_a = ms_a/ms_w\n",
        "f_b = ms_b/ms_w\n",
        "f_axb = ms_axb/ms_w\n",
        "\n",
        "# P-значения\n",
        "p_a = stats.f.sf(f_a, df_a, df_w)\n",
        "p_b = stats.f.sf(f_b, df_b, df_w)\n",
        "p_axb = stats.f.sf(f_axb, df_axb, df_w)"
      ],
      "execution_count": 48,
      "outputs": []
    },
    {
      "cell_type": "markdown",
      "metadata": {
        "id": "KEXNIBduOCZ4"
      },
      "source": [
        "**Результаты**"
      ]
    },
    {
      "cell_type": "code",
      "metadata": {
        "id": "kLARSmqGOCZ4",
        "colab": {
          "base_uri": "https://localhost:8080/"
        },
        "outputId": "40452909-c49c-47ed-8562-ab30cccbacc3"
      },
      "source": [
        "results = {'sum_sq': [ssq_a, ssq_b, ssq_axb, ssq_w], \\\n",
        "          'df': [df_a, df_b, df_axb, df_w], \\\n",
        "          'F': [f_a, f_b, f_axb, 'NaN'], \\\n",
        "          'PR(>F)': [p_a, p_b, p_axb, 'NaN']}\n",
        "columns=['sum_sq', 'df', 'F', 'PR(>F)']\n",
        "aov_table1 = pd.DataFrame(results, columns = columns, index = ['age', 'dose', 'age:dose', 'Residual'])\n",
        "print(aov_table1)"
      ],
      "execution_count": 49,
      "outputs": [
        {
          "output_type": "stream",
          "name": "stdout",
          "text": [
            "               sum_sq  df          F      PR(>F)\n",
            "age        197.452754   1    7.44984  0.00831345\n",
            "dose        16.912241   1   0.638094    0.427552\n",
            "age:dose     0.927077   1  0.0349784    0.852272\n",
            "Residual  1590.257424  60        NaN         NaN\n"
          ]
        }
      ]
    },
    {
      "cell_type": "code",
      "metadata": {
        "colab": {
          "base_uri": "https://localhost:8080/",
          "height": 473
        },
        "id": "yJkybElTjxb1",
        "outputId": "58632f3b-8e15-4fc0-cd5b-4da086b76400"
      },
      "source": [
        "# import pandas as pd\n",
        "# import statsmodels.api as sm\n",
        "# from statsmodels.formula.api import ols\n",
        "# from statsmodels.stats.anova import anova_lm\n",
        "#import matplotlib.pyplot as plt\n",
        "\n",
        "'''\n",
        "data_atero = pd.read_csv('https://stepik.org/media/attachments/lesson/9250/atherosclerosis.csv')\n",
        "\n",
        "'''\n",
        "formula = 'expr~C(age)+C(dose)+C(age):C(dose)'\n",
        "model = ols(formula, data_atero).fit()\n",
        "aov_table2 = anova_lm(model, typ=2)\n",
        "\n",
        "print(aov_table2)\n",
        "\n",
        "#График:\n",
        "res = model.resid \n",
        "fig = sm.qqplot(res, line='s')\n",
        "plt.show()"
      ],
      "execution_count": 50,
      "outputs": [
        {
          "output_type": "stream",
          "name": "stdout",
          "text": [
            "                     sum_sq    df         F    PR(>F)\n",
            "C(age)           197.452754   1.0  7.449841  0.008313\n",
            "C(dose)           16.912241   1.0  0.638094  0.427552\n",
            "C(age):C(dose)     0.927077   1.0  0.034978  0.852272\n",
            "Residual        1590.257424  60.0       NaN       NaN\n"
          ]
        },
        {
          "output_type": "display_data",
          "data": {
            "image/png": "[encoded data removed]",
            "text/plain": [
              "<Figure size 864x432 with 1 Axes>"
            ]
          },
          "metadata": {
            "needs_background": "light"
          }
        }
      ]
    },
    {
      "cell_type": "markdown",
      "metadata": {
        "id": "0j7WOZSnOCZ5"
      },
      "source": [
        "### [Пример 2](https://www.youtube.com/playlist?list=PLWtoq-EhUJe2TjJYfZUQtuq7a0dQCnOWp)"
      ]
    },
    {
      "cell_type": "markdown",
      "metadata": {
        "id": "d52mLcA8OCZ5"
      },
      "source": [
        "An introduction to Two Way ANOVA (Factorial) also known as Factorial Analysis.  Step by step visual instructions organize data to conduct a two way ANOVA.  Includes a comparison with One Way ANOVA.  Instructions on how to build a mean table."
      ]
    },
    {
      "cell_type": "code",
      "metadata": {
        "id": "ZvT5qit1OCZ5"
      },
      "source": [
        "results = {'Gender': ['Boys', 'Boys', 'Boys', \\\n",
        "                      'Girls', 'Girls', 'Girls', \\\n",
        "                      'Boys', 'Boys', 'Boys', \\\n",
        "                      'Girls', 'Girls', 'Girls', \\\n",
        "                      'Boys', 'Boys', 'Boys', \\\n",
        "                      'Girls', 'Girls', 'Girls'], \\\n",
        "          'Score': [4, 6, 8, \\\n",
        "                    4, 8, 9, \\\n",
        "                    6, 6, 9, \\\n",
        "                    7, 10, 13, \\\n",
        "                    8, 9, 13, \\\n",
        "                    12, 14, 16], \\\n",
        "          'Age_Group': ['10 Year Olds', '10 Year Olds', '10 Year Olds', \\\n",
        "                        '10 Year Olds', '10 Year Olds', '10 Year Olds', \\\n",
        "                        '11 Year Olds', '11 Year Olds', '11 Year Olds', \\\n",
        "                        '11 Year Olds', '11 Year Olds', '11 Year Olds', \\\n",
        "                        '12 Year Olds', '12 Year Olds', '12 Year Olds', \\\n",
        "                       '12 Year Olds', '12 Year Olds', '12 Year Olds']}\n",
        "columns = ['Gender', 'Score', 'Age_Group']\n",
        "data = pd.DataFrame(results, columns = columns)"
      ],
      "execution_count": 51,
      "outputs": []
    },
    {
      "cell_type": "code",
      "metadata": {
        "id": "YKLved95OCZ5",
        "colab": {
          "base_uri": "https://localhost:8080/",
          "height": 607
        },
        "outputId": "ed4cc807-3269-4296-94a4-1b971e5b11a7"
      },
      "source": [
        "data"
      ],
      "execution_count": 52,
      "outputs": [
        {
          "output_type": "execute_result",
          "data": {
            "text/html": [
              "<div>\n",
              "<style scoped>\n",
              "    .dataframe tbody tr th:only-of-type {\n",
              "        vertical-align: middle;\n",
              "    }\n",
              "\n",
              "    .dataframe tbody tr th {\n",
              "        vertical-align: top;\n",
              "    }\n",
              "\n",
              "    .dataframe thead th {\n",
              "        text-align: right;\n",
              "    }\n",
              "</style>\n",
              "<table border=\"1\" class=\"dataframe\">\n",
              "  <thead>\n",
              "    <tr style=\"text-align: right;\">\n",
              "      <th></th>\n",
              "      <th>Gender</th>\n",
              "      <th>Score</th>\n",
              "      <th>Age_Group</th>\n",
              "    </tr>\n",
              "  </thead>\n",
              "  <tbody>\n",
              "    <tr>\n",
              "      <th>0</th>\n",
              "      <td>Boys</td>\n",
              "      <td>4</td>\n",
              "      <td>10 Year Olds</td>\n",
              "    </tr>\n",
              "    <tr>\n",
              "      <th>1</th>\n",
              "      <td>Boys</td>\n",
              "      <td>6</td>\n",
              "      <td>10 Year Olds</td>\n",
              "    </tr>\n",
              "    <tr>\n",
              "      <th>2</th>\n",
              "      <td>Boys</td>\n",
              "      <td>8</td>\n",
              "      <td>10 Year Olds</td>\n",
              "    </tr>\n",
              "    <tr>\n",
              "      <th>3</th>\n",
              "      <td>Girls</td>\n",
              "      <td>4</td>\n",
              "      <td>10 Year Olds</td>\n",
              "    </tr>\n",
              "    <tr>\n",
              "      <th>4</th>\n",
              "      <td>Girls</td>\n",
              "      <td>8</td>\n",
              "      <td>10 Year Olds</td>\n",
              "    </tr>\n",
              "    <tr>\n",
              "      <th>5</th>\n",
              "      <td>Girls</td>\n",
              "      <td>9</td>\n",
              "      <td>10 Year Olds</td>\n",
              "    </tr>\n",
              "    <tr>\n",
              "      <th>6</th>\n",
              "      <td>Boys</td>\n",
              "      <td>6</td>\n",
              "      <td>11 Year Olds</td>\n",
              "    </tr>\n",
              "    <tr>\n",
              "      <th>7</th>\n",
              "      <td>Boys</td>\n",
              "      <td>6</td>\n",
              "      <td>11 Year Olds</td>\n",
              "    </tr>\n",
              "    <tr>\n",
              "      <th>8</th>\n",
              "      <td>Boys</td>\n",
              "      <td>9</td>\n",
              "      <td>11 Year Olds</td>\n",
              "    </tr>\n",
              "    <tr>\n",
              "      <th>9</th>\n",
              "      <td>Girls</td>\n",
              "      <td>7</td>\n",
              "      <td>11 Year Olds</td>\n",
              "    </tr>\n",
              "    <tr>\n",
              "      <th>10</th>\n",
              "      <td>Girls</td>\n",
              "      <td>10</td>\n",
              "      <td>11 Year Olds</td>\n",
              "    </tr>\n",
              "    <tr>\n",
              "      <th>11</th>\n",
              "      <td>Girls</td>\n",
              "      <td>13</td>\n",
              "      <td>11 Year Olds</td>\n",
              "    </tr>\n",
              "    <tr>\n",
              "      <th>12</th>\n",
              "      <td>Boys</td>\n",
              "      <td>8</td>\n",
              "      <td>12 Year Olds</td>\n",
              "    </tr>\n",
              "    <tr>\n",
              "      <th>13</th>\n",
              "      <td>Boys</td>\n",
              "      <td>9</td>\n",
              "      <td>12 Year Olds</td>\n",
              "    </tr>\n",
              "    <tr>\n",
              "      <th>14</th>\n",
              "      <td>Boys</td>\n",
              "      <td>13</td>\n",
              "      <td>12 Year Olds</td>\n",
              "    </tr>\n",
              "    <tr>\n",
              "      <th>15</th>\n",
              "      <td>Girls</td>\n",
              "      <td>12</td>\n",
              "      <td>12 Year Olds</td>\n",
              "    </tr>\n",
              "    <tr>\n",
              "      <th>16</th>\n",
              "      <td>Girls</td>\n",
              "      <td>14</td>\n",
              "      <td>12 Year Olds</td>\n",
              "    </tr>\n",
              "    <tr>\n",
              "      <th>17</th>\n",
              "      <td>Girls</td>\n",
              "      <td>16</td>\n",
              "      <td>12 Year Olds</td>\n",
              "    </tr>\n",
              "  </tbody>\n",
              "</table>\n",
              "</div>"
            ],
            "text/plain": [
              "   Gender  Score     Age_Group\n",
              "0    Boys      4  10 Year Olds\n",
              "1    Boys      6  10 Year Olds\n",
              "2    Boys      8  10 Year Olds\n",
              "3   Girls      4  10 Year Olds\n",
              "4   Girls      8  10 Year Olds\n",
              "5   Girls      9  10 Year Olds\n",
              "6    Boys      6  11 Year Olds\n",
              "7    Boys      6  11 Year Olds\n",
              "8    Boys      9  11 Year Olds\n",
              "9   Girls      7  11 Year Olds\n",
              "10  Girls     10  11 Year Olds\n",
              "11  Girls     13  11 Year Olds\n",
              "12   Boys      8  12 Year Olds\n",
              "13   Boys      9  12 Year Olds\n",
              "14   Boys     13  12 Year Olds\n",
              "15  Girls     12  12 Year Olds\n",
              "16  Girls     14  12 Year Olds\n",
              "17  Girls     16  12 Year Olds"
            ]
          },
          "metadata": {},
          "execution_count": 52
        }
      ]
    },
    {
      "cell_type": "markdown",
      "metadata": {
        "id": "m2a9VZdEOCZ5"
      },
      "source": [
        "<img src='https://d.radikal.ru/d16/2103/9b/bdfc81a4fdb5.png'/>"
      ]
    },
    {
      "cell_type": "markdown",
      "metadata": {
        "id": "zx7Jl0_oOCZ5"
      },
      "source": [
        "**Establish Hypothesis**\\\n",
        "H0: Gender will have no significant effect on students score (1st Factor).\\\n",
        "H0: Age will have no significant effect on students score (2nd Factor).\\\n",
        "H0: Gender and Age will have no significant effect on students score."
      ]
    },
    {
      "cell_type": "code",
      "metadata": {
        "id": "lO_ajmT7OCZ5",
        "colab": {
          "base_uri": "https://localhost:8080/"
        },
        "outputId": "0efa945b-a429-43bf-c55e-10f4cef9902d"
      },
      "source": [
        "data.Score.mean()"
      ],
      "execution_count": 53,
      "outputs": [
        {
          "output_type": "execute_result",
          "data": {
            "text/plain": [
              "9.0"
            ]
          },
          "metadata": {},
          "execution_count": 53
        }
      ]
    },
    {
      "cell_type": "code",
      "metadata": {
        "id": "tSpe6ZvmOCZ6",
        "colab": {
          "base_uri": "https://localhost:8080/"
        },
        "outputId": "d6f3cbb2-5577-46a9-baa2-d9f28fbb77a1"
      },
      "source": [
        "round(data.loc[data.Gender == 'Girls'].Score.mean(), 2)"
      ],
      "execution_count": 54,
      "outputs": [
        {
          "output_type": "execute_result",
          "data": {
            "text/plain": [
              "10.33"
            ]
          },
          "metadata": {},
          "execution_count": 54
        }
      ]
    },
    {
      "cell_type": "code",
      "metadata": {
        "id": "XHF112IMOCZ6",
        "colab": {
          "base_uri": "https://localhost:8080/"
        },
        "outputId": "9ed14f7b-9e76-49e4-aae7-3068cbdf93a4"
      },
      "source": [
        "round(data.loc[data.Gender == 'Boys'].Score.mean(), 2)"
      ],
      "execution_count": 55,
      "outputs": [
        {
          "output_type": "execute_result",
          "data": {
            "text/plain": [
              "7.67"
            ]
          },
          "metadata": {},
          "execution_count": 55
        }
      ]
    },
    {
      "cell_type": "code",
      "metadata": {
        "id": "N05xyWp4OCZ6",
        "colab": {
          "base_uri": "https://localhost:8080/"
        },
        "outputId": "b3c9b853-bda0-456b-ad39-5bed56118672"
      },
      "source": [
        "round(data.loc[data.Age_Group == '10 Year Olds'].Score.mean(), 2)"
      ],
      "execution_count": 56,
      "outputs": [
        {
          "output_type": "execute_result",
          "data": {
            "text/plain": [
              "6.5"
            ]
          },
          "metadata": {},
          "execution_count": 56
        }
      ]
    },
    {
      "cell_type": "code",
      "metadata": {
        "id": "FbMtwMHxOCZ6",
        "colab": {
          "base_uri": "https://localhost:8080/"
        },
        "outputId": "7861f8b3-019d-4365-f1bd-ae1c55c21eda"
      },
      "source": [
        "round(data.loc[data.Age_Group == '11 Year Olds'].Score.mean(), 2)"
      ],
      "execution_count": 57,
      "outputs": [
        {
          "output_type": "execute_result",
          "data": {
            "text/plain": [
              "8.5"
            ]
          },
          "metadata": {},
          "execution_count": 57
        }
      ]
    },
    {
      "cell_type": "code",
      "metadata": {
        "id": "IpCS7Vu5OCZ6",
        "colab": {
          "base_uri": "https://localhost:8080/"
        },
        "outputId": "05267adf-59da-4242-e7dd-617669b26234"
      },
      "source": [
        "round(data.loc[data.Age_Group == '12 Year Olds'].Score.mean(), 2)"
      ],
      "execution_count": 58,
      "outputs": [
        {
          "output_type": "execute_result",
          "data": {
            "text/plain": [
              "12.0"
            ]
          },
          "metadata": {},
          "execution_count": 58
        }
      ]
    },
    {
      "cell_type": "code",
      "metadata": {
        "id": "KOVCt90EOCZ6",
        "colab": {
          "base_uri": "https://localhost:8080/"
        },
        "outputId": "2c585f8e-4b98-4e76-c3cb-66f37862cdee"
      },
      "source": [
        "data_Girls = data.loc[data.Gender == 'Girls']\n",
        "data_Girls.loc[data_Girls.Age_Group == '10 Year Olds'].Score.mean()"
      ],
      "execution_count": 59,
      "outputs": [
        {
          "output_type": "execute_result",
          "data": {
            "text/plain": [
              "7.0"
            ]
          },
          "metadata": {},
          "execution_count": 59
        }
      ]
    },
    {
      "cell_type": "markdown",
      "metadata": {
        "id": "OfAgpWhNOCZ7"
      },
      "source": [
        "[**Пример 3**](https://stepik.org/lesson/9250/step/6?unit=1830)"
      ]
    },
    {
      "cell_type": "markdown",
      "metadata": {
        "id": "X-EHb434OCZ7"
      },
      "source": [
        "Исследователей интересовало влияние инъекции некоторого гормона на показатель концентрации кальция в плазме крови у птиц с учетом их пола.\n",
        "\n",
        "Инъекция (hormone) - независимая переменная №1\\\n",
        "Пол (sex) - независимая переменная №2\\\n",
        "Концентрация кальция (var4) - зависимая переменная"
      ]
    },
    {
      "cell_type": "code",
      "metadata": {
        "id": "M_t-5DCFOCZ7"
      },
      "source": [
        "URL = 'https://stepik.org/media/attachments/lesson/9250/birds.csv'\n",
        "data = pd.read_csv(URL)"
      ],
      "execution_count": 60,
      "outputs": []
    },
    {
      "cell_type": "code",
      "metadata": {
        "id": "XzE8aIQ9OCZ7",
        "colab": {
          "base_uri": "https://localhost:8080/",
          "height": 419
        },
        "outputId": "1a969b06-9593-4723-b789-eba5796225c3"
      },
      "source": [
        "data"
      ],
      "execution_count": 61,
      "outputs": [
        {
          "output_type": "execute_result",
          "data": {
            "text/html": [
              "<div>\n",
              "<style scoped>\n",
              "    .dataframe tbody tr th:only-of-type {\n",
              "        vertical-align: middle;\n",
              "    }\n",
              "\n",
              "    .dataframe tbody tr th {\n",
              "        vertical-align: top;\n",
              "    }\n",
              "\n",
              "    .dataframe thead th {\n",
              "        text-align: right;\n",
              "    }\n",
              "</style>\n",
              "<table border=\"1\" class=\"dataframe\">\n",
              "  <thead>\n",
              "    <tr style=\"text-align: right;\">\n",
              "      <th></th>\n",
              "      <th>var4</th>\n",
              "      <th>hormone</th>\n",
              "      <th>sex</th>\n",
              "    </tr>\n",
              "  </thead>\n",
              "  <tbody>\n",
              "    <tr>\n",
              "      <th>0</th>\n",
              "      <td>17.859039</td>\n",
              "      <td>1</td>\n",
              "      <td>1</td>\n",
              "    </tr>\n",
              "    <tr>\n",
              "      <th>1</th>\n",
              "      <td>20.842343</td>\n",
              "      <td>1</td>\n",
              "      <td>1</td>\n",
              "    </tr>\n",
              "    <tr>\n",
              "      <th>2</th>\n",
              "      <td>19.318099</td>\n",
              "      <td>1</td>\n",
              "      <td>1</td>\n",
              "    </tr>\n",
              "    <tr>\n",
              "      <th>3</th>\n",
              "      <td>20.064451</td>\n",
              "      <td>1</td>\n",
              "      <td>1</td>\n",
              "    </tr>\n",
              "    <tr>\n",
              "      <th>4</th>\n",
              "      <td>17.620316</td>\n",
              "      <td>1</td>\n",
              "      <td>1</td>\n",
              "    </tr>\n",
              "    <tr>\n",
              "      <th>...</th>\n",
              "      <td>...</td>\n",
              "      <td>...</td>\n",
              "      <td>...</td>\n",
              "    </tr>\n",
              "    <tr>\n",
              "      <th>59</th>\n",
              "      <td>17.054195</td>\n",
              "      <td>0</td>\n",
              "      <td>0</td>\n",
              "    </tr>\n",
              "    <tr>\n",
              "      <th>60</th>\n",
              "      <td>22.951551</td>\n",
              "      <td>0</td>\n",
              "      <td>0</td>\n",
              "    </tr>\n",
              "    <tr>\n",
              "      <th>61</th>\n",
              "      <td>18.799382</td>\n",
              "      <td>0</td>\n",
              "      <td>0</td>\n",
              "    </tr>\n",
              "    <tr>\n",
              "      <th>62</th>\n",
              "      <td>16.543161</td>\n",
              "      <td>0</td>\n",
              "      <td>0</td>\n",
              "    </tr>\n",
              "    <tr>\n",
              "      <th>63</th>\n",
              "      <td>25.683038</td>\n",
              "      <td>0</td>\n",
              "      <td>0</td>\n",
              "    </tr>\n",
              "  </tbody>\n",
              "</table>\n",
              "<p>64 rows × 3 columns</p>\n",
              "</div>"
            ],
            "text/plain": [
              "         var4  hormone  sex\n",
              "0   17.859039        1    1\n",
              "1   20.842343        1    1\n",
              "2   19.318099        1    1\n",
              "3   20.064451        1    1\n",
              "4   17.620316        1    1\n",
              "..        ...      ...  ...\n",
              "59  17.054195        0    0\n",
              "60  22.951551        0    0\n",
              "61  18.799382        0    0\n",
              "62  16.543161        0    0\n",
              "63  25.683038        0    0\n",
              "\n",
              "[64 rows x 3 columns]"
            ]
          },
          "metadata": {},
          "execution_count": 61
        }
      ]
    },
    {
      "cell_type": "code",
      "metadata": {
        "id": "NPiqQI8OOCZ7",
        "colab": {
          "base_uri": "https://localhost:8080/"
        },
        "outputId": "a069df13-9be8-4478-def7-d05c2d11ed4b"
      },
      "source": [
        "formula = 'var4 ~ C(hormone) + C(sex) + C(hormone):C(sex)'\n",
        "model = ols(formula, data).fit()\n",
        "aov_table = anova_lm(model, typ=2)\n",
        "print(aov_table)"
      ],
      "execution_count": 62,
      "outputs": [
        {
          "output_type": "stream",
          "name": "stdout",
          "text": [
            "                       sum_sq    df         F    PR(>F)\n",
            "C(hormone)           0.847472   1.0  0.086528  0.769653\n",
            "C(sex)               0.119762   1.0  0.012228  0.912318\n",
            "C(hormone):C(sex)   89.483384   1.0  9.136390  0.003682\n",
            "Residual           587.650394  60.0       NaN       NaN\n"
          ]
        }
      ]
    },
    {
      "cell_type": "markdown",
      "metadata": {
        "id": "zxw3riSfOCZ7"
      },
      "source": [
        "Из результатов видно, что ни фактор инъекции, ни фактор пола не оказали значимого влияния на зависимую переменную концентрации кальция, т.к. значения Pr(>F) 0.769653 и 0.912318 соответственно. Но взаимодействие этих факторов C(hormone):C(sex) оказало довольно значимое влияние на зависимую переменную."
      ]
    },
    {
      "cell_type": "code",
      "metadata": {
        "id": "MCLIJ0krOCZ7",
        "colab": {
          "base_uri": "https://localhost:8080/",
          "height": 415
        },
        "outputId": "0a0b2824-b779-4d3a-c83b-cbcadf6f8c64"
      },
      "source": [
        "sns.set(context='notebook', font_scale=1.2)\n",
        "sns.pointplot(data=data[data['sex']==1], x='hormone', y='var4', capsize=.1, ci='sd')\n",
        "plt.ylim(14, 24)\n",
        "_ = plt.title('Взаимодействие факторов man')"
      ],
      "execution_count": 63,
      "outputs": [
        {
          "output_type": "display_data",
          "data": {
            "image/png": "[encoded data removed]",
            "text/plain": [
              "<Figure size 864x432 with 1 Axes>"
            ]
          },
          "metadata": {}
        }
      ]
    },
    {
      "cell_type": "code",
      "metadata": {
        "id": "B66SRZNVOCZ8",
        "colab": {
          "base_uri": "https://localhost:8080/",
          "height": 415
        },
        "outputId": "f05a7a39-b087-4ebc-f10a-61562b36f0b4"
      },
      "source": [
        "sns.set(context='notebook', font_scale=1.2)\n",
        "sns.pointplot(data=data[data['sex']==0], x='hormone', y='var4', capsize=.1, ci='sd')\n",
        "plt.ylim(14, 24)\n",
        "_ = plt.title('Взаимодействие факторов woman')"
      ],
      "execution_count": 64,
      "outputs": [
        {
          "output_type": "display_data",
          "data": {
            "image/png": "[encoded data removed]",
            "text/plain": [
              "<Figure size 864x432 with 1 Axes>"
            ]
          },
          "metadata": {}
        }
      ]
    },
    {
      "cell_type": "markdown",
      "metadata": {
        "id": "v-R1kn9wOCZ8"
      },
      "source": [
        "Для мужского пола наличие инъекции приводит к увеличению концентрации кальция, а для женксого - к уменьшению, поэтому фактор пола не оказал значимого влияния на зависимую переменную."
      ]
    },
    {
      "cell_type": "markdown",
      "metadata": {
        "id": "WWSwDQvFOCZ8"
      },
      "source": [
        "### Гомогенность дисперсии\n",
        "Условия для дисперсионного анализа:\n",
        "- Нормальность распределения в каждой из групп\n",
        "- Гомогенность дисперсии - дисперсия должна примерно одинаковой в каждой из групп\n",
        "\n",
        "Нормальность распределения можно проверить на графиках QQ-plot и убедиться, что большинство точек лежит близко к прямой линии.\\\n",
        "Гомогенность дисперсии можно проверить в box plot на наличие выбросов и применить тест Левина (Levene's Test)."
      ]
    },
    {
      "cell_type": "markdown",
      "metadata": {
        "id": "-lowJi6XOCZ8"
      },
      "source": [
        "## 2.7 A/B тесты и статистика\n",
        "[Вернуться к содержанию](#Содержание)"
      ]
    },
    {
      "cell_type": "markdown",
      "metadata": {
        "id": "98RKqOzROCZ8"
      },
      "source": [
        "A/B тестирование - это проведение экспериментов при помощи статистики, пожалуй, самый яркий пример того, зачем статистика нужна в реальной жизни! A/B тесты - один из основных инструментов в продуктовой аналитике. Этот метод маркетингового исследования заключается в том, что контрольная группа элементов сравнивается с набором тестовых групп, где один или несколько показателей изменены для того, чтобы выяснить, какие из изменений улучшают целевой показатель. Например, мы можем поменять цвет кнопки для регистрации с красного на синий и сравнить, насколько это будет эффективно."
      ]
    },
    {
      "cell_type": "markdown",
      "metadata": {
        "id": "hzsb1-WiOCZ8"
      },
      "source": [
        "После интервью с [Никитой](https://www.youtube.com/watch?v=gljfGAkgX_o&t=4s) мы собрали источники, которые он одобряет и использует в работе с A/B тестами (а некоторые даже написаны им лично!):\n",
        "\n",
        "1. Крутая [книга](https://experimentguide.com/) о том, как спланировать и провести своё первое A/B тестирование\n",
        "2. [Подборка](https://exp-platform.com/) примеров применения A/B тестов в индустрии: как топовая литература на тему, так и интервью от сотрудников крупных компаний, применяющих A/B тесты в работе\n",
        "3. Пошаговый, написанный с Никитой в соавторстве [гайдлайн](https://medium.com/@vktech/practitioners-guide-to-statistical-tests-ed2d580ef04f?fbclid=IwAR0Q7Gb-YmHG0Cg28IMC6RdBcjwqM466HaB4c-CtpXd03N-XyNzv9N5sWF0) для создания A/B тестов на языке Python\n",
        "4. [Статья](https://research.google/pubs/pub43157/), описывающая как определять, комбинировать и объединять метрики (и комбинации из 2-3 метрик) с высокой прогнозирующей способностью таким образом, чтобы уменьшать их число и снижать вариативность\n",
        "5. [Работа](https://arxiv.org/abs/1404.7530), рассматривающая различные подходы к планированию и созданию рандомизированных экспериментов, чтобы не получить мнимые отличия на этапе дизайна\n",
        "6. Краткие [конспекты](https://research.fb.com/publications/top-challenges-from-the-first-practical-online-controlled-experiments-summit/) докладов исследователей и практиков из области анализа данных с конференции KDD 2019, где можно почерпнуть новаторские решения в планировании экспериментов для бизнеса\n",
        "7. Краткое [руководство](https://onlineuserengagement.github.io/) как правильно выстроить работу b2c: на какие метрики необходимо смотреть и как их учитывать для улучшения работы"
      ]
    },
    {
      "cell_type": "markdown",
      "metadata": {
        "id": "0-OD7IADOCZ8"
      },
      "source": [
        "<hr>"
      ]
    },
    {
      "cell_type": "markdown",
      "metadata": {
        "id": "R4i3SyU2OCZ8"
      },
      "source": [
        "# Часть 3 Корреляция и регрессия"
      ]
    },
    {
      "cell_type": "markdown",
      "metadata": {
        "id": "NjJl9VidcXex"
      },
      "source": [
        "## 3.1 Понятие корреляции\n",
        "[Вернуться к содержанию](#Содержание)"
      ]
    },
    {
      "cell_type": "markdown",
      "metadata": {
        "id": "OyXnZglJOCZ9"
      },
      "source": [
        "**Ковариация** (ко - совместная, вариация - изменчивость) - мера **линейной** зависимости двух случайных величин.\n",
        "\n",
        "$$ cov(X, Y) = \\frac{\\sum{(x_i - \\bar{x})(y_i - \\bar{x})}}{N - 1} $$\n",
        "где $N$ - количество случайных величин, а единица - количество степеней свободы.\n",
        "\n",
        "Если **ковариация** положительна, то с ростом значений одной случайной величины, значения второй имеют тенденцию возрастать, а если знак отрицательный — то убывать.\n",
        "\n",
        "Однако только по **абсолютному** значению ковариации **нельзя судить** о том, **насколько сильно величины взаимосвязаны**, так как масштаб ковариации зависит от их дисперсий. Значение ковариации можно нормировать, поделив её на произведение среднеквадратических отклонений (квадратных корней из дисперсий) случайных величин. Полученная величина называется **коэффициентом корреляции Пирсона**, который всегда находится в интервале от −1 до 1."
      ]
    },
    {
      "cell_type": "markdown",
      "metadata": {
        "id": "jfLpIgpcOCZ9"
      },
      "source": [
        "**Коэффициент корреляции (Пирсона)** – показатель силы и направления взаимосвязи двух количественных переменных:\n",
        "$$ r(x, y) = \\frac{cov(x, y)}{\\sigma_x\\sigma_y}$$"
      ]
    },
    {
      "cell_type": "markdown",
      "metadata": {
        "id": "NAiuiK3Xl7PE"
      },
      "source": [
        "**Коэффициент детерминации** – показывает в какой степени дисперсия одной переменной обусловлена *влиянием* другой переменной:\n",
        "\n",
        "$R^2 = (r_{xy})^2$\n",
        "\n",
        "Значение **коэффициента детерминации** находится в интервале $[0; 1]$"
      ]
    },
    {
      "cell_type": "markdown",
      "metadata": {
        "id": "9tkcWFyEOCZ9"
      },
      "source": [
        "**Подробнее про формулу корреляции**\n",
        "\n",
        "Давайте остановимся на формуле коэффициента корреляции, которую мы получили:\n",
        "$$ r(x, y) = \\frac{cov(x, y)}{\\sigma_x\\sigma_y}$$\n",
        "запишем формулу чуть подробнее и выполним возможные преобразования:\n",
        "\n",
        "$$ r(x, y) = \\frac{\\sum{(x_i - \\bar{x})(y_i - \\bar{y})}}{(N - 1)\\sqrt{\\sum{\\frac{(x_i - \\bar{x})^2}{N-1}}}\\sqrt{\\sum{\\frac{(y_i - \\bar{y})^2}{N-1}}}} $$\n",
        "\n",
        "теперь вынесем 1/ (N - 1) из под корней \n",
        "\n",
        "$$ r(x, y) = \\frac{\\sum{(x_i - \\bar{x})(y_i - \\bar{y})}}{(N - 1)\\frac{1}{(N-1)}\\sqrt{\\sum{(x_i - \\bar{x})^2}}\\sqrt{\\sum{(y_i - \\bar{y})^2}}} $$\n",
        "\n",
        "и сократим (N - 1)\n",
        "\n",
        "$$ r(x, y) = \\frac{\\sum{(x_i - \\bar{x})(y_i - \\bar{y})}}{\\sqrt{\\sum{(x_i - \\bar{x})^2}}\\sqrt{\\sum{(y_i - \\bar{y})^2}}} $$\n",
        "\n",
        "таким образом, мы сократили N - 1 в знаменателе и получили финальную формулу для коэффициента корреляции, которую вы часто сможете встретить в учебниках:\n",
        "\n",
        "$$ r(x, y) = \\frac{\\sum{(x_i - \\bar{x})(y_i - \\bar{y})}}{\\sqrt{\\sum{(x_i - \\bar{x})^2}\\sum{(y_i - \\bar{y})^2}}} $$"
      ]
    },
    {
      "cell_type": "markdown",
      "metadata": {
        "id": "KdblU2mMOCZ9"
      },
      "source": [
        "### Вычисление коэффициента корреляции в Python"
      ]
    },
    {
      "cell_type": "markdown",
      "metadata": {
        "id": "gXJlZ-97OCZ9"
      },
      "source": [
        "Чему равен коэффициент корреляции в данной выборке (попробуйте построить график для нахождения верного ответа):\n",
        "\n",
        "X Y\\\n",
        "4 2\\\n",
        "5 1\\\n",
        "2 4\\\n",
        "3 3\\\n",
        "1 5"
      ]
    },
    {
      "cell_type": "code",
      "metadata": {
        "id": "1E9VHa4yOCZ9"
      },
      "source": [
        "df = pd.DataFrame({'X': [4,5,2,3,1], 'Y': [2,1,4,3,5]})"
      ],
      "execution_count": 65,
      "outputs": []
    },
    {
      "cell_type": "code",
      "metadata": {
        "id": "x-5xNGgeOCZ9",
        "colab": {
          "base_uri": "https://localhost:8080/",
          "height": 204
        },
        "outputId": "55b7d778-48a2-4f16-cf2b-be811c50880a"
      },
      "source": [
        "df"
      ],
      "execution_count": 66,
      "outputs": [
        {
          "output_type": "execute_result",
          "data": {
            "text/html": [
              "<div>\n",
              "<style scoped>\n",
              "    .dataframe tbody tr th:only-of-type {\n",
              "        vertical-align: middle;\n",
              "    }\n",
              "\n",
              "    .dataframe tbody tr th {\n",
              "        vertical-align: top;\n",
              "    }\n",
              "\n",
              "    .dataframe thead th {\n",
              "        text-align: right;\n",
              "    }\n",
              "</style>\n",
              "<table border=\"1\" class=\"dataframe\">\n",
              "  <thead>\n",
              "    <tr style=\"text-align: right;\">\n",
              "      <th></th>\n",
              "      <th>X</th>\n",
              "      <th>Y</th>\n",
              "    </tr>\n",
              "  </thead>\n",
              "  <tbody>\n",
              "    <tr>\n",
              "      <th>0</th>\n",
              "      <td>4</td>\n",
              "      <td>2</td>\n",
              "    </tr>\n",
              "    <tr>\n",
              "      <th>1</th>\n",
              "      <td>5</td>\n",
              "      <td>1</td>\n",
              "    </tr>\n",
              "    <tr>\n",
              "      <th>2</th>\n",
              "      <td>2</td>\n",
              "      <td>4</td>\n",
              "    </tr>\n",
              "    <tr>\n",
              "      <th>3</th>\n",
              "      <td>3</td>\n",
              "      <td>3</td>\n",
              "    </tr>\n",
              "    <tr>\n",
              "      <th>4</th>\n",
              "      <td>1</td>\n",
              "      <td>5</td>\n",
              "    </tr>\n",
              "  </tbody>\n",
              "</table>\n",
              "</div>"
            ],
            "text/plain": [
              "   X  Y\n",
              "0  4  2\n",
              "1  5  1\n",
              "2  2  4\n",
              "3  3  3\n",
              "4  1  5"
            ]
          },
          "metadata": {},
          "execution_count": 66
        }
      ]
    },
    {
      "cell_type": "code",
      "metadata": {
        "id": "Lkj_KGskOCZ-",
        "colab": {
          "base_uri": "https://localhost:8080/",
          "height": 380
        },
        "outputId": "e63332ef-3642-4956-a2f2-2870def34de4"
      },
      "source": [
        "plt.scatter(x='X', y='Y', data=df)\n",
        "plt.grid()\n",
        "plt.show()"
      ],
      "execution_count": 67,
      "outputs": [
        {
          "output_type": "display_data",
          "data": {
            "image/png": "[encoded data removed]",
            "text/plain": [
              "<Figure size 864x432 with 1 Axes>"
            ]
          },
          "metadata": {}
        }
      ]
    },
    {
      "cell_type": "code",
      "metadata": {
        "id": "zftiUEOYOCZ-",
        "colab": {
          "base_uri": "https://localhost:8080/"
        },
        "outputId": "df8d3826-8f8b-486a-9277-59cbeabf68c6"
      },
      "source": [
        "# коэффициент корреляции между переменными\n",
        "r_xy = round(df['X'].corr(df['Y']), 3)\n",
        "print(f\"Коэффициент корреляции = {r_xy}\")"
      ],
      "execution_count": 68,
      "outputs": [
        {
          "output_type": "stream",
          "name": "stdout",
          "text": [
            "Коэффициент корреляции = -1.0\n"
          ]
        }
      ]
    },
    {
      "cell_type": "markdown",
      "metadata": {
        "id": "4P5q8XwaOCZ-"
      },
      "source": [
        "### Демонстрация ковариации и корреляции в Python"
      ]
    },
    {
      "cell_type": "code",
      "metadata": {
        "id": "6GcnJ0NjOCZ-"
      },
      "source": [
        "'''Демонстрация работы ковариации и корреляции'''\n",
        "\n",
        "def cov(x, y):\n",
        "    assert x.size == y.size\n",
        "    return ((x - x.mean()) * (y - y.mean())).sum() / (x.size - 1)\n",
        "\n",
        "def cor(x, y):\n",
        "    return cov(x, y) / (np.std(x, ddof=1) * np.std(y, ddof=1))\n",
        "\n",
        "# функция имитирущая случаные факторы\n",
        "# р - настолько существенным будет случайный фактор\n",
        "def randomize(arr, p):\n",
        "    alpha = np.max(arr) - np.min(arr)\n",
        "    res = np.zeros(arr.shape)\n",
        "    for i, v in enumerate(arr):\n",
        "        sign = 1 if random.choice([True, False]) else -1\n",
        "        res[i] = v + sign * alpha * random.random() * p\n",
        "    return res"
      ],
      "execution_count": 69,
      "outputs": []
    },
    {
      "cell_type": "code",
      "metadata": {
        "id": "Fdla4jGsOCZ-"
      },
      "source": [
        "x = np.array(range(30))\n",
        "y = randomize(x, 0.1)\n",
        "y1 = randomize(x, 0.5)\n",
        "y2 = randomize(x, 1)"
      ],
      "execution_count": 70,
      "outputs": []
    },
    {
      "cell_type": "code",
      "metadata": {
        "id": "c9oycNNSOCZ-",
        "colab": {
          "base_uri": "https://localhost:8080/",
          "height": 199
        },
        "outputId": "5a4ba01c-92bc-4ebe-9b25-8af6a7cd326c"
      },
      "source": [
        "fig, (ax1, ax2, ax3) = plt.subplots(1, 3, figsize=(16, 3))\n",
        "ax1.scatter(x, y)\n",
        "ax2.scatter(x, y1)\n",
        "ax3.scatter(x, y2)\n",
        "ax1.set_title(f'Высокая корреляция: cor={round(cor(x, y), 2)}, cov={round(cov(x, y), 2)}')\n",
        "ax2.set_title(f'Средняя корреляция: cor={round(cor(x, y1), 2)}, cov={round(cov(x, y1), 2)}')\n",
        "ax3.set_title(f'Низкая корреляция: cor={round(cor(x, y2), 2)}, cov={round(cov(x, y2), 2)}')\n",
        "plt.show()"
      ],
      "execution_count": 71,
      "outputs": [
        {
          "output_type": "display_data",
          "data": {
            "image/png": "[encoded data removed]",
            "text/plain": [
              "<Figure size 1152x216 with 3 Axes>"
            ]
          },
          "metadata": {}
        }
      ]
    },
    {
      "cell_type": "markdown",
      "metadata": {
        "id": "YrjQJB8COCZ_"
      },
      "source": [
        "[Визуализация изменения коэффициента корреляции в зависимости от распределения точек](https://rpsychologist.com/correlation/)\n",
        "\n",
        "**Коэффициент корреляции Пирсона (correlation)**\\\n",
        "$r_{(x, y)}$ - показатель силы и направления взаимосвязи двух количественных переменных.\n",
        "\n",
        "Знак коэффициента корреляции показывает направление взаимосвязи.\\\n",
        "При положительном значении коэффициента наблюдается положительная взаимосвязь между переменными, т.е. при **увеличении** значения первой переменной **увеличивается** значение второй переменной.\\\n",
        "При отрицательном значении коэффициента наблюдается отрицательная взаимосвязь между переменными, т.е. при **увеличении** значения первой переменной **уменьшается** значение второй переменной.\n",
        "\n",
        "Принимает значения [-1, 1]."
      ]
    },
    {
      "cell_type": "markdown",
      "metadata": {
        "id": "t5JtsFTzqhOC"
      },
      "source": [
        "## 3.2 Условия применения коэффициента корреляции\n",
        "[Вернуться к содержанию](#Содержание)"
      ]
    },
    {
      "cell_type": "markdown",
      "metadata": {
        "id": "e7bVHjcwOCZ_"
      },
      "source": [
        "Для применения **коэффициента корреляции Пирсона** необходимо:\n",
        "1. Xарактер взаимосвязи между переменными должен быть **линейным и монотонным**.\n",
        "2. **Нормальное распределение переменных** (значительные выбросы могут негативно сказаться на значении коэффициента корреляции)\n",
        "\n",
        "Перед использованием коэффициента корреляции Пирсона необходимо построить диаграмму рассеивания (scatter plot), посмотреть на характер взаимосвязи между переменными и на наличие выбросов.\n",
        "\n",
        "\n",
        "\n",
        "\n"
      ]
    },
    {
      "cell_type": "markdown",
      "metadata": {
        "id": "xmqP_4VpqmkO"
      },
      "source": [
        "### Коэффициент корреляции Спирмена"
      ]
    },
    {
      "cell_type": "markdown",
      "metadata": {
        "id": "y1A9ssu_qnEo"
      },
      "source": [
        "**Коэффициент корреляции Спирмена**\\\n",
        "Использует ранги вместо реальных значений признаков и менее чувствителен к выбросам.\n",
        "\n",
        "$$ r_{s} = 1 - \\frac{6\\sum{d_{i}^2}}{N(N^2-1)} $$\n",
        "\n",
        "$r_s$ - коэффициент корреляции Спирмена\\\n",
        "$N$ - ранг значения\\\n",
        "$d$ - разность рангов в квадрате"
      ]
    },
    {
      "cell_type": "markdown",
      "metadata": {
        "id": "mR3T24RxcRea"
      },
      "source": [
        "## 3.3 Регрессия с одной независимой переменной\n",
        "[Вернуться к содержанию](#Содержание)"
      ]
    },
    {
      "cell_type": "markdown",
      "metadata": {
        "id": "eCP_Ek30OCZ_"
      },
      "source": [
        "В этой и следующих главах мы научимся работать  с **одномерным регрессионным анализом**, который позволяет проверять гипотезы о взаимосвязи одной  количественной зависимой переменной и нескольких независимых.\n",
        "\n",
        "Сначала мы познакомимся с самым простым вариантом -  простой **линейной регрессией**, при помощи которой можно исследовать взаимосвязь двух переменных. Затем перейдем к множественной регрессии с несколькими независимыми переменными.\n",
        "\n",
        "Линейная регрессия (англ. Linear regression) — используемая в статистике регрессионная модель зависимости одной (объясняемой, зависимой) переменной $y$ от другой или нескольких других переменных (факторов, регрессоров, независимых переменных) $x$ с **линейной функцией зависимости**.\n",
        "\n",
        "В общем виде функция линейной регрессии выглядит как:\n",
        "$$ y = b_0 + b_1x $$\n",
        "$y$ - зависимая переменная\\\n",
        "$x$ - predictor - независимая переменная\\\n",
        "$b_0$ - intercept - свободный член, значение пересечения линии с осью $Y$ при $x = 0$\\\n",
        "$b_1$ - slope - задаёт наклон линии регрессии\n",
        "\n",
        "строят регрессионную прямую методом наименьших квадратов (**МНК**)\n",
        "\n",
        "**МНК** - это способ нахождения оптимальных параметров линейной регресссии ($b_0$,  $b_1$), таких, чтобы сумма квадратов ошибок (остатков) была минимальная.\n",
        "\n",
        "Расчёт параметров идёт по таким формулам:\n",
        "\n",
        "$$ b_1 = \\frac{sd_y}{sd_x}r_{xy} $$\n",
        "$$ b_0 = \\bar{Y} - b_1\\bar{X} $$"
      ]
    },
    {
      "cell_type": "code",
      "metadata": {
        "colab": {
          "base_uri": "https://localhost:8080/",
          "height": 415
        },
        "id": "ubym1NteOCZ_",
        "outputId": "803395f2-3706-42a2-f55d-a0c5c5568d3e"
      },
      "source": [
        "'''Демонстрация метода наименьших квадратов (МНК)'''\n",
        "x = np.linspace(0, 30, 30)\n",
        "y1 = randomize(x, 0.3)\n",
        "\n",
        "b1 = y1.std() / x.std() * np.corrcoef(x, y1)[0][1] # np.corrcoef(x, y1)[0][1] == stats.stats.pearsonr(x, y1)[0]\n",
        "b0 = y1.mean() - b1 * x.mean()\n",
        "\n",
        "f = lambda x: b0 + b1 * x\n",
        "y_pred = f(x)\n",
        "plt.title(f'Correlation={np.around(np.corrcoef(x, y1)[0][1], 2)}, b1={np.around(b1, 2)}, b0={np.around(b0, 2)}')\n",
        "plt.xlabel('x')\n",
        "plt.ylabel('y')\n",
        "plt.scatter(x, y1)\n",
        "plt.plot(x, y_pred, color='r')\n",
        "plt.show()"
      ],
      "execution_count": 72,
      "outputs": [
        {
          "output_type": "display_data",
          "data": {
            "image/png": "[encoded data removed]",
            "text/plain": [
              "<Figure size 864x432 with 1 Axes>"
            ]
          },
          "metadata": {}
        }
      ]
    },
    {
      "cell_type": "markdown",
      "metadata": {
        "id": "srQYBu9-cJ_M"
      },
      "source": [
        "## 3.4 Гипотеза о значимости взаимосвязи и коэффициент детерминации\n",
        "[Вернуться к содержанию](#Содержание)"
      ]
    },
    {
      "cell_type": "markdown",
      "metadata": {
        "id": "nyiXP5AXOCZ_"
      },
      "source": [
        "Если коэффициент корреляции Пирсона равен 0 ($r_{x,y} = 0$), то коэффициент $b_1$:\n",
        "\n",
        "$$ b_1 = \\frac{sd_y}{sd_x}r_{xy} = 0 $$\n",
        "\n",
        "А коэффициент $b_0$:\n",
        "\n",
        "$$ b_0 = \\bar{Y} - b_1\\bar{X} = \\bar{Y} $$\n",
        "\n",
        "t-критерий $t$:\n",
        "\n",
        "$$t = \\frac{b_1-0}{se} = \\frac{b_1}{se}$$\n",
        "\n",
        "Количество степеней свободы $df$:\n",
        "$$ df = N - 2 $$\n",
        "$N$ - количество наблюдений.\\\n",
        "Проверяя нулевую гипотезу $H_0$ об отсутствии взаимосвязи двух переменных, мы проверяем $t$ - критерий о том, что в генеральной совокупности $b_1 = 0$."
      ]
    },
    {
      "cell_type": "markdown",
      "metadata": {
        "id": "B521RW6YOCZ_"
      },
      "source": [
        "**Коэффициент детерминации (shared variance)**\\\n",
        "$R^2$ - показывает в какой степени дисперсия одной переменной обусловлена влиянием другой переменной.\n",
        "\n",
        "Равен квадрату коэффициента корреляции.\n",
        "\n",
        "$$ R^2 = r_{(x, y)}^2 = 1 - \\frac{SS_{res}}{SS_{total}} $$\n",
        "\n",
        "$ SS_{res} $ - сумма квадратов остатков - это сумма расстояний от нашего наблюдения до регрессионной прямой в квадрате.\n",
        "\n",
        "$ SS_{total} $ - сумма квадратов общей изменчивости - это сумма расстояний от нашего наблюдения до средних значений в квадрате.\n",
        "\n",
        "Принимает значения [0, 1]."
      ]
    },
    {
      "cell_type": "markdown",
      "metadata": {
        "id": "ES2Jeovcllnl"
      },
      "source": [
        "## 3.5 Условия применения линейной регрессии с одним предиктором\n",
        "[Вернуться к содержанию](#Содержание)"
      ]
    },
    {
      "cell_type": "markdown",
      "metadata": {
        "id": "JcYkic0ROCaA"
      },
      "source": [
        "### Условия применения регрессионного анализа\n",
        "\n",
        "[Визуализация разных типов зависимостей](https://gallery.shinyapps.io/slr_diag/)"
      ]
    },
    {
      "cell_type": "markdown",
      "metadata": {
        "id": "ZjOY_SRyrezd"
      },
      "source": [
        "**1. Линейная взаимосвязь X и Y**"
      ]
    },
    {
      "cell_type": "markdown",
      "metadata": {
        "id": "IRy06ZUFrOBK"
      },
      "source": [
        "<img src='https://nbviewer.jupyter.org/github/FyoklaBorschova/math_stat/blob/master/pictures/lineynost.png'>"
      ]
    },
    {
      "cell_type": "markdown",
      "metadata": {
        "id": "Ah9Yn1n4rknt"
      },
      "source": [
        "**Пути ликвидации нелинейности:**\n",
        "\n",
        "* Трансформация Тьюки (Tukey Ladder of Powers) – возведение X в степень, теряется интерпретируемость.\n",
        "* Логарифмическая трансформация (Log transformation) – взятие логарифма от X и/или Y, интерпретируемость коэффициента наклона b1:\n",
        "    - (log Y = b0 * log X) – на сколько процентов увеличится значение зависимой переменной при изменении зависимой переменной на 1%.\n",
        "    - (log Y = b0 + b1 * X) – при единичном изменении переменной X, переменная Y в среднем изменяется на 100 * b1 процентов.\n",
        "    - (Y = b0 + b1 * X) – изменение на 1% по X в среднем приводит к 0.01 * b1 изменению по переменной Y.\n",
        "* Трансформация Бокса-Кокса (Box-Cox transformation) – обычно используется для трансформации зависимой переменной в случае, если у нас есть ненормальное распределение ошибок и/или нелинейность взаимосвязи, а также в случае гетероскедастичности."
      ]
    },
    {
      "cell_type": "markdown",
      "metadata": {
        "id": "zFsVitg0saLc"
      },
      "source": [
        "**2. Независимость наблюдений.**\n",
        "\n",
        "Источники:\n",
        "\n",
        "* Повторные измерения (на разных уровнях независимой переменной): снижение чувствительности теста, искуственное увелечение мощности теста (псевдорепликация).\n",
        "* Повторные пробы (на одном и том же уровне независимой переменной): искажение результатов.\n",
        "* Кластеризация данных (нет повторных измерений, но данные взяты из нескольких гомогенных групп): искажение результатов."
      ]
    },
    {
      "cell_type": "markdown",
      "metadata": {
        "id": "6J5zYH_4tEsf"
      },
      "source": [
        "**3. Независимость предикторов. Отсутствие мультиколлинеарности – линейной зависимости между предикорами.**\n",
        "\n",
        "* Абсолютная мультиколлинеарность – корреляция между двумя предикторами равна ±1.\n",
        "* Если мы хотим только предсказывать значения, то мультиколлинеарность не проблема.\n",
        "* Для выявления можно построить корреляционную матрицу.\n",
        "* VIF (Variance Inflation Factor) – показывает, насколько хорошо предиктор объясняется другими предикторами. Если VIF > 10, то предиктор лучше исключить из модели. Квадртаный корень из VIF показывает, во сколько раз стала больше стандартная ошибка данного коэффициента, по сравнению с ситуацией, если он был независим от других предикторов.</span>"
      ]
    },
    {
      "cell_type": "markdown",
      "metadata": {
        "id": "3fQjoImdtamU"
      },
      "source": [
        "**4. Нормальное распределение остатков.**\n",
        "\n",
        "Проверка: Построить график распределения остатков: Q-Q plot (график квантиль-квантиль) или Histogramm (гистограмма)\n",
        "\n",
        "<img src='https://nbviewer.jupyter.org/github/FyoklaBorschova/math_stat/blob/master/pictures/norm_res2.png'>"
      ]
    },
    {
      "cell_type": "markdown",
      "metadata": {
        "id": "CT0AryrltkHC"
      },
      "source": [
        "**5. Гомоскедастичность**\n",
        "\n",
        "Одинаковая изменчивость зависимой переменной на всех уровнях независимой переменной (постоянная изменчивость остатков). Т.е. ведут ли себя остатки одинаково относительно прямой $y = b0 + b1 * x$ на протяжении всего регресиионого анализа.\n",
        "\n",
        "Проверка: Построить график распределения остатков Scatter plot (диаграмма рассеяния)\n",
        "\n",
        "<img src='https://nbviewer.jupyter.org/github/FyoklaBorschova/math_stat/blob/master/pictures/norm_res.png'>\n",
        "\n",
        "Если мы построим регрессию, где зависимой переменной будет квадрат остатков модели Y~X, а независимой переменной будет предиктор X, и в этой модели окажется высокий и значимый R², это означает, что в данных есть гетероскедастичность.\n",
        "\n",
        "Проверка: Тест Бройша — Пагана (Breusch-Pagan test), тест Уайта (White test)."
      ]
    },
    {
      "cell_type": "markdown",
      "metadata": {
        "id": "rV1p8lpLuHT7"
      },
      "source": [
        "**6. Отсутствие автокорреляции остатков.**"
      ]
    },
    {
      "cell_type": "markdown",
      "metadata": {
        "id": "etBTwGpSOCaA"
      },
      "source": [
        "## 3.6 Применение регрессионного анализа и интерпретация результатов\n",
        "[Вернуться к содержанию](#Содержание)"
      ]
    },
    {
      "cell_type": "code",
      "metadata": {
        "id": "VaRe-A2_OCaA",
        "colab": {
          "base_uri": "https://localhost:8080/",
          "height": 204
        },
        "outputId": "099dc963-dd79-4fa1-914e-22ac5992e010"
      },
      "source": [
        "df = pd.read_csv('http://d396qusza40orc.cloudfront.net/statistics/lec_resources/states.csv')\n",
        "df.head()"
      ],
      "execution_count": 73,
      "outputs": [
        {
          "output_type": "execute_result",
          "data": {
            "text/html": [
              "<div>\n",
              "<style scoped>\n",
              "    .dataframe tbody tr th:only-of-type {\n",
              "        vertical-align: middle;\n",
              "    }\n",
              "\n",
              "    .dataframe tbody tr th {\n",
              "        vertical-align: top;\n",
              "    }\n",
              "\n",
              "    .dataframe thead th {\n",
              "        text-align: right;\n",
              "    }\n",
              "</style>\n",
              "<table border=\"1\" class=\"dataframe\">\n",
              "  <thead>\n",
              "    <tr style=\"text-align: right;\">\n",
              "      <th></th>\n",
              "      <th>state</th>\n",
              "      <th>metro_res</th>\n",
              "      <th>white</th>\n",
              "      <th>hs_grad</th>\n",
              "      <th>poverty</th>\n",
              "      <th>female_house</th>\n",
              "    </tr>\n",
              "  </thead>\n",
              "  <tbody>\n",
              "    <tr>\n",
              "      <th>0</th>\n",
              "      <td>Alabama</td>\n",
              "      <td>55.4</td>\n",
              "      <td>71.3</td>\n",
              "      <td>79.9</td>\n",
              "      <td>14.6</td>\n",
              "      <td>14.2</td>\n",
              "    </tr>\n",
              "    <tr>\n",
              "      <th>1</th>\n",
              "      <td>Alaska</td>\n",
              "      <td>65.6</td>\n",
              "      <td>70.8</td>\n",
              "      <td>90.6</td>\n",
              "      <td>8.3</td>\n",
              "      <td>10.8</td>\n",
              "    </tr>\n",
              "    <tr>\n",
              "      <th>2</th>\n",
              "      <td>Arizona</td>\n",
              "      <td>88.2</td>\n",
              "      <td>87.7</td>\n",
              "      <td>83.8</td>\n",
              "      <td>13.3</td>\n",
              "      <td>11.1</td>\n",
              "    </tr>\n",
              "    <tr>\n",
              "      <th>3</th>\n",
              "      <td>Arkansas</td>\n",
              "      <td>52.5</td>\n",
              "      <td>81.0</td>\n",
              "      <td>80.9</td>\n",
              "      <td>18.0</td>\n",
              "      <td>12.1</td>\n",
              "    </tr>\n",
              "    <tr>\n",
              "      <th>4</th>\n",
              "      <td>California</td>\n",
              "      <td>94.4</td>\n",
              "      <td>77.5</td>\n",
              "      <td>81.1</td>\n",
              "      <td>12.8</td>\n",
              "      <td>12.6</td>\n",
              "    </tr>\n",
              "  </tbody>\n",
              "</table>\n",
              "</div>"
            ],
            "text/plain": [
              "        state  metro_res  white  hs_grad  poverty  female_house\n",
              "0     Alabama       55.4   71.3     79.9     14.6          14.2\n",
              "1      Alaska       65.6   70.8     90.6      8.3          10.8\n",
              "2     Arizona       88.2   87.7     83.8     13.3          11.1\n",
              "3    Arkansas       52.5   81.0     80.9     18.0          12.1\n",
              "4  California       94.4   77.5     81.1     12.8          12.6"
            ]
          },
          "metadata": {},
          "execution_count": 73
        }
      ]
    },
    {
      "cell_type": "markdown",
      "metadata": {
        "id": "AKvhv6O-OCaA"
      },
      "source": [
        "Есть данные по штатам с различными значениями:\n",
        " - **metro_res** - процент населения живущие в столице\n",
        " - **white** - процент белого населения\n",
        " - **hs_grad** - процент людей со средним образованием\n",
        " - **poverty** - уровень бедности\n",
        " - **female_house** - процент домов, где есть домохозяйки \n",
        " \n",
        "Исследуем связь уровня образования и бедности, где бедность будет ЗП, а уровень образования НП.\n",
        "\n",
        "Первое, что нам необходимо сделать, это построить линейную модель, которая наилучшим образом будет описывать наши данные.\n",
        "\n",
        "$$ \\hat{y} = b_0 + b_1x $$\n",
        "\n",
        "Далее, построив нашу модель, нам надо узнать, насколько хорошо наша объясняет ЗП, для этого найдём коэфицент детерминации $R^2$\n",
        "\n",
        "Проверим нулевую гипотезу:\n",
        "$$ b_1 = 0 : H0$$\n",
        "\n",
        "Третья наша задача, это задача предсказания, по данным НП мы хотим предсказать ЗП."
      ]
    },
    {
      "cell_type": "code",
      "metadata": {
        "id": "PqtewiYmOCaA",
        "colab": {
          "base_uri": "https://localhost:8080/",
          "height": 432
        },
        "outputId": "1ae1567c-f890-4ca9-d879-390bd2456c5e"
      },
      "source": [
        "sns.jointplot(x='hs_grad', y='poverty', data=df, kind='reg', color='m')\n",
        "plt.show()"
      ],
      "execution_count": 74,
      "outputs": [
        {
          "output_type": "display_data",
          "data": {
            "image/png": "[encoded data removed]",
            "text/plain": [
              "<Figure size 432x432 with 3 Axes>"
            ]
          },
          "metadata": {}
        }
      ]
    },
    {
      "cell_type": "code",
      "metadata": {
        "id": "sOKE-_d9OCaA",
        "colab": {
          "base_uri": "https://localhost:8080/",
          "height": 204
        },
        "outputId": "55bc419c-394e-4a80-c2eb-bcf06cf19277"
      },
      "source": [
        "df_descr = df.describe().transpose()\n",
        "df_descr"
      ],
      "execution_count": 75,
      "outputs": [
        {
          "output_type": "execute_result",
          "data": {
            "text/html": [
              "<div>\n",
              "<style scoped>\n",
              "    .dataframe tbody tr th:only-of-type {\n",
              "        vertical-align: middle;\n",
              "    }\n",
              "\n",
              "    .dataframe tbody tr th {\n",
              "        vertical-align: top;\n",
              "    }\n",
              "\n",
              "    .dataframe thead th {\n",
              "        text-align: right;\n",
              "    }\n",
              "</style>\n",
              "<table border=\"1\" class=\"dataframe\">\n",
              "  <thead>\n",
              "    <tr style=\"text-align: right;\">\n",
              "      <th></th>\n",
              "      <th>count</th>\n",
              "      <th>mean</th>\n",
              "      <th>std</th>\n",
              "      <th>min</th>\n",
              "      <th>25%</th>\n",
              "      <th>50%</th>\n",
              "      <th>75%</th>\n",
              "      <th>max</th>\n",
              "    </tr>\n",
              "  </thead>\n",
              "  <tbody>\n",
              "    <tr>\n",
              "      <th>metro_res</th>\n",
              "      <td>51.0</td>\n",
              "      <td>72.249020</td>\n",
              "      <td>15.275894</td>\n",
              "      <td>38.2</td>\n",
              "      <td>60.80</td>\n",
              "      <td>71.6</td>\n",
              "      <td>86.80</td>\n",
              "      <td>100.0</td>\n",
              "    </tr>\n",
              "    <tr>\n",
              "      <th>white</th>\n",
              "      <td>51.0</td>\n",
              "      <td>81.719608</td>\n",
              "      <td>13.897223</td>\n",
              "      <td>25.9</td>\n",
              "      <td>76.80</td>\n",
              "      <td>85.4</td>\n",
              "      <td>90.25</td>\n",
              "      <td>97.1</td>\n",
              "    </tr>\n",
              "    <tr>\n",
              "      <th>hs_grad</th>\n",
              "      <td>51.0</td>\n",
              "      <td>86.011765</td>\n",
              "      <td>3.725998</td>\n",
              "      <td>77.2</td>\n",
              "      <td>83.30</td>\n",
              "      <td>86.9</td>\n",
              "      <td>88.70</td>\n",
              "      <td>92.1</td>\n",
              "    </tr>\n",
              "    <tr>\n",
              "      <th>poverty</th>\n",
              "      <td>51.0</td>\n",
              "      <td>11.349020</td>\n",
              "      <td>3.099185</td>\n",
              "      <td>5.6</td>\n",
              "      <td>9.25</td>\n",
              "      <td>10.6</td>\n",
              "      <td>13.40</td>\n",
              "      <td>18.0</td>\n",
              "    </tr>\n",
              "    <tr>\n",
              "      <th>female_house</th>\n",
              "      <td>51.0</td>\n",
              "      <td>11.633333</td>\n",
              "      <td>2.356155</td>\n",
              "      <td>7.8</td>\n",
              "      <td>9.55</td>\n",
              "      <td>11.8</td>\n",
              "      <td>12.65</td>\n",
              "      <td>18.9</td>\n",
              "    </tr>\n",
              "  </tbody>\n",
              "</table>\n",
              "</div>"
            ],
            "text/plain": [
              "              count       mean        std   min    25%   50%    75%    max\n",
              "metro_res      51.0  72.249020  15.275894  38.2  60.80  71.6  86.80  100.0\n",
              "white          51.0  81.719608  13.897223  25.9  76.80  85.4  90.25   97.1\n",
              "hs_grad        51.0  86.011765   3.725998  77.2  83.30  86.9  88.70   92.1\n",
              "poverty        51.0  11.349020   3.099185   5.6   9.25  10.6  13.40   18.0\n",
              "female_house   51.0  11.633333   2.356155   7.8   9.55  11.8  12.65   18.9"
            ]
          },
          "metadata": {},
          "execution_count": 75
        }
      ]
    },
    {
      "cell_type": "code",
      "metadata": {
        "id": "PyvrTJKuOCaA",
        "colab": {
          "base_uri": "https://localhost:8080/",
          "height": 415
        },
        "outputId": "07a6a41e-95f1-4e22-c298-e2a3d8bdb954"
      },
      "source": [
        "'''Построим модель'''\n",
        "# from scipy.stats import linregress\n",
        "slope, intercept, r, p, std_err =  linregress(df['hs_grad'], df['poverty'])\n",
        "\n",
        "x = np.linspace(75, 100)\n",
        "\n",
        "reg = lambda x: intercept + slope * x\n",
        "plt.scatter(x='hs_grad', y='poverty', data=df, label='data')\n",
        "plt.xlabel('hs_grad %')\n",
        "plt.ylabel('poverty %')\n",
        "plt.title('Linear Regression')\n",
        "plt.plot(x, reg(x), color='r', label='fitted line')\n",
        "plt.legend()\n",
        "plt.show()"
      ],
      "execution_count": 76,
      "outputs": [
        {
          "output_type": "display_data",
          "data": {
            "image/png": "[encoded data removed]",
            "text/plain": [
              "<Figure size 864x432 with 1 Axes>"
            ]
          },
          "metadata": {}
        }
      ]
    },
    {
      "cell_type": "code",
      "metadata": {
        "id": "dlEyQT9cOCaB",
        "colab": {
          "base_uri": "https://localhost:8080/"
        },
        "outputId": "4973950b-127e-41dd-cacb-15447e0d6c61"
      },
      "source": [
        "print(f'''\n",
        "slope = {slope:.2f}\n",
        "intercept = {intercept:.2f}\n",
        "r = {r:.2f}\n",
        "r squared = {(r ** 2):.2f}\n",
        "p = {p:.5f}\n",
        "std_err = {std_err:.3f}\n",
        "''')"
      ],
      "execution_count": 77,
      "outputs": [
        {
          "output_type": "stream",
          "name": "stdout",
          "text": [
            "\n",
            "slope = -0.62\n",
            "intercept = 64.78\n",
            "r = -0.75\n",
            "r squared = 0.56\n",
            "p = 0.00000\n",
            "std_err = 0.079\n",
            "\n"
          ]
        }
      ]
    },
    {
      "cell_type": "markdown",
      "metadata": {
        "id": "avBRvoDpvuyt"
      },
      "source": [
        "**Вывод:**\n",
        "\n",
        "* Т.к. p-value < 0.05 , мы отклоняем нулевую гипотезу о том, что нет взаимосвязи между уровнем бедности и уровнем среднего образования.\n",
        "* В штате, где уровень людей со средним образованием будет равен нулю, будет 64.78%(=b0) людей, проживающих за чертой бедности.\n",
        "* С каждым 1% увеличения людей, имеющих среднее образование, количество людей, проживающих в бедности уменьшается на 0.62% (=b1).\n",
        "* Практически 56% (=R²) изменчивости нашей зависимой переменной объясняется нашей моделью.\n",
        "* Линия тренда y = 64.78 - 0.62 * x позволяет предсказывать значения y(∧) по интересующей нас x. (Бедность(∧) = 64.78 - 0.62 * Образование)"
      ]
    },
    {
      "cell_type": "markdown",
      "metadata": {
        "id": "R3-1iHnOwLeY"
      },
      "source": [
        "**Проверим остатки:**\n",
        "\n",
        "<img src='https://nbviewer.jupyter.org/github/FyoklaBorschova/math_stat/blob/master/pictures/res_exmpl.png'>\n",
        "\n",
        "В целом требования гомоскедастичности и нормальности распределения остатков выполнено (хотя и присутствуют заметные положительные отклонения от нуля)."
      ]
    },
    {
      "cell_type": "markdown",
      "metadata": {
        "id": "0bpix5UKOCaB"
      },
      "source": [
        "## 3.7 Задача предсказания значений зависимой переменной\n",
        "[Вернуться к содержанию](#Содержание)\n",
        "\n",
        "Линию регрессии иногда еще называют линией тренда."
      ]
    },
    {
      "cell_type": "markdown",
      "metadata": {
        "id": "8aR_w2wMltGe"
      },
      "source": [
        "## 3.8 Регрессионный анализ с несколькими независимыми переменными\n",
        "[Вернуться к содержанию](#Содержание)"
      ]
    },
    {
      "cell_type": "markdown",
      "metadata": {
        "id": "up4UOzklOCaB"
      },
      "source": [
        "### Множественная регрессия (Multiple Regression)\n",
        "\n",
        "Множественная регрессия позволяет исследовать влияние сразу нескольких независимых переменных на одну зависиммую.\n",
        "\n",
        "$$ y = b_0 + b_1x_1 + b_2x_2 + ... + b_nx_n$$\n",
        "\n",
        "$y$ - зависимая переменная\\\n",
        "$x_1, x_2, ..., x_n$ - независимые переменные"
      ]
    },
    {
      "cell_type": "markdown",
      "metadata": {
        "id": "u8EfpGMXwsAd"
      },
      "source": [
        "### Требования к данным\n",
        "\n",
        "- линейная зависимость переменных\n",
        "- нормальное распределение остатков\n",
        "- гомоскедастичность данных\n",
        "- проверка на мультиколлиарность\n",
        "- нормальное распределение переменных (желательно)"
      ]
    },
    {
      "cell_type": "markdown",
      "metadata": {
        "id": "L98dBzs-OCaB"
      },
      "source": [
        "### Пример расчёта и визуализации множественной регрессии"
      ]
    },
    {
      "cell_type": "code",
      "metadata": {
        "id": "p7ehZAfEOCaB",
        "colab": {
          "base_uri": "https://localhost:8080/",
          "height": 542
        },
        "outputId": "8c8f8740-ff2e-4acc-9629-8da40cdc1aa1"
      },
      "source": [
        "df = pd.read_csv('http://d396qusza40orc.cloudfront.net/statistics/lec_resources/states.csv')\n",
        "\n",
        "# Построим плоскость предсказания\n",
        "lm = smf.ols(formula='poverty ~ white + hs_grad', data=df).fit()\n",
        "mesh_size = 1.0\n",
        "margin = 2.0\n",
        "x_min, x_max = df.white.min()- margin, df.white.max() + margin\n",
        "y_min, y_max = df.hs_grad.min()- margin, df.hs_grad.max() + margin\n",
        "z_pred = lambda x, y: lm.params.white * x  + lm.params.hs_grad * y + lm.params.Intercept\n",
        "x_range = np.arange(x_min, x_max, mesh_size)\n",
        "y_range = np.arange(y_min, y_max, mesh_size)\n",
        "z_range = np.array([[z_pred(x, y) for x in x_range] for y in y_range])\n",
        "\n",
        "# какие значения выше предсказания, а какие ниже\n",
        "df['poverty_pred'] = np.array([poverty >= z_pred(df.white[i], df.hs_grad[i]) for i, poverty in df.poverty.items()])\n",
        "\n",
        "# составим график\n",
        "fig = px.scatter_3d(df, x='white', y='hs_grad', z='poverty',\n",
        "                    color='poverty_pred', color_discrete_sequence=['red', 'green'],\n",
        "                   title='зависиость процента белого населения и уровня образования на бедность населения')\n",
        "fig.update_traces(marker=dict(size=3))\n",
        "fig.add_traces(go.Surface(x=x_range,y=y_range, z=z_range, name='prediction', opacity=0.8))\n",
        "fig.show()\n"
      ],
      "execution_count": 78,
      "outputs": [
        {
          "output_type": "display_data",
          "data": {
            "text/html": [
              "<html>\n",
              "<head><meta charset=\"utf-8\" /></head>\n",
              "<body>\n",
              "    <div>\n",
              "            <script src=\"https://cdnjs.cloudflare.com/ajax/libs/mathjax/2.7.5/MathJax.js?config=TeX-AMS-MML_SVG\"></script><script type=\"text/javascript\">if (window.MathJax) {MathJax.Hub.Config({SVG: {font: \"STIX-Web\"}});}</script>\n",
              "                <script type=\"text/javascript\">window.PlotlyConfig = {MathJaxConfig: 'local'};</script>\n",
              "        <script src=\"https://cdn.plot.ly/plotly-latest.min.js\"></script>    \n",
              "            <div id=\"89dad044-ba63-4569-9953-0eb80594d50c\" class=\"plotly-graph-div\" style=\"height:525px; width:100%;\"></div>\n",
              "            <script type=\"text/javascript\">\n",
              "                \n",
              "                    window.PLOTLYENV=window.PLOTLYENV || {};\n",
              "                    \n",
              "                if (document.getElementById(\"89dad044-ba63-4569-9953-0eb80594d50c\")) {\n",
              "                    Plotly.newPlot(\n",
              "                        '89dad044-ba63-4569-9953-0eb80594d50c',\n",
              "                        [{\"hoverlabel\": {\"namelength\": 0}, \"hovertemplate\": \"white=%{x}<br>hs_grad=%{y}<br>poverty=%{z}<br>poverty_pred=%{marker.color}\", \"legendgroup\": \"\", \"marker\": {\"color\": [false, false, true, true, false, false, false, false, true, false, false, false, true, false, false, false, false, true, true, true, false, false, false, false, true, false, true, true, false, false, false, true, true, false, true, false, true, true, false, false, false, true, false, false, true, true, false, true, true, false, true], \"coloraxis\": \"coloraxis\", \"size\": 3, \"symbol\": \"circle\"}, \"mode\": \"markers\", \"name\": \"\", \"scene\": \"scene\", \"showlegend\": false, \"type\": \"scatter3d\", \"x\": [71.3, 70.8, 87.7, 81.0, 77.5, 90.2, 85.4, 76.3, 36.2, 80.6, 67.5, 25.9, 95.5, 79.5, 88.9, 94.9, 89.3, 90.3, 64.2, 97.1, 65.6, 87.2, 81.5, 90.2, 61.2, 85.3, 90.9, 92.1, 84.1, 96.3, 77.3, 84.9, 73.6, 74.1, 92.5, 85.4, 78.4, 90.8, 86.4, 89.2, 67.7, 88.8, 80.8, 83.6, 93.6, 96.9, 73.9, 85.5, 95.0, 90.1, 94.7], \"y\": [79.9, 90.6, 83.8, 80.9, 81.1, 88.7, 87.5, 88.7, 86.0, 84.7, 85.1, 88.5, 88.2, 85.9, 86.4, 89.7, 88.6, 82.8, 79.8, 86.6, 87.6, 87.1, 87.6, 91.6, 81.2, 88.3, 90.1, 90.8, 85.6, 92.1, 86.2, 81.7, 84.2, 81.4, 89.7, 87.2, 85.7, 86.9, 86.0, 81.0, 80.8, 88.7, 81.0, 77.2, 89.4, 88.9, 87.8, 89.1, 78.7, 88.6, 90.9], \"z\": [14.6, 8.3, 13.3, 18.0, 12.8, 9.4, 7.8, 8.1, 16.8, 12.1, 12.1, 10.6, 11.8, 11.2, 8.7, 8.3, 9.4, 13.1, 17.0, 11.3, 7.3, 9.6, 10.3, 6.5, 17.6, 9.6, 13.7, 9.5, 8.3, 5.6, 7.8, 17.8, 14.0, 13.1, 11.9, 10.1, 14.7, 11.2, 9.2, 10.3, 13.5, 10.2, 14.2, 15.3, 9.3, 9.9, 8.7, 10.8, 16.0, 8.6, 9.5]}, {\"name\": \"prediction\", \"opacity\": 0.8, \"type\": \"surface\", \"x\": [23.9, 24.9, 25.9, 26.9, 27.9, 28.9, 29.9, 30.9, 31.9, 32.9, 33.9, 34.9, 35.9, 36.9, 37.9, 38.9, 39.9, 40.9, 41.9, 42.9, 43.9, 44.9, 45.9, 46.9, 47.9, 48.9, 49.9, 50.9, 51.9, 52.9, 53.9, 54.9, 55.9, 56.9, 57.9, 58.9, 59.9, 60.9, 61.9, 62.9, 63.9, 64.9, 65.9, 66.9, 67.9, 68.9, 69.9, 70.9, 71.9, 72.9, 73.9, 74.9, 75.9, 76.9, 77.9, 78.9, 79.9, 80.9, 81.9, 82.9, 83.9, 84.9, 85.9, 86.9, 87.9, 88.9, 89.9, 90.9, 91.9, 92.9, 93.9, 94.9, 95.9, 96.9, 97.9, 98.9], \"y\": [75.2, 76.2, 77.2, 78.2, 79.2, 80.2, 81.2, 82.2, 83.2, 84.2, 85.2, 86.2, 87.2, 88.2, 89.2, 90.2, 91.2, 92.2, 93.2], \"z\": [[19.554764392496985, 19.523876261227073, 19.492988129957162, 19.462099998687258, 19.431211867417346, 19.400323736147435, 19.36943560487753, 19.33854747360762, 19.307659342337708, 19.276771211067803, 19.245883079797892, 19.21499494852798, 19.18410681725807, 19.153218685988165, 19.122330554718253, 19.091442423448342, 19.060554292178438, 19.029666160908526, 18.998778029638615, 18.96788989836871, 18.9370017670988, 18.906113635828888, 18.875225504558976, 18.844337373289072, 18.81344924201916, 18.78256111074925, 18.751672979479345, 18.720784848209433, 18.689896716939522, 18.659008585669618, 18.628120454399706, 18.597232323129795, 18.566344191859883, 18.53545606058998, 18.504567929320068, 18.473679798050156, 18.442791666780252, 18.41190353551034, 18.38101540424043, 18.350127272970525, 18.319239141700614, 18.288351010430702, 18.25746287916079, 18.226574747890886, 18.195686616620975, 18.164798485351064, 18.13391035408116, 18.103022222811248, 18.072134091541336, 18.041245960271425, 18.01035782900152, 17.97946969773161, 17.948581566461698, 17.917693435191794, 17.886805303921882, 17.85591717265197, 17.825029041382066, 17.794140910112155, 17.763252778842244, 17.73236464757234, 17.701476516302428, 17.670588385032516, 17.639700253762605, 17.6088121224927, 17.57792399122279, 17.547035859952878, 17.516147728682974, 17.485259597413062, 17.45437146614315, 17.42348333487324, 17.392595203603335, 17.361707072333424, 17.330818941063512, 17.299930809793608, 17.269042678523697, 17.238154547253785], [18.960984808658324, 18.930096677388413, 18.8992085461185, 18.868320414848597, 18.837432283578686, 18.806544152308774, 18.77565602103887, 18.74476788976896, 18.713879758499047, 18.682991627229143, 18.65210349595923, 18.62121536468932, 18.59032723341941, 18.559439102149504, 18.528550970879593, 18.49766283960968, 18.466774708339777, 18.435886577069866, 18.404998445799954, 18.37411031453005, 18.34322218326014, 18.312334051990227, 18.281445920720316, 18.25055778945041, 18.2196696581805, 18.18878152691059, 18.157893395640684, 18.127005264370773, 18.09611713310086, 18.065229001830957, 18.034340870561046, 18.003452739291134, 17.972564608021223, 17.94167647675132, 17.910788345481407, 17.879900214211496, 17.84901208294159, 17.81812395167168, 17.78723582040177, 17.756347689131864, 17.725459557861953, 17.69457142659204, 17.66368329532213, 17.632795164052226, 17.601907032782314, 17.571018901512403, 17.5401307702425, 17.509242638972587, 17.478354507702676, 17.44746637643277, 17.41657824516286, 17.38569011389295, 17.354801982623037, 17.323913851353133, 17.29302572008322, 17.26213758881331, 17.231249457543406, 17.200361326273494, 17.169473195003583, 17.13858506373367, 17.107696932463767, 17.076808801193856, 17.045920669923945, 17.01503253865404, 16.98414440738413, 16.953256276114217, 16.922368144844313, 16.8914800135744, 16.86059188230449, 16.829703751034586, 16.798815619764675, 16.767927488494763, 16.73703935722485, 16.706151225954947, 16.675263094685036, 16.644374963415125], [18.367205224819664, 18.336317093549752, 18.30542896227984, 18.274540831009936, 18.243652699740025, 18.212764568470114, 18.18187643720021, 18.150988305930298, 18.120100174660386, 18.089212043390482, 18.05832391212057, 18.02743578085066, 17.996547649580748, 17.965659518310844, 17.934771387040932, 17.90388325577102, 17.872995124501116, 17.842106993231205, 17.811218861961294, 17.78033073069139, 17.749442599421478, 17.718554468151567, 17.687666336881655, 17.65677820561175, 17.62589007434184, 17.595001943071928, 17.564113811802024, 17.533225680532112, 17.5023375492622, 17.471449417992297, 17.440561286722385, 17.409673155452474, 17.378785024182562, 17.347896892912658, 17.317008761642747, 17.286120630372835, 17.25523249910293, 17.22434436783302, 17.193456236563108, 17.162568105293204, 17.131679974023292, 17.10079184275338, 17.06990371148347, 17.039015580213565, 17.008127448943654, 16.977239317673742, 16.946351186403838, 16.915463055133927, 16.884574923864015, 16.853686792594104, 16.8227986613242, 16.791910530054288, 16.761022398784377, 16.730134267514472, 16.69924613624456, 16.66835800497465, 16.637469873704745, 16.606581742434834, 16.575693611164922, 16.544805479895018, 16.513917348625107, 16.483029217355195, 16.452141086085284, 16.42125295481538, 16.390364823545468, 16.359476692275557, 16.328588561005652, 16.29770042973574, 16.26681229846583, 16.23592416719592, 16.205036035926014, 16.174147904656103, 16.14325977338619, 16.112371642116287, 16.081483510846375, 16.050595379576464], [17.773425640981003, 17.74253750971109, 17.71164937844118, 17.680761247171276, 17.649873115901364, 17.618984984631453, 17.58809685336155, 17.557208722091637, 17.526320590821726, 17.49543245955182, 17.46454432828191, 17.433656197012, 17.402768065742087, 17.371879934472183, 17.34099180320227, 17.31010367193236, 17.279215540662456, 17.248327409392544, 17.217439278122633, 17.18655114685273, 17.155663015582817, 17.124774884312906, 17.093886753042995, 17.06299862177309, 17.03211049050318, 17.001222359233267, 16.970334227963363, 16.93944609669345, 16.90855796542354, 16.877669834153636, 16.846781702883725, 16.815893571613813, 16.7850054403439, 16.754117309073997, 16.723229177804086, 16.692341046534175, 16.66145291526427, 16.63056478399436, 16.599676652724447, 16.568788521454543, 16.53790039018463, 16.50701225891472, 16.47612412764481, 16.445235996374905, 16.414347865104993, 16.383459733835082, 16.352571602565177, 16.321683471295266, 16.290795340025355, 16.25990720875545, 16.22901907748554, 16.198130946215628, 16.167242814945716, 16.136354683675812, 16.1054665524059, 16.07457842113599, 16.043690289866085, 16.012802158596173, 15.981914027326262, 15.95102589605635, 15.920137764786446, 15.889249633516535, 15.858361502246623, 15.827473370976719, 15.796585239706808, 15.765697108436896, 15.734808977166992, 15.70392084589708, 15.673032714627169, 15.642144583357265, 15.611256452087353, 15.580368320817442, 15.54948018954753, 15.518592058277626, 15.487703927007715, 15.456815795737803], [17.179646057142342, 17.14875792587243, 17.11786979460252, 17.086981663332615, 17.056093532062704, 17.025205400792792, 16.994317269522888, 16.963429138252977, 16.932541006983065, 16.90165287571316, 16.87076474444325, 16.839876613173338, 16.808988481903427, 16.778100350633522, 16.74721221936361, 16.7163240880937, 16.685435956823795, 16.654547825553884, 16.623659694283972, 16.592771563014068, 16.561883431744157, 16.530995300474245, 16.500107169204334, 16.46921903793443, 16.43833090666452, 16.407442775394607, 16.376554644124703, 16.34566651285479, 16.31477838158488, 16.283890250314975, 16.253002119045064, 16.222113987775153, 16.19122585650524, 16.160337725235337, 16.129449593965425, 16.098561462695514, 16.06767333142561, 16.0367852001557, 16.005897068885787, 15.975008937615883, 15.944120806345971, 15.91323267507606, 15.882344543806148, 15.851456412536244, 15.820568281266333, 15.789680149996421, 15.758792018726517, 15.727903887456606, 15.697015756186694, 15.666127624916783, 15.635239493646878, 15.604351362376967, 15.573463231107056, 15.542575099837151, 15.51168696856724, 15.480798837297328, 15.449910706027424, 15.419022574757513, 15.388134443487601, 15.357246312217697, 15.326358180947786, 15.295470049677874, 15.264581918407963, 15.233693787138058, 15.202805655868147, 15.171917524598236, 15.141029393328331, 15.11014126205842, 15.079253130788508, 15.048364999518597, 15.017476868248693, 14.986588736978781, 14.95570060570887, 14.924812474438966, 14.893924343169054, 14.863036211899143], [16.585866473303682, 16.55497834203377, 16.52409021076386, 16.493202079493955, 16.462313948224043, 16.431425816954132, 16.400537685684228, 16.369649554414316, 16.338761423144405, 16.3078732918745, 16.27698516060459, 16.246097029334678, 16.215208898064766, 16.184320766794862, 16.15343263552495, 16.12254450425504, 16.091656372985135, 16.060768241715223, 16.029880110445312, 15.998991979175408, 15.968103847905496, 15.937215716635585, 15.906327585365673, 15.875439454095769, 15.844551322825858, 15.813663191555946, 15.782775060286042, 15.75188692901613, 15.720998797746219, 15.690110666476315, 15.659222535206403, 15.628334403936492, 15.59744627266658, 15.566558141396676, 15.535670010126765, 15.504781878856853, 15.47389374758695, 15.443005616317038, 15.412117485047126, 15.381229353777222, 15.35034122250731, 15.3194530912374, 15.288564959967488, 15.257676828697583, 15.226788697427672, 15.19590056615776, 15.165012434887856, 15.134124303617945, 15.103236172348034, 15.07234804107813, 15.041459909808218, 15.010571778538306, 14.979683647268395, 14.94879551599849, 14.91790738472858, 14.887019253458668, 14.856131122188764, 14.825242990918852, 14.79435485964894, 14.76346672837903, 14.732578597109125, 14.701690465839214, 14.670802334569302, 14.639914203299398, 14.609026072029486, 14.578137940759575, 14.54724980948967, 14.51636167821976, 14.485473546949848, 14.454585415679944, 14.423697284410032, 14.39280915314012, 14.36192102187021, 14.331032890600305, 14.300144759330394, 14.269256628060482], [15.992086889465021, 15.96119875819511, 15.930310626925198, 15.899422495655294, 15.868534364385383, 15.837646233115471, 15.806758101845567, 15.775869970575656, 15.744981839305744, 15.71409370803584, 15.683205576765928, 15.652317445496017, 15.621429314226106, 15.590541182956201, 15.55965305168629, 15.528764920416378, 15.497876789146474, 15.466988657876563, 15.436100526606651, 15.405212395336747, 15.374324264066836, 15.343436132796924, 15.312548001527013, 15.281659870257108, 15.250771738987197, 15.219883607717286, 15.188995476447381, 15.15810734517747, 15.127219213907559, 15.096331082637654, 15.065442951367743, 15.034554820097831, 15.00366668882792, 14.972778557558016, 14.941890426288104, 14.911002295018193, 14.880114163748289, 14.849226032478377, 14.818337901208466, 14.787449769938561, 14.75656163866865, 14.725673507398739, 14.694785376128827, 14.663897244858923, 14.633009113589011, 14.6021209823191, 14.571232851049196, 14.540344719779284, 14.509456588509373, 14.478568457239462, 14.447680325969557, 14.416792194699646, 14.385904063429734, 14.35501593215983, 14.324127800889919, 14.293239669620007, 14.262351538350103, 14.231463407080192, 14.20057527581028, 14.169687144540376, 14.138799013270464, 14.107910882000553, 14.077022750730642, 14.046134619460737, 14.015246488190826, 13.984358356920914, 13.95347022565101, 13.922582094381099, 13.891693963111187, 13.860805831841276, 13.829917700571372, 13.79902956930146, 13.768141438031549, 13.737253306761644, 13.706365175491733, 13.675477044221822], [15.39830730562636, 15.36741917435645, 15.336531043086538, 15.305642911816634, 15.274754780546722, 15.24386664927681, 15.212978518006906, 15.182090386736995, 15.151202255467084, 15.12031412419718, 15.089425992927268, 15.058537861657356, 15.027649730387445, 14.99676159911754, 14.96587346784763, 14.934985336577718, 14.904097205307814, 14.873209074037902, 14.84232094276799, 14.811432811498086, 14.780544680228175, 14.749656548958264, 14.718768417688352, 14.687880286418448, 14.656992155148536, 14.626104023878625, 14.59521589260872, 14.56432776133881, 14.533439630068898, 14.502551498798994, 14.471663367529082, 14.44077523625917, 14.40988710498926, 14.378998973719355, 14.348110842449444, 14.317222711179532, 14.286334579909628, 14.255446448639717, 14.224558317369805, 14.1936701860999, 14.16278205482999, 14.131893923560078, 14.101005792290167, 14.070117661020262, 14.03922952975035, 14.00834139848044, 13.977453267210535, 13.946565135940624, 13.915677004670712, 13.884788873400808, 13.853900742130897, 13.823012610860985, 13.792124479591074, 13.76123634832117, 13.730348217051258, 13.699460085781347, 13.668571954511442, 13.637683823241531, 13.60679569197162, 13.575907560701708, 13.545019429431804, 13.514131298161892, 13.483243166891981, 13.452355035622077, 13.421466904352165, 13.390578773082254, 13.35969064181235, 13.328802510542438, 13.297914379272527, 13.267026248002622, 13.236138116732711, 13.2052499854628, 13.174361854192888, 13.143473722922984, 13.112585591653072, 13.081697460383161], [14.8045277217877, 14.773639590517789, 14.742751459247877, 14.711863327977973, 14.680975196708062, 14.65008706543815, 14.619198934168246, 14.588310802898334, 14.557422671628423, 14.526534540358519, 14.495646409088607, 14.464758277818696, 14.433870146548784, 14.40298201527888, 14.372093884008969, 14.341205752739057, 14.310317621469153, 14.279429490199242, 14.24854135892933, 14.217653227659426, 14.186765096389514, 14.155876965119603, 14.124988833849692, 14.094100702579787, 14.063212571309876, 14.032324440039964, 14.00143630877006, 13.970548177500149, 13.939660046230237, 13.908771914960333, 13.877883783690422, 13.84699565242051, 13.816107521150599, 13.785219389880695, 13.754331258610783, 13.723443127340872, 13.692554996070967, 13.661666864801056, 13.630778733531145, 13.59989060226124, 13.569002470991329, 13.538114339721417, 13.507226208451506, 13.476338077181602, 13.44544994591169, 13.414561814641779, 13.383673683371875, 13.352785552101963, 13.321897420832052, 13.29100928956214, 13.260121158292236, 13.229233027022325, 13.198344895752413, 13.167456764482509, 13.136568633212597, 13.105680501942686, 13.074792370672782, 13.04390423940287, 13.013016108132959, 12.982127976863055, 12.951239845593143, 12.920351714323232, 12.88946358305332, 12.858575451783416, 12.827687320513505, 12.796799189243593, 12.765911057973689, 12.735022926703778, 12.704134795433866, 12.673246664163955, 12.64235853289405, 12.611470401624139, 12.580582270354228, 12.549694139084323, 12.518806007814412, 12.4879178765445], [14.21074813794904, 14.179860006679128, 14.148971875409217, 14.118083744139312, 14.087195612869401, 14.05630748159949, 14.025419350329585, 13.994531219059674, 13.963643087789762, 13.932754956519858, 13.901866825249947, 13.870978693980035, 13.840090562710124, 13.80920243144022, 13.778314300170308, 13.747426168900397, 13.716538037630492, 13.685649906360581, 13.65476177509067, 13.623873643820765, 13.592985512550854, 13.562097381280942, 13.531209250011031, 13.500321118741127, 13.469432987471215, 13.438544856201304, 13.4076567249314, 13.376768593661488, 13.345880462391577, 13.314992331121672, 13.284104199851761, 13.25321606858185, 13.222327937311938, 13.191439806042034, 13.160551674772123, 13.129663543502211, 13.098775412232307, 13.067887280962395, 13.036999149692484, 13.00611101842258, 12.975222887152668, 12.944334755882757, 12.913446624612845, 12.882558493342941, 12.85167036207303, 12.820782230803118, 12.789894099533214, 12.759005968263303, 12.728117836993391, 12.697229705723487, 12.666341574453575, 12.635453443183664, 12.604565311913753, 12.573677180643848, 12.542789049373937, 12.511900918104025, 12.481012786834121, 12.45012465556421, 12.419236524294298, 12.388348393024387, 12.357460261754483, 12.326572130484571, 12.29568399921466, 12.264795867944756, 12.233907736674844, 12.203019605404933, 12.172131474135028, 12.141243342865117, 12.110355211595206, 12.079467080325301, 12.04857894905539, 12.017690817785478, 11.986802686515567, 11.955914555245663, 11.925026423975751, 11.89413829270584], [13.616968554110379, 13.586080422840467, 13.555192291570556, 13.524304160300652, 13.49341602903074, 13.462527897760829, 13.431639766490925, 13.400751635221013, 13.369863503951102, 13.338975372681197, 13.308087241411286, 13.277199110141375, 13.246310978871463, 13.215422847601559, 13.184534716331648, 13.153646585061736, 13.122758453791832, 13.09187032252192, 13.060982191252009, 13.030094059982105, 12.999205928712193, 12.968317797442282, 12.93742966617237, 12.906541534902466, 12.875653403632555, 12.844765272362643, 12.813877141092739, 12.782989009822828, 12.752100878552916, 12.721212747283012, 12.6903246160131, 12.659436484743189, 12.628548353473278, 12.597660222203373, 12.566772090933462, 12.53588395966355, 12.504995828393646, 12.474107697123735, 12.443219565853823, 12.412331434583919, 12.381443303314008, 12.350555172044096, 12.319667040774185, 12.28877890950428, 12.25789077823437, 12.227002646964458, 12.196114515694553, 12.165226384424642, 12.13433825315473, 12.10345012188482, 12.072561990614915, 12.041673859345003, 12.010785728075092, 11.979897596805188, 11.949009465535276, 11.918121334265365, 11.88723320299546, 11.85634507172555, 11.825456940455638, 11.794568809185733, 11.763680677915822, 11.73279254664591, 11.701904415376, 11.671016284106095, 11.640128152836184, 11.609240021566272, 11.578351890296368, 11.547463759026456, 11.516575627756545, 11.485687496486634, 11.45479936521673, 11.423911233946818, 11.393023102676906, 11.362134971407002, 11.33124684013709, 11.30035870886718], [13.023188970271718, 12.992300839001807, 12.961412707731895, 12.930524576461991, 12.89963644519208, 12.868748313922168, 12.837860182652264, 12.806972051382353, 12.776083920112441, 12.745195788842537, 12.714307657572625, 12.683419526302714, 12.652531395032803, 12.621643263762898, 12.590755132492987, 12.559867001223076, 12.528978869953171, 12.49809073868326, 12.467202607413348, 12.436314476143444, 12.405426344873533, 12.374538213603621, 12.34365008233371, 12.312761951063806, 12.281873819793894, 12.250985688523983, 12.220097557254078, 12.189209425984167, 12.158321294714256, 12.127433163444351, 12.09654503217444, 12.065656900904528, 12.034768769634617, 12.003880638364713, 11.972992507094801, 11.94210437582489, 11.911216244554986, 11.880328113285074, 11.849439982015163, 11.818551850745258, 11.787663719475347, 11.756775588205436, 11.725887456935524, 11.69499932566562, 11.664111194395709, 11.633223063125797, 11.602334931855893, 11.571446800585981, 11.54055866931607, 11.509670538046166, 11.478782406776254, 11.447894275506343, 11.417006144236431, 11.386118012966527, 11.355229881696616, 11.324341750426704, 11.2934536191568, 11.262565487886889, 11.231677356616977, 11.200789225347066, 11.169901094077161, 11.13901296280725, 11.108124831537339, 11.077236700267434, 11.046348568997523, 11.015460437727612, 10.984572306457707, 10.953684175187796, 10.922796043917884, 10.89190791264798, 10.861019781378069, 10.830131650108157, 10.799243518838246, 10.768355387568342, 10.73746725629843, 10.706579125028519], [12.429409386433058, 12.398521255163146, 12.367633123893235, 12.33674499262333, 12.30585686135342, 12.274968730083508, 12.244080598813603, 12.213192467543692, 12.18230433627378, 12.151416205003876, 12.120528073733965, 12.089639942464053, 12.058751811194142, 12.027863679924238, 11.996975548654326, 11.966087417384415, 11.93519928611451, 11.9043111548446, 11.873423023574688, 11.842534892304784, 11.811646761034872, 11.78075862976496, 11.74987049849505, 11.718982367225145, 11.688094235955234, 11.657206104685322, 11.626317973415418, 11.595429842145506, 11.564541710875595, 11.53365357960569, 11.50276544833578, 11.471877317065868, 11.440989185795956, 11.410101054526052, 11.37921292325614, 11.34832479198623, 11.317436660716325, 11.286548529446414, 11.255660398176502, 11.224772266906598, 11.193884135636686, 11.162996004366775, 11.132107873096864, 11.10121974182696, 11.070331610557048, 11.039443479287137, 11.008555348017232, 10.97766721674732, 10.94677908547741, 10.915890954207498, 10.885002822937594, 10.854114691667682, 10.82322656039777, 10.792338429127867, 10.761450297857955, 10.730562166588044, 10.69967403531814, 10.668785904048228, 10.637897772778317, 10.607009641508412, 10.576121510238501, 10.54523337896859, 10.514345247698678, 10.483457116428774, 10.452568985158862, 10.421680853888951, 10.390792722619047, 10.359904591349135, 10.329016460079224, 10.298128328809312, 10.267240197539408, 10.236352066269497, 10.205463934999585, 10.174575803729681, 10.14368767245977, 10.112799541189858], [11.835629802594404, 11.804741671324493, 11.773853540054581, 11.742965408784677, 11.712077277514766, 11.681189146244854, 11.65030101497495, 11.619412883705039, 11.588524752435127, 11.557636621165223, 11.526748489895311, 11.4958603586254, 11.464972227355489, 11.434084096085584, 11.403195964815673, 11.372307833545761, 11.341419702275857, 11.310531571005946, 11.279643439736034, 11.24875530846613, 11.217867177196219, 11.186979045926307, 11.156090914656396, 11.125202783386491, 11.09431465211658, 11.063426520846669, 11.032538389576764, 11.001650258306853, 10.970762127036942, 10.939873995767037, 10.908985864497126, 10.878097733227214, 10.847209601957303, 10.816321470687399, 10.785433339417487, 10.754545208147576, 10.723657076877672, 10.69276894560776, 10.661880814337849, 10.630992683067944, 10.600104551798033, 10.569216420528122, 10.53832828925821, 10.507440157988306, 10.476552026718394, 10.445663895448483, 10.414775764178579, 10.383887632908667, 10.352999501638756, 10.322111370368845, 10.29122323909894, 10.260335107829029, 10.229446976559117, 10.198558845289213, 10.167670714019302, 10.13678258274939, 10.105894451479486, 10.075006320209575, 10.044118188939663, 10.013230057669759, 9.982341926399847, 9.951453795129936, 9.920565663860025, 9.88967753259012, 9.858789401320209, 9.827901270050297, 9.797013138780393, 9.766125007510482, 9.73523687624057, 9.704348744970659, 9.673460613700755, 9.642572482430843, 9.611684351160932, 9.580796219891027, 9.549908088621116, 9.519019957351205], [11.241850218755744, 11.210962087485832, 11.18007395621592, 11.149185824946017, 11.118297693676105, 11.087409562406194, 11.05652143113629, 11.025633299866378, 10.994745168596467, 10.963857037326562, 10.93296890605665, 10.90208077478674, 10.871192643516828, 10.840304512246924, 10.809416380977012, 10.7785282497071, 10.747640118437197, 10.716751987167285, 10.685863855897374, 10.65497572462747, 10.624087593357558, 10.593199462087647, 10.562311330817735, 10.531423199547831, 10.50053506827792, 10.469646937008008, 10.438758805738104, 10.407870674468192, 10.376982543198281, 10.346094411928377, 10.315206280658465, 10.284318149388554, 10.253430018118642, 10.222541886848738, 10.191653755578827, 10.160765624308915, 10.129877493039011, 10.0989893617691, 10.068101230499188, 10.037213099229284, 10.006324967959372, 9.975436836689461, 9.94454870541955, 9.913660574149645, 9.882772442879734, 9.851884311609822, 9.820996180339918, 9.790108049070007, 9.759219917800095, 9.728331786530191, 9.69744365526028, 9.666555523990368, 9.635667392720457, 9.604779261450552, 9.573891130180641, 9.54300299891073, 9.512114867640825, 9.481226736370914, 9.450338605101003, 9.419450473831091, 9.388562342561187, 9.357674211291275, 9.326786080021364, 9.29589794875146, 9.265009817481548, 9.234121686211637, 9.203233554941733, 9.172345423671821, 9.14145729240191, 9.110569161132005, 9.079681029862094, 9.048792898592183, 9.017904767322271, 8.987016636052367, 8.956128504782455, 8.925240373512544], [10.648070634917083, 10.617182503647172, 10.58629437237726, 10.555406241107356, 10.524518109837445, 10.493629978567533, 10.462741847297629, 10.431853716027717, 10.400965584757806, 10.370077453487902, 10.33918932221799, 10.308301190948079, 10.277413059678167, 10.246524928408263, 10.215636797138352, 10.18474866586844, 10.153860534598536, 10.122972403328625, 10.092084272058713, 10.061196140788809, 10.030308009518897, 9.999419878248986, 9.968531746979075, 9.93764361570917, 9.906755484439259, 9.875867353169347, 9.844979221899443, 9.814091090629532, 9.78320295935962, 9.752314828089716, 9.721426696819805, 9.690538565549893, 9.659650434279982, 9.628762303010078, 9.597874171740166, 9.566986040470255, 9.53609790920035, 9.505209777930439, 9.474321646660528, 9.443433515390623, 9.412545384120712, 9.3816572528508, 9.350769121580889, 9.319880990310985, 9.288992859041073, 9.258104727771162, 9.227216596501258, 9.196328465231346, 9.165440333961435, 9.134552202691523, 9.103664071421619, 9.072775940151708, 9.041887808881796, 9.010999677611892, 8.98011154634198, 8.949223415072069, 8.918335283802165, 8.887447152532253, 8.856559021262342, 8.825670889992438, 8.794782758722526, 8.763894627452615, 8.733006496182703, 8.702118364912799, 8.671230233642888, 8.640342102372976, 8.609453971103072, 8.57856583983316, 8.54767770856325, 8.516789577293338, 8.485901446023433, 8.455013314753522, 8.42412518348361, 8.393237052213706, 8.362348920943795, 8.331460789673883], [10.054291051078422, 10.023402919808511, 9.9925147885386, 9.961626657268695, 9.930738525998784, 9.899850394728873, 9.868962263458968, 9.838074132189057, 9.807186000919145, 9.776297869649241, 9.74540973837933, 9.714521607109418, 9.683633475839507, 9.652745344569603, 9.621857213299691, 9.59096908202978, 9.560080950759875, 9.529192819489964, 9.498304688220053, 9.467416556950148, 9.436528425680237, 9.405640294410325, 9.374752163140414, 9.34386403187051, 9.312975900600598, 9.282087769330687, 9.251199638060783, 9.220311506790871, 9.18942337552096, 9.158535244251055, 9.127647112981144, 9.096758981711233, 9.065870850441321, 9.034982719171417, 9.004094587901506, 8.973206456631594, 8.94231832536169, 8.911430194091778, 8.880542062821867, 8.849653931551963, 8.818765800282051, 8.78787766901214, 8.756989537742228, 8.726101406472324, 8.695213275202413, 8.664325143932501, 8.633437012662597, 8.602548881392686, 8.571660750122774, 8.54077261885287, 8.509884487582958, 8.478996356313047, 8.448108225043136, 8.417220093773231, 8.38633196250332, 8.355443831233409, 8.324555699963504, 8.293667568693593, 8.262779437423681, 8.23189130615377, 8.201003174883866, 8.170115043613954, 8.139226912344043, 8.108338781074139, 8.077450649804227, 8.046562518534316, 8.015674387264411, 7.9847862559945, 7.953898124724589, 7.923009993454684, 7.892121862184773, 7.861233730914861, 7.83034559964495, 7.799457468375046, 7.768569337105134, 7.737681205835223], [9.460511467239762, 9.42962333596985, 9.398735204699939, 9.367847073430035, 9.336958942160123, 9.306070810890212, 9.275182679620308, 9.244294548350396, 9.213406417080485, 9.18251828581058, 9.151630154540669, 9.120742023270758, 9.089853892000846, 9.058965760730942, 9.02807762946103, 8.99718949819112, 8.966301366921215, 8.935413235651303, 8.904525104381392, 8.873636973111488, 8.842748841841576, 8.811860710571665, 8.780972579301753, 8.75008444803185, 8.719196316761938, 8.688308185492026, 8.657420054222122, 8.62653192295221, 8.5956437916823, 8.564755660412395, 8.533867529142483, 8.502979397872572, 8.47209126660266, 8.441203135332756, 8.410315004062845, 8.379426872792934, 8.34853874152303, 8.317650610253118, 8.286762478983206, 8.255874347713302, 8.22498621644339, 8.19409808517348, 8.163209953903568, 8.132321822633664, 8.101433691363752, 8.07054556009384, 8.039657428823936, 8.008769297554025, 7.977881166284114, 7.946993035014202, 7.916104903744298, 7.8852167724743865, 7.854328641204475, 7.823440509934571, 7.792552378664659, 7.761664247394748, 7.730776116124844, 7.699887984854932, 7.668999853585021, 7.6381117223151165, 7.607223591045205, 7.576335459775294, 7.545447328505382, 7.514559197235478, 7.4836710659655665, 7.452782934695655, 7.421894803425751, 7.391006672155839, 7.360118540885928, 7.329230409616017, 7.298342278346112, 7.267454147076201, 7.236566015806289, 7.205677884536385, 7.174789753266474, 7.143901621996562], [8.866731883401101, 8.83584375213119, 8.804955620861278, 8.774067489591374, 8.743179358321463, 8.712291227051551, 8.681403095781647, 8.650514964511736, 8.619626833241824, 8.58873870197192, 8.557850570702008, 8.526962439432097, 8.496074308162186, 8.465186176892281, 8.43429804562237, 8.403409914352459, 8.372521783082554, 8.341633651812643, 8.310745520542731, 8.279857389272827, 8.248969258002916, 8.218081126733004, 8.187192995463093, 8.156304864193189, 8.125416732923277, 8.094528601653366, 8.063640470383461, 8.03275233911355, 8.001864207843639, 7.970976076573734, 7.940087945303823, 7.9091998140339115, 7.878311682764, 7.847423551494096, 7.816535420224184, 7.785647288954273, 7.754759157684369, 7.723871026414457, 7.692982895144546, 7.6620947638746415, 7.63120663260473, 7.600318501334819, 7.569430370064907, 7.538542238795003, 7.5076541075250915, 7.47676597625518, 7.445877844985276, 7.414989713715364, 7.384101582445453, 7.353213451175549, 7.322325319905637, 7.291437188635726, 7.2605490573658145, 7.22966092609591, 7.198772794825999, 7.167884663556087, 7.136996532286183, 7.106108401016272, 7.07522026974636, 7.044332138476449, 7.0134440072065445, 6.982555875936633, 6.951667744666722, 6.920779613396817, 6.889891482126906, 6.8590033508569945, 6.82811521958709, 6.797227088317179, 6.766338957047267, 6.735450825777363, 6.704562694507452, 6.67367456323754, 6.642786431967629, 6.6118983006977246, 6.581010169427813, 6.550122038157902]]}],\n",
              "                        {\"coloraxis\": {\"colorbar\": {\"title\": {\"text\": \"poverty_pred\"}}, \"colorscale\": [[0.0, \"#0d0887\"], [0.1111111111111111, \"#46039f\"], [0.2222222222222222, \"#7201a8\"], [0.3333333333333333, \"#9c179e\"], [0.4444444444444444, \"#bd3786\"], [0.5555555555555556, \"#d8576b\"], [0.6666666666666666, \"#ed7953\"], [0.7777777777777778, \"#fb9f3a\"], [0.8888888888888888, \"#fdca26\"], [1.0, \"#f0f921\"]]}, \"legend\": {\"tracegroupgap\": 0}, \"scene\": {\"domain\": {\"x\": [0.0, 1.0], \"y\": [0.0, 1.0]}, \"xaxis\": {\"title\": {\"text\": \"white\"}}, \"yaxis\": {\"title\": {\"text\": \"hs_grad\"}}, \"zaxis\": {\"title\": {\"text\": \"poverty\"}}}, \"template\": {\"data\": {\"bar\": [{\"error_x\": {\"color\": \"#2a3f5f\"}, \"error_y\": {\"color\": \"#2a3f5f\"}, \"marker\": {\"line\": {\"color\": \"#E5ECF6\", \"width\": 0.5}}, \"type\": \"bar\"}], \"barpolar\": [{\"marker\": {\"line\": {\"color\": \"#E5ECF6\", \"width\": 0.5}}, \"type\": \"barpolar\"}], \"carpet\": [{\"aaxis\": {\"endlinecolor\": \"#2a3f5f\", \"gridcolor\": \"white\", \"linecolor\": \"white\", \"minorgridcolor\": \"white\", \"startlinecolor\": \"#2a3f5f\"}, \"baxis\": {\"endlinecolor\": \"#2a3f5f\", \"gridcolor\": \"white\", \"linecolor\": \"white\", \"minorgridcolor\": \"white\", \"startlinecolor\": \"#2a3f5f\"}, \"type\": \"carpet\"}], \"choropleth\": [{\"colorbar\": {\"outlinewidth\": 0, \"ticks\": \"\"}, \"type\": \"choropleth\"}], \"contour\": [{\"colorbar\": {\"outlinewidth\": 0, \"ticks\": \"\"}, \"colorscale\": [[0.0, \"#0d0887\"], [0.1111111111111111, \"#46039f\"], [0.2222222222222222, \"#7201a8\"], [0.3333333333333333, \"#9c179e\"], [0.4444444444444444, \"#bd3786\"], [0.5555555555555556, \"#d8576b\"], [0.6666666666666666, \"#ed7953\"], [0.7777777777777778, \"#fb9f3a\"], [0.8888888888888888, \"#fdca26\"], [1.0, \"#f0f921\"]], \"type\": \"contour\"}], \"contourcarpet\": [{\"colorbar\": {\"outlinewidth\": 0, \"ticks\": \"\"}, \"type\": \"contourcarpet\"}], \"heatmap\": [{\"colorbar\": {\"outlinewidth\": 0, \"ticks\": \"\"}, \"colorscale\": [[0.0, \"#0d0887\"], [0.1111111111111111, \"#46039f\"], [0.2222222222222222, \"#7201a8\"], [0.3333333333333333, \"#9c179e\"], [0.4444444444444444, \"#bd3786\"], [0.5555555555555556, \"#d8576b\"], [0.6666666666666666, \"#ed7953\"], [0.7777777777777778, \"#fb9f3a\"], [0.8888888888888888, \"#fdca26\"], [1.0, \"#f0f921\"]], \"type\": \"heatmap\"}], \"heatmapgl\": [{\"colorbar\": {\"outlinewidth\": 0, \"ticks\": \"\"}, \"colorscale\": [[0.0, \"#0d0887\"], [0.1111111111111111, \"#46039f\"], [0.2222222222222222, \"#7201a8\"], [0.3333333333333333, \"#9c179e\"], [0.4444444444444444, \"#bd3786\"], [0.5555555555555556, \"#d8576b\"], [0.6666666666666666, \"#ed7953\"], [0.7777777777777778, \"#fb9f3a\"], [0.8888888888888888, \"#fdca26\"], [1.0, \"#f0f921\"]], \"type\": \"heatmapgl\"}], \"histogram\": [{\"marker\": {\"colorbar\": {\"outlinewidth\": 0, \"ticks\": \"\"}}, \"type\": \"histogram\"}], \"histogram2d\": [{\"colorbar\": {\"outlinewidth\": 0, \"ticks\": \"\"}, \"colorscale\": [[0.0, \"#0d0887\"], [0.1111111111111111, \"#46039f\"], [0.2222222222222222, \"#7201a8\"], [0.3333333333333333, \"#9c179e\"], [0.4444444444444444, \"#bd3786\"], [0.5555555555555556, \"#d8576b\"], [0.6666666666666666, \"#ed7953\"], [0.7777777777777778, \"#fb9f3a\"], [0.8888888888888888, \"#fdca26\"], [1.0, \"#f0f921\"]], \"type\": \"histogram2d\"}], \"histogram2dcontour\": [{\"colorbar\": {\"outlinewidth\": 0, \"ticks\": \"\"}, \"colorscale\": [[0.0, \"#0d0887\"], [0.1111111111111111, \"#46039f\"], [0.2222222222222222, \"#7201a8\"], [0.3333333333333333, \"#9c179e\"], [0.4444444444444444, \"#bd3786\"], [0.5555555555555556, \"#d8576b\"], [0.6666666666666666, \"#ed7953\"], [0.7777777777777778, \"#fb9f3a\"], [0.8888888888888888, \"#fdca26\"], [1.0, \"#f0f921\"]], \"type\": \"histogram2dcontour\"}], \"mesh3d\": [{\"colorbar\": {\"outlinewidth\": 0, \"ticks\": \"\"}, \"type\": \"mesh3d\"}], \"parcoords\": [{\"line\": {\"colorbar\": {\"outlinewidth\": 0, \"ticks\": \"\"}}, \"type\": \"parcoords\"}], \"pie\": [{\"automargin\": true, \"type\": \"pie\"}], \"scatter\": [{\"marker\": {\"colorbar\": {\"outlinewidth\": 0, \"ticks\": \"\"}}, \"type\": \"scatter\"}], \"scatter3d\": [{\"line\": {\"colorbar\": {\"outlinewidth\": 0, \"ticks\": \"\"}}, \"marker\": {\"colorbar\": {\"outlinewidth\": 0, \"ticks\": \"\"}}, \"type\": \"scatter3d\"}], \"scattercarpet\": [{\"marker\": {\"colorbar\": {\"outlinewidth\": 0, \"ticks\": \"\"}}, \"type\": \"scattercarpet\"}], \"scattergeo\": [{\"marker\": {\"colorbar\": {\"outlinewidth\": 0, \"ticks\": \"\"}}, \"type\": \"scattergeo\"}], \"scattergl\": [{\"marker\": {\"colorbar\": {\"outlinewidth\": 0, \"ticks\": \"\"}}, \"type\": \"scattergl\"}], \"scattermapbox\": [{\"marker\": {\"colorbar\": {\"outlinewidth\": 0, \"ticks\": \"\"}}, \"type\": \"scattermapbox\"}], \"scatterpolar\": [{\"marker\": {\"colorbar\": {\"outlinewidth\": 0, \"ticks\": \"\"}}, \"type\": \"scatterpolar\"}], \"scatterpolargl\": [{\"marker\": {\"colorbar\": {\"outlinewidth\": 0, \"ticks\": \"\"}}, \"type\": \"scatterpolargl\"}], \"scatterternary\": [{\"marker\": {\"colorbar\": {\"outlinewidth\": 0, \"ticks\": \"\"}}, \"type\": \"scatterternary\"}], \"surface\": [{\"colorbar\": {\"outlinewidth\": 0, \"ticks\": \"\"}, \"colorscale\": [[0.0, \"#0d0887\"], [0.1111111111111111, \"#46039f\"], [0.2222222222222222, \"#7201a8\"], [0.3333333333333333, \"#9c179e\"], [0.4444444444444444, \"#bd3786\"], [0.5555555555555556, \"#d8576b\"], [0.6666666666666666, \"#ed7953\"], [0.7777777777777778, \"#fb9f3a\"], [0.8888888888888888, \"#fdca26\"], [1.0, \"#f0f921\"]], \"type\": \"surface\"}], \"table\": [{\"cells\": {\"fill\": {\"color\": \"#EBF0F8\"}, \"line\": {\"color\": \"white\"}}, \"header\": {\"fill\": {\"color\": \"#C8D4E3\"}, \"line\": {\"color\": \"white\"}}, \"type\": \"table\"}]}, \"layout\": {\"annotationdefaults\": {\"arrowcolor\": \"#2a3f5f\", \"arrowhead\": 0, \"arrowwidth\": 1}, \"coloraxis\": {\"colorbar\": {\"outlinewidth\": 0, \"ticks\": \"\"}}, \"colorscale\": {\"diverging\": [[0, \"#8e0152\"], [0.1, \"#c51b7d\"], [0.2, \"#de77ae\"], [0.3, \"#f1b6da\"], [0.4, \"#fde0ef\"], [0.5, \"#f7f7f7\"], [0.6, \"#e6f5d0\"], [0.7, \"#b8e186\"], [0.8, \"#7fbc41\"], [0.9, \"#4d9221\"], [1, \"#276419\"]], \"sequential\": [[0.0, \"#0d0887\"], [0.1111111111111111, \"#46039f\"], [0.2222222222222222, \"#7201a8\"], [0.3333333333333333, \"#9c179e\"], [0.4444444444444444, \"#bd3786\"], [0.5555555555555556, \"#d8576b\"], [0.6666666666666666, \"#ed7953\"], [0.7777777777777778, \"#fb9f3a\"], [0.8888888888888888, \"#fdca26\"], [1.0, \"#f0f921\"]], \"sequentialminus\": [[0.0, \"#0d0887\"], [0.1111111111111111, \"#46039f\"], [0.2222222222222222, \"#7201a8\"], [0.3333333333333333, \"#9c179e\"], [0.4444444444444444, \"#bd3786\"], [0.5555555555555556, \"#d8576b\"], [0.6666666666666666, \"#ed7953\"], [0.7777777777777778, \"#fb9f3a\"], [0.8888888888888888, \"#fdca26\"], [1.0, \"#f0f921\"]]}, \"colorway\": [\"#636efa\", \"#EF553B\", \"#00cc96\", \"#ab63fa\", \"#FFA15A\", \"#19d3f3\", \"#FF6692\", \"#B6E880\", \"#FF97FF\", \"#FECB52\"], \"font\": {\"color\": \"#2a3f5f\"}, \"geo\": {\"bgcolor\": \"white\", \"lakecolor\": \"white\", \"landcolor\": \"#E5ECF6\", \"showlakes\": true, \"showland\": true, \"subunitcolor\": \"white\"}, \"hoverlabel\": {\"align\": \"left\"}, \"hovermode\": \"closest\", \"mapbox\": {\"style\": \"light\"}, \"paper_bgcolor\": \"white\", \"plot_bgcolor\": \"#E5ECF6\", \"polar\": {\"angularaxis\": {\"gridcolor\": \"white\", \"linecolor\": \"white\", \"ticks\": \"\"}, \"bgcolor\": \"#E5ECF6\", \"radialaxis\": {\"gridcolor\": \"white\", \"linecolor\": \"white\", \"ticks\": \"\"}}, \"scene\": {\"xaxis\": {\"backgroundcolor\": \"#E5ECF6\", \"gridcolor\": \"white\", \"gridwidth\": 2, \"linecolor\": \"white\", \"showbackground\": true, \"ticks\": \"\", \"zerolinecolor\": \"white\"}, \"yaxis\": {\"backgroundcolor\": \"#E5ECF6\", \"gridcolor\": \"white\", \"gridwidth\": 2, \"linecolor\": \"white\", \"showbackground\": true, \"ticks\": \"\", \"zerolinecolor\": \"white\"}, \"zaxis\": {\"backgroundcolor\": \"#E5ECF6\", \"gridcolor\": \"white\", \"gridwidth\": 2, \"linecolor\": \"white\", \"showbackground\": true, \"ticks\": \"\", \"zerolinecolor\": \"white\"}}, \"shapedefaults\": {\"line\": {\"color\": \"#2a3f5f\"}}, \"ternary\": {\"aaxis\": {\"gridcolor\": \"white\", \"linecolor\": \"white\", \"ticks\": \"\"}, \"baxis\": {\"gridcolor\": \"white\", \"linecolor\": \"white\", \"ticks\": \"\"}, \"bgcolor\": \"#E5ECF6\", \"caxis\": {\"gridcolor\": \"white\", \"linecolor\": \"white\", \"ticks\": \"\"}}, \"title\": {\"x\": 0.05}, \"xaxis\": {\"automargin\": true, \"gridcolor\": \"white\", \"linecolor\": \"white\", \"ticks\": \"\", \"title\": {\"standoff\": 15}, \"zerolinecolor\": \"white\", \"zerolinewidth\": 2}, \"yaxis\": {\"automargin\": true, \"gridcolor\": \"white\", \"linecolor\": \"white\", \"ticks\": \"\", \"title\": {\"standoff\": 15}, \"zerolinecolor\": \"white\", \"zerolinewidth\": 2}}}, \"title\": {\"text\": \"\\u0437\\u0430\\u0432\\u0438\\u0441\\u0438\\u043e\\u0441\\u0442\\u044c \\u043f\\u0440\\u043e\\u0446\\u0435\\u043d\\u0442\\u0430 \\u0431\\u0435\\u043b\\u043e\\u0433\\u043e \\u043d\\u0430\\u0441\\u0435\\u043b\\u0435\\u043d\\u0438\\u044f \\u0438 \\u0443\\u0440\\u043e\\u0432\\u043d\\u044f \\u043e\\u0431\\u0440\\u0430\\u0437\\u043e\\u0432\\u0430\\u043d\\u0438\\u044f \\u043d\\u0430 \\u0431\\u0435\\u0434\\u043d\\u043e\\u0441\\u0442\\u044c \\u043d\\u0430\\u0441\\u0435\\u043b\\u0435\\u043d\\u0438\\u044f\"}},\n",
              "                        {\"responsive\": true}\n",
              "                    ).then(function(){\n",
              "                            \n",
              "var gd = document.getElementById('89dad044-ba63-4569-9953-0eb80594d50c');\n",
              "var x = new MutationObserver(function (mutations, observer) {{\n",
              "        var display = window.getComputedStyle(gd).display;\n",
              "        if (!display || display === 'none') {{\n",
              "            console.log([gd, 'removed!']);\n",
              "            Plotly.purge(gd);\n",
              "            observer.disconnect();\n",
              "        }}\n",
              "}});\n",
              "\n",
              "// Listen for the removal of the full notebook cells\n",
              "var notebookContainer = gd.closest('#notebook-container');\n",
              "if (notebookContainer) {{\n",
              "    x.observe(notebookContainer, {childList: true});\n",
              "}}\n",
              "\n",
              "// Listen for the clearing of the current output cell\n",
              "var outputEl = gd.closest('.output');\n",
              "if (outputEl) {{\n",
              "    x.observe(outputEl, {childList: true});\n",
              "}}\n",
              "\n",
              "                        })\n",
              "                };\n",
              "                \n",
              "            </script>\n",
              "        </div>\n",
              "</body>\n",
              "</html>"
            ]
          },
          "metadata": {}
        }
      ]
    },
    {
      "cell_type": "code",
      "metadata": {
        "id": "Ea1cE7cEOCaB",
        "colab": {
          "base_uri": "https://localhost:8080/",
          "height": 374
        },
        "outputId": "7b40f930-cec5-42f0-d24b-3d479f2329e3"
      },
      "source": [
        "data = pd.read_csv('http://d396qusza40orc.cloudfront.net/statistics/lec_resources/states.csv')\n",
        "\n",
        "data.head()\n",
        "\n",
        "lm = smf.ols(formula='poverty ~ metro_res + hs_grad', data=data).fit()\n",
        "\n",
        "lm.params\n",
        "\n",
        "def f(x, y):\n",
        "    return lm.params.Intercept + lm.params.hs_grad * x  + lm.params.metro_res * y\n",
        "\n",
        "x = data.hs_grad.sort_values()\n",
        "y = data.metro_res.sort_values()\n",
        "\n",
        "X, Y = np.meshgrid(x, y)\n",
        "Z = f(X, Y)\n",
        "\n",
        "fig = plt.figure()\n",
        "ax = plt.axes(projection='3d')\n",
        "ax.plot_surface(X, Y, Z, alpha=0.3)\n",
        "data_below_serf = data[data['poverty'] < f(data['hs_grad'], data['metro_res'])]\n",
        "data_above_serf = data[data['poverty'] >= f(data['hs_grad'], data['metro_res'])]\n",
        "ax.scatter(data_below_serf.hs_grad, data_below_serf.metro_res, data_below_serf.poverty, c='r', marker='o')\n",
        "ax.scatter(data_above_serf.hs_grad, data_above_serf.metro_res, data_above_serf.poverty, c='g', marker='o')\n",
        "ax.set_xlabel('hs_grad')\n",
        "ax.set_ylabel('metro_res')\n",
        "ax.set_zlabel('poverty')"
      ],
      "execution_count": 79,
      "outputs": [
        {
          "output_type": "execute_result",
          "data": {
            "text/plain": [
              "Text(0.5, 0, 'poverty')"
            ]
          },
          "metadata": {},
          "execution_count": 79
        },
        {
          "output_type": "display_data",
          "data": {
            "image/png": "[encoded data removed]",
            "text/plain": [
              "<Figure size 864x432 with 1 Axes>"
            ]
          },
          "metadata": {}
        }
      ]
    },
    {
      "cell_type": "markdown",
      "metadata": {
        "id": "BHd0MysaOCaC"
      },
      "source": [
        "## 3.9 Выбор наилучшей модели\n",
        "[Вернуться к содержанию](#Содержание)"
      ]
    },
    {
      "cell_type": "markdown",
      "metadata": {
        "id": "8YYDBVRIOCaC"
      },
      "source": [
        "## 3.10 Классификация: логистическая регрессия и кластерный анализ\n",
        "[Вернуться к содержанию](#Содержание)"
      ]
    },
    {
      "cell_type": "markdown",
      "metadata": {
        "id": "3gLF1VCWmGyL"
      },
      "source": [
        "## 3.11 GLM и продвинутые темы\n",
        "[Вернуться к содержанию](#Содержание)"
      ]
    },
    {
      "cell_type": "markdown",
      "metadata": {
        "id": "GHRcjbMsOCaC"
      },
      "source": [
        "Ситуация: вы учите методы статистического анализа, впервые открываете для себя линейную регрессию. Чувство могущества может опьянять - наконец-то вы можете узнавать правду о мире с помощью математики! Но едва вы прикасаетесь к реальным данным, начинаются проблемы: распределения многих переменных не ведут себя так, как этого ожидает линейная регрессия. И с этого момента ваша жизнь становится хуже.\n",
        "\n",
        "В этом уроке разберем:\n",
        "\n",
        "● Устойчивые (Робастные) методы\\\n",
        "● Логистическая регрессия Logistic\\\n",
        "● Мультиномиальная регрессия Multinominal\\\n",
        "● Порядковая регрессия Ordinal\\\n",
        "● Регрессия Пуассона Poisson\\\n",
        "● Регрессия выживаемости Survival\n",
        "\n",
        "Урок проведет Манаенков Александр\\\n",
        "Выпускник кафедры психофизиологии факультета психологии МГУ, ментор Karpov.Courses"
      ]
    },
    {
      "cell_type": "markdown",
      "metadata": {
        "id": "aojVJOd0OCaC"
      },
      "source": [
        "Практическая часть будет реализована на Python, хотите научиться также? Посмотрите мой курс на Stepik по работе с данными в Python.\n",
        "\n",
        "Данные, презентация и скрипты из урока:\n",
        "\n",
        "- [credit_card.csv](https://stepik.org/media/attachments/course/76/credit_card__1_.csv)\n",
        "- [GLM_Presentation.pdf](https://stepik.org/media/attachments/course/76/GLM_Presentation.pdf)\n",
        "- [Sorta_GLM.ipynb](https://stepik.org/media/attachments/course/76/Sorta_GLM.ipynb) \n",
        "- [titanik_full_data (1).csv](https://stepik.org/media/attachments/course/76/titanik_full_data_1.csv)\n",
        "- https://stepik.org/media/attachments/course/76/winequality-red.csv \\\n",
        "Приятного просмотра!"
      ]
    },
    {
      "cell_type": "markdown",
      "metadata": {
        "id": "STpXEH8uOCaC"
      },
      "source": [
        "## 3.12 Заключение\n",
        "[Вернуться к содержанию](#Содержание)"
      ]
    },
    {
      "cell_type": "markdown",
      "metadata": {
        "id": "3U9REPcimQpO"
      },
      "source": [
        "# Полезные ссылки\n",
        "\n",
        "[Вернуться к содержанию](#Содержание)"
      ]
    },
    {
      "cell_type": "markdown",
      "metadata": {
        "id": "WpjjcXHAOCaC"
      },
      "source": [
        "- https://gallery.shinyapps.io/dist_calc/\n",
        "    - сайт где можно визуализировать различные распределения и вести подсчёты\n",
        "- [Основы статистики для веб-аналитика: 15 типов распределения вероятностей](https://spark.ru/startup/kinetica/blog/13462/osnovi-statistiki-dlya-veb-analitika-15-tipov-raspredeleniya-veroyatnostej)\n",
        "- [Однофакторный дисперсионный анализ: введение](https://r-analytics.blogspot.com/2013/01/blog-post.html#.WP8csEuUe70)\n",
        "- [Два однофакторных дисперсионных анализа: вычисление «вручную»](https://batrachos.com/BioStatistica_2Factors)"
      ]
    }
  ]
}